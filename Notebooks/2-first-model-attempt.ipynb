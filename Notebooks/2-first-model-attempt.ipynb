{
 "cells": [
  {
   "cell_type": "markdown",
   "id": "f011fc90",
   "metadata": {},
   "source": [
    "## Initial Modeling Attempt: Small Business Loans with Random Forrest"
   ]
  },
  {
   "cell_type": "code",
   "execution_count": 1,
   "id": "c7d1bec2",
   "metadata": {},
   "outputs": [],
   "source": [
    "import pandas as pd\n",
    "import numpy as np\n",
    "import datetime as dt\n",
    "\n",
    "from sklearn.model_selection import train_test_split\n",
    "from sklearn.preprocessing import StandardScaler\n",
    "from sklearn.ensemble import RandomForestClassifier\n",
    "from sklearn.metrics import accuracy_score\n",
    "from sklearn.pipeline import make_pipeline"
   ]
  },
  {
   "cell_type": "code",
   "execution_count": 2,
   "id": "bffdbb36",
   "metadata": {},
   "outputs": [],
   "source": [
    "df = pd.read_csv(\"../Data/Processed/sba_cleaned.csv\")"
   ]
  },
  {
   "cell_type": "markdown",
   "id": "f59b74a8",
   "metadata": {},
   "source": [
    "## Preparing the Data"
   ]
  },
  {
   "cell_type": "markdown",
   "id": "24706bd2",
   "metadata": {},
   "source": [
    "To start, we load in the cleaned data from our initial data wrangling."
   ]
  },
  {
   "cell_type": "code",
   "execution_count": 3,
   "id": "afea8014",
   "metadata": {},
   "outputs": [
    {
     "data": {
      "text/plain": [
       "Index(['Unnamed: 0', 'ID', 'Name', 'City', 'State', 'Zip', 'Bank', 'BankState',\n",
       "       'NAICS', 'ApprovalDate', 'ApprovalFY', 'Term', 'NoEmp', 'NewExist',\n",
       "       'CreateJob', 'RetainedJob', 'FranchiseCode', 'UrbanRural', 'LowDoc',\n",
       "       'ChgOffDate', 'DisbursementDate', 'DisbursementGross', 'BalanceGross',\n",
       "       'MIS_Status', 'ChgOffPrinGr', 'GrAppv', 'SBA_Appv'],\n",
       "      dtype='object')"
      ]
     },
     "execution_count": 3,
     "metadata": {},
     "output_type": "execute_result"
    }
   ],
   "source": [
    "## Recall the feature names from our data.\n",
    "df.columns"
   ]
  },
  {
   "cell_type": "code",
   "execution_count": 4,
   "id": "5127f9fc",
   "metadata": {},
   "outputs": [],
   "source": [
    "##It appears that I've accidentally added an extra column called `Unnamed: 0`! Let's remove it.\n",
    "df = df.drop(df.columns[0], axis = 1)"
   ]
  },
  {
   "cell_type": "markdown",
   "id": "45102a81",
   "metadata": {},
   "source": [
    "We choose the features to use in our model. Some features, such as `ChgOffDate` and clearly relate to the eventual fate of the loan, so are not appropriate to use in our model. Similarly, we drop `DisbursementDate`, `DisbursementGross`, `BalanceGross` and `ChgOffPrinGr`. It is not obvious whether CreateJob and RetainedJob refer to projections from the loan application, or later follow-up. We leave them in for now. To simplify the initial model, we drop `ApprovalDate` keep only `ApprovalFY`.\n",
    "\n",
    "We also remove the `ID`, `City`, `Zip`, `Bank`, `BankState` and `FranchiseCode.` These categorical variables have a large number of values, which would create memory issues with one-hot encoding.\n",
    "\n",
    "We subset on the remaining columns, and drop rows with missing values."
   ]
  },
  {
   "cell_type": "code",
   "execution_count": 5,
   "id": "750f20cc",
   "metadata": {},
   "outputs": [],
   "source": [
    "## Create list of features to use for our model\n",
    "features = ['State', 'NAICS', 'ApprovalFY', 'Term', 'NoEmp', 'NewExist', 'CreateJob', 'RetainedJob', 'UrbanRural','LowDoc', 'MIS_Status', 'GrAppv', 'SBA_Appv']"
   ]
  },
  {
   "cell_type": "code",
   "execution_count": 6,
   "id": "f3b202f3",
   "metadata": {},
   "outputs": [],
   "source": [
    "## Subset on relevant columns\n",
    "df_pred = df[features]"
   ]
  },
  {
   "cell_type": "code",
   "execution_count": 7,
   "id": "81440834",
   "metadata": {},
   "outputs": [
    {
     "data": {
      "text/plain": [
       "State              13\n",
       "NAICS          200866\n",
       "ApprovalFY          0\n",
       "Term                0\n",
       "NoEmp               0\n",
       "NewExist         1160\n",
       "CreateJob           0\n",
       "RetainedJob         0\n",
       "UrbanRural          0\n",
       "LowDoc           6007\n",
       "MIS_Status       1974\n",
       "GrAppv              0\n",
       "SBA_Appv            0\n",
       "dtype: int64"
      ]
     },
     "execution_count": 7,
     "metadata": {},
     "output_type": "execute_result"
    }
   ],
   "source": [
    "df_pred.isna().sum()"
   ]
  },
  {
   "cell_type": "code",
   "execution_count": 8,
   "id": "345bc3be",
   "metadata": {},
   "outputs": [
    {
     "data": {
      "text/plain": [
       "(898080, 13)"
      ]
     },
     "execution_count": 8,
     "metadata": {},
     "output_type": "execute_result"
    }
   ],
   "source": [
    "df_pred.shape"
   ]
  },
  {
   "cell_type": "code",
   "execution_count": 9,
   "id": "d484e864",
   "metadata": {},
   "outputs": [
    {
     "data": {
      "text/plain": [
       "0       439319\n",
       "1        88790\n",
       "2        76851\n",
       "3        49963\n",
       "4        39666\n",
       "         ...  \n",
       "183          1\n",
       "1300         1\n",
       "3200         1\n",
       "274          1\n",
       "815          1\n",
       "Name: RetainedJob, Length: 358, dtype: int64"
      ]
     },
     "execution_count": 9,
     "metadata": {},
     "output_type": "execute_result"
    }
   ],
   "source": [
    "import matplotlib.pyplot as plt\n",
    "x = df_pred.RetainedJob.value_counts()\n",
    "x"
   ]
  },
  {
   "cell_type": "code",
   "execution_count": 10,
   "id": "3f582caf",
   "metadata": {},
   "outputs": [],
   "source": [
    "## Drop rows with missing values\n",
    "df_pred = df_pred.dropna(axis = 0)"
   ]
  },
  {
   "cell_type": "markdown",
   "id": "6fd45bef",
   "metadata": {},
   "source": [
    "Since csv format does not keep track of data stypes, we must examine those and reset as needed."
   ]
  },
  {
   "cell_type": "code",
   "execution_count": 11,
   "id": "fdec1bf1",
   "metadata": {},
   "outputs": [
    {
     "data": {
      "text/plain": [
       "State           object\n",
       "NAICS          float64\n",
       "ApprovalFY      object\n",
       "Term             int64\n",
       "NoEmp            int64\n",
       "NewExist       float64\n",
       "CreateJob        int64\n",
       "RetainedJob      int64\n",
       "UrbanRural       int64\n",
       "LowDoc          object\n",
       "MIS_Status      object\n",
       "GrAppv         float64\n",
       "SBA_Appv       float64\n",
       "dtype: object"
      ]
     },
     "execution_count": 11,
     "metadata": {},
     "output_type": "execute_result"
    }
   ],
   "source": [
    "## Examine the data types.\n",
    "df_pred.dtypes"
   ]
  },
  {
   "cell_type": "code",
   "execution_count": 12,
   "id": "c305e2df",
   "metadata": {},
   "outputs": [],
   "source": [
    "## Columns to be converted to categories\n",
    "cat_cols = ['State', 'NAICS', 'NewExist', 'UrbanRural', 'LowDoc', 'MIS_Status']\n",
    "df_pred[cat_cols] = df_pred[cat_cols].apply(lambda x: x.astype('category'))"
   ]
  },
  {
   "cell_type": "code",
   "execution_count": 13,
   "id": "6b907788",
   "metadata": {},
   "outputs": [],
   "source": [
    "## Save approval year as an integer\n",
    "df_pred['ApprovalFY'] = df_pred['ApprovalFY'].apply(lambda x: int(x[:4]))"
   ]
  },
  {
   "cell_type": "code",
   "execution_count": 14,
   "id": "3d04889e",
   "metadata": {},
   "outputs": [
    {
     "data": {
      "text/plain": [
       "State          category\n",
       "NAICS          category\n",
       "ApprovalFY        int64\n",
       "Term              int64\n",
       "NoEmp             int64\n",
       "NewExist       category\n",
       "CreateJob         int64\n",
       "RetainedJob       int64\n",
       "UrbanRural     category\n",
       "LowDoc         category\n",
       "MIS_Status     category\n",
       "GrAppv          float64\n",
       "SBA_Appv        float64\n",
       "dtype: object"
      ]
     },
     "execution_count": 14,
     "metadata": {},
     "output_type": "execute_result"
    }
   ],
   "source": [
    "df_pred.dtypes"
   ]
  },
  {
   "cell_type": "markdown",
   "id": "7785af78",
   "metadata": {},
   "source": [
    "There are are a large number of NAICS codes, which may create memory issues with one-hot encoding. However, the first two digits of the NAICS code keeps track of the overeall type of industry. We simplify by replacing NAICS code with its first two digits."
   ]
  },
  {
   "cell_type": "code",
   "execution_count": 15,
   "id": "dfee80eb",
   "metadata": {},
   "outputs": [],
   "source": [
    "## First two digits of each industry code\n",
    "df_pred['Industry'] = df_pred['NAICS'].apply(lambda x: str(x)[:2])"
   ]
  },
  {
   "cell_type": "code",
   "execution_count": 16,
   "id": "7dee8a54",
   "metadata": {},
   "outputs": [],
   "source": [
    "df_pred['Industry'] = df_pred['Industry'].astype('category')"
   ]
  },
  {
   "cell_type": "code",
   "execution_count": 17,
   "id": "ffa40a1a",
   "metadata": {},
   "outputs": [],
   "source": [
    "df_pred = df_pred.drop('NAICS', axis = 1)"
   ]
  },
  {
   "cell_type": "markdown",
   "id": "53713753",
   "metadata": {},
   "source": [
    "We use one-hot encoding to encode categorical variables as numeric. "
   ]
  },
  {
   "cell_type": "code",
   "execution_count": 18,
   "id": "4b8548e6",
   "metadata": {},
   "outputs": [],
   "source": [
    "## One-hot encode categorical features\n",
    "df_features = pd.get_dummies(df_pred)"
   ]
  },
  {
   "cell_type": "code",
   "execution_count": 19,
   "id": "fd584140",
   "metadata": {},
   "outputs": [
    {
     "data": {
      "text/plain": [
       "91"
      ]
     },
     "execution_count": 19,
     "metadata": {},
     "output_type": "execute_result"
    }
   ],
   "source": [
    "## Inspect our new list of features\n",
    "df_features.columns\n",
    "len(df_features.columns)"
   ]
  },
  {
   "cell_type": "code",
   "execution_count": 20,
   "id": "5cde7294",
   "metadata": {},
   "outputs": [],
   "source": [
    "## One-hot encoding creates two columns corresponding to MIS Status.\n",
    "## Drop the MIS_Status_PIF column\n",
    "df_features = df_features.drop(df_features.columns[-25], axis = 1)"
   ]
  },
  {
   "cell_type": "code",
   "execution_count": 21,
   "id": "41602e67",
   "metadata": {},
   "outputs": [],
   "source": [
    "## Array of predictors\n",
    "X = df_features.drop('MIS_Status_CHGOFF', axis = 1).values\n",
    "labels = df_features.drop('MIS_Status_CHGOFF', axis = 1).columns"
   ]
  },
  {
   "cell_type": "code",
   "execution_count": 22,
   "id": "971d11f7",
   "metadata": {},
   "outputs": [],
   "source": [
    "## Column of labels\n",
    "y = df_features['MIS_Status_CHGOFF'].values"
   ]
  },
  {
   "cell_type": "markdown",
   "id": "bd71a89e",
   "metadata": {},
   "source": [
    "## Training the Model\n",
    "\n",
    "We train a random forrest model, using 20% of our data as a training set. We scale the features using standard scalar.\n",
    "\n",
    "Question: should the scalar be applied to columns representing categorical data?"
   ]
  },
  {
   "cell_type": "code",
   "execution_count": 23,
   "id": "3ac78992",
   "metadata": {},
   "outputs": [],
   "source": [
    "## Split data in to test and train\n",
    "## Switch to 70% training, 30 test\n",
    "X_train, X_test, y_train, y_test = train_test_split(X, y, test_size=0.2, random_state=0)"
   ]
  },
  {
   "cell_type": "code",
   "execution_count": 24,
   "id": "49a3aa9b",
   "metadata": {},
   "outputs": [],
   "source": [
    "## Fit a Random Forrest model, making sure to scale the data first\n",
    "RF_pipe = make_pipeline(\n",
    "    StandardScaler(),\n",
    "    RandomForestClassifier(random_state = 0)\n",
    ")"
   ]
  },
  {
   "cell_type": "code",
   "execution_count": 25,
   "id": "05bdebf1",
   "metadata": {},
   "outputs": [
    {
     "data": {
      "text/plain": [
       "Pipeline(steps=[('standardscaler', StandardScaler()),\n",
       "                ('randomforestclassifier',\n",
       "                 RandomForestClassifier(random_state=0))])"
      ]
     },
     "execution_count": 25,
     "metadata": {},
     "output_type": "execute_result"
    }
   ],
   "source": [
    "## Fit the model\n",
    "RF_pipe.fit(X_train, y_train)"
   ]
  },
  {
   "cell_type": "code",
   "execution_count": 26,
   "id": "f28e8914",
   "metadata": {},
   "outputs": [],
   "source": [
    "## Make predictions\n",
    "y_te_pred = RF_pipe.predict(X_test)"
   ]
  },
  {
   "cell_type": "code",
   "execution_count": 27,
   "id": "ace7b018",
   "metadata": {},
   "outputs": [
    {
     "data": {
      "text/plain": [
       "0.9295228289478454"
      ]
     },
     "execution_count": 27,
     "metadata": {},
     "output_type": "execute_result"
    }
   ],
   "source": [
    "## Acurracy score on the test set is nearly 93%. Not bad for a first try!\n",
    "accuracy_score(y_test, y_te_pred)"
   ]
  },
  {
   "cell_type": "code",
   "execution_count": 28,
   "id": "cd71263d",
   "metadata": {},
   "outputs": [
    {
     "data": {
      "text/plain": [
       "0.8158602659796157"
      ]
     },
     "execution_count": 28,
     "metadata": {},
     "output_type": "execute_result"
    }
   ],
   "source": [
    "from sklearn.metrics import f1_score\n",
    "f1_score(y_test, y_te_pred)"
   ]
  },
  {
   "cell_type": "code",
   "execution_count": 29,
   "id": "f3cf76b5",
   "metadata": {},
   "outputs": [
    {
     "data": {
      "text/plain": [
       "{'standardscaler': StandardScaler(),\n",
       " 'randomforestclassifier': RandomForestClassifier(random_state=0)}"
      ]
     },
     "execution_count": 29,
     "metadata": {},
     "output_type": "execute_result"
    }
   ],
   "source": [
    "RF_pipe.named_steps"
   ]
  },
  {
   "cell_type": "markdown",
   "id": "49b06d8b",
   "metadata": {},
   "source": [
    "### Feature Importances\n",
    "\n",
    "What features are contributing most to the model? What does this tell us?"
   ]
  },
  {
   "cell_type": "code",
   "execution_count": 30,
   "id": "c6f8c856",
   "metadata": {},
   "outputs": [],
   "source": [
    "importances = RF_pipe['randomforestclassifier'].feature_importances_\n",
    "\n",
    "## Create a data frame listing feature names and importances\n",
    "features_ranked = pd.DataFrame(zip(labels, importances), columns = ['feature name', 'importance'])"
   ]
  },
  {
   "cell_type": "code",
   "execution_count": 34,
   "id": "23ba449f",
   "metadata": {},
   "outputs": [
    {
     "data": {
      "text/html": [
       "<div>\n",
       "<style scoped>\n",
       "    .dataframe tbody tr th:only-of-type {\n",
       "        vertical-align: middle;\n",
       "    }\n",
       "\n",
       "    .dataframe tbody tr th {\n",
       "        vertical-align: top;\n",
       "    }\n",
       "\n",
       "    .dataframe thead th {\n",
       "        text-align: right;\n",
       "    }\n",
       "</style>\n",
       "<table border=\"1\" class=\"dataframe\">\n",
       "  <thead>\n",
       "    <tr style=\"text-align: right;\">\n",
       "      <th></th>\n",
       "      <th>feature name</th>\n",
       "      <th>importance</th>\n",
       "    </tr>\n",
       "  </thead>\n",
       "  <tbody>\n",
       "    <tr>\n",
       "      <th>1</th>\n",
       "      <td>Term</td>\n",
       "      <td>0.449524</td>\n",
       "    </tr>\n",
       "    <tr>\n",
       "      <th>0</th>\n",
       "      <td>ApprovalFY</td>\n",
       "      <td>0.096702</td>\n",
       "    </tr>\n",
       "    <tr>\n",
       "      <th>6</th>\n",
       "      <td>SBA_Appv</td>\n",
       "      <td>0.077033</td>\n",
       "    </tr>\n",
       "    <tr>\n",
       "      <th>5</th>\n",
       "      <td>GrAppv</td>\n",
       "      <td>0.067839</td>\n",
       "    </tr>\n",
       "    <tr>\n",
       "      <th>2</th>\n",
       "      <td>NoEmp</td>\n",
       "      <td>0.042979</td>\n",
       "    </tr>\n",
       "    <tr>\n",
       "      <th>4</th>\n",
       "      <td>RetainedJob</td>\n",
       "      <td>0.037022</td>\n",
       "    </tr>\n",
       "    <tr>\n",
       "      <th>3</th>\n",
       "      <td>CreateJob</td>\n",
       "      <td>0.024315</td>\n",
       "    </tr>\n",
       "    <tr>\n",
       "      <th>60</th>\n",
       "      <td>UrbanRural_0</td>\n",
       "      <td>0.009092</td>\n",
       "    </tr>\n",
       "    <tr>\n",
       "      <th>61</th>\n",
       "      <td>UrbanRural_1</td>\n",
       "      <td>0.007856</td>\n",
       "    </tr>\n",
       "    <tr>\n",
       "      <th>11</th>\n",
       "      <td>State_CA</td>\n",
       "      <td>0.007552</td>\n",
       "    </tr>\n",
       "    <tr>\n",
       "      <th>16</th>\n",
       "      <td>State_FL</td>\n",
       "      <td>0.005680</td>\n",
       "    </tr>\n",
       "    <tr>\n",
       "      <th>73</th>\n",
       "      <td>Industry_44</td>\n",
       "      <td>0.005628</td>\n",
       "    </tr>\n",
       "    <tr>\n",
       "      <th>86</th>\n",
       "      <td>Industry_72</td>\n",
       "      <td>0.005616</td>\n",
       "    </tr>\n",
       "    <tr>\n",
       "      <th>87</th>\n",
       "      <td>Industry_81</td>\n",
       "      <td>0.005566</td>\n",
       "    </tr>\n",
       "    <tr>\n",
       "      <th>59</th>\n",
       "      <td>NewExist_2.0</td>\n",
       "      <td>0.005282</td>\n",
       "    </tr>\n",
       "    <tr>\n",
       "      <th>68</th>\n",
       "      <td>Industry_23</td>\n",
       "      <td>0.005192</td>\n",
       "    </tr>\n",
       "    <tr>\n",
       "      <th>58</th>\n",
       "      <td>NewExist_1.0</td>\n",
       "      <td>0.005189</td>\n",
       "    </tr>\n",
       "    <tr>\n",
       "      <th>50</th>\n",
       "      <td>State_TX</td>\n",
       "      <td>0.004760</td>\n",
       "    </tr>\n",
       "    <tr>\n",
       "      <th>80</th>\n",
       "      <td>Industry_54</td>\n",
       "      <td>0.004651</td>\n",
       "    </tr>\n",
       "    <tr>\n",
       "      <th>84</th>\n",
       "      <td>Industry_62</td>\n",
       "      <td>0.004486</td>\n",
       "    </tr>\n",
       "  </tbody>\n",
       "</table>\n",
       "</div>"
      ],
      "text/plain": [
       "    feature name  importance\n",
       "1           Term    0.449524\n",
       "0     ApprovalFY    0.096702\n",
       "6       SBA_Appv    0.077033\n",
       "5         GrAppv    0.067839\n",
       "2          NoEmp    0.042979\n",
       "4    RetainedJob    0.037022\n",
       "3      CreateJob    0.024315\n",
       "60  UrbanRural_0    0.009092\n",
       "61  UrbanRural_1    0.007856\n",
       "11      State_CA    0.007552\n",
       "16      State_FL    0.005680\n",
       "73   Industry_44    0.005628\n",
       "86   Industry_72    0.005616\n",
       "87   Industry_81    0.005566\n",
       "59  NewExist_2.0    0.005282\n",
       "68   Industry_23    0.005192\n",
       "58  NewExist_1.0    0.005189\n",
       "50      State_TX    0.004760\n",
       "80   Industry_54    0.004651\n",
       "84   Industry_62    0.004486"
      ]
     },
     "execution_count": 34,
     "metadata": {},
     "output_type": "execute_result"
    }
   ],
   "source": [
    "## Print a table showing the tope 20 features\n",
    "features_ranked = features_ranked.sort_values('importance', ascending = False)\n",
    "features_ranked.head(20)"
   ]
  },
  {
   "cell_type": "code",
   "execution_count": 35,
   "id": "5cd8125b",
   "metadata": {},
   "outputs": [
    {
     "data": {
      "text/plain": [
       "Text(0, 0.5, 'Name')"
      ]
     },
     "execution_count": 35,
     "metadata": {},
     "output_type": "execute_result"
    },
    {
     "data": {
      "image/png": "[encoded data removed]",
      "text/plain": [
       "<Figure size 720x576 with 1 Axes>"
      ]
     },
     "metadata": {
      "needs_background": "light"
     },
     "output_type": "display_data"
    }
   ],
   "source": [
    "import seaborn as sns\n",
    "plt.figure(figsize=(10,8))\n",
    "top_features = features_ranked[:20]\n",
    "sns.barplot(x=top_features['importance'], y=top_features['feature name'], color = 'lightblue')\n",
    "#Add chart labels\n",
    "plt.title('Random Forrest Feature Importance')\n",
    "plt.xlabel('Importance')\n",
    "plt.ylabel('Name')"
   ]
  },
  {
   "cell_type": "markdown",
   "id": "dcd5d97c",
   "metadata": {},
   "source": [
    "We note that fiscal year is one of the most important features! This is concerning--how will a model that depends on year-by-year trends be able to predict future data? We need to account for variation between years somehow."
   ]
  },
  {
   "cell_type": "markdown",
   "id": "dd51cfb0",
   "metadata": {},
   "source": [
    "## Correlations among top features\n",
    "\n",
    "Let's see which--if any--of the top features correlate with each other. (Question: Should I remove redundant \"dummy variables\"?"
   ]
  },
  {
   "cell_type": "code",
   "execution_count": 37,
   "id": "7d73a3d3",
   "metadata": {},
   "outputs": [],
   "source": [
    "all_cols = list(top_features['feature name'])\n",
    "all_cols.append('MIS_Status_CHGOFF')\n",
    "top_cols = df_features[all_cols]"
   ]
  },
  {
   "cell_type": "code",
   "execution_count": 38,
   "id": "781d6046",
   "metadata": {
    "scrolled": true
   },
   "outputs": [
    {
     "data": {
      "image/png": "[encoded data removed]",
      "text/plain": [
       "<Figure size 576x576 with 2 Axes>"
      ]
     },
     "metadata": {
      "needs_background": "light"
     },
     "output_type": "display_data"
    }
   ],
   "source": [
    "## Plot a heatmap of top twenty features, together with loan status. There are only a few very strong correlations here.\n",
    "plt.figure(figsize = (8, 8))\n",
    "ax = sns.heatmap(top_cols.corr(), xticklabels=True, yticklabels=True, square = True)"
   ]
  },
  {
   "cell_type": "code",
   "execution_count": 42,
   "id": "ccc318f2",
   "metadata": {},
   "outputs": [],
   "source": [
    "by_year = df_features.groupby('ApprovalFY')['MIS_Status_CHGOFF'].mean()"
   ]
  },
  {
   "cell_type": "code",
   "execution_count": 43,
   "id": "7bc8bf76",
   "metadata": {
    "scrolled": true
   },
   "outputs": [
    {
     "data": {
      "image/png": "[encoded data removed]",
      "text/plain": [
       "<Figure size 432x288 with 1 Axes>"
      ]
     },
     "metadata": {
      "needs_background": "light"
     },
     "output_type": "display_data"
    }
   ],
   "source": [
    "## Plot default rates by year. We see that there is a large spike for loans approved in mid-80's, \n",
    "## and another large one for laons approved in the late 2000's.\n",
    "ax = by_year.plot(ylabel = 'Proportion of loans defaulted')"
   ]
  },
  {
   "cell_type": "code",
   "execution_count": 44,
   "id": "9741371e",
   "metadata": {},
   "outputs": [],
   "source": [
    "year_2007 = df_features.loc[df_features['ApprovalFY'] == 2007]"
   ]
  },
  {
   "cell_type": "code",
   "execution_count": 46,
   "id": "1afef311",
   "metadata": {},
   "outputs": [
    {
     "data": {
      "text/html": [
       "<div>\n",
       "<style scoped>\n",
       "    .dataframe tbody tr th:only-of-type {\n",
       "        vertical-align: middle;\n",
       "    }\n",
       "\n",
       "    .dataframe tbody tr th {\n",
       "        vertical-align: top;\n",
       "    }\n",
       "\n",
       "    .dataframe thead th {\n",
       "        text-align: right;\n",
       "    }\n",
       "</style>\n",
       "<table border=\"1\" class=\"dataframe\">\n",
       "  <thead>\n",
       "    <tr style=\"text-align: right;\">\n",
       "      <th></th>\n",
       "      <th>ApprovalFY</th>\n",
       "      <th>Term</th>\n",
       "      <th>NoEmp</th>\n",
       "      <th>CreateJob</th>\n",
       "      <th>RetainedJob</th>\n",
       "      <th>GrAppv</th>\n",
       "      <th>SBA_Appv</th>\n",
       "      <th>State_AK</th>\n",
       "      <th>State_AL</th>\n",
       "      <th>State_AR</th>\n",
       "      <th>...</th>\n",
       "      <th>Industry_53</th>\n",
       "      <th>Industry_54</th>\n",
       "      <th>Industry_55</th>\n",
       "      <th>Industry_56</th>\n",
       "      <th>Industry_61</th>\n",
       "      <th>Industry_62</th>\n",
       "      <th>Industry_71</th>\n",
       "      <th>Industry_72</th>\n",
       "      <th>Industry_81</th>\n",
       "      <th>Industry_92</th>\n",
       "    </tr>\n",
       "  </thead>\n",
       "  <tbody>\n",
       "    <tr>\n",
       "      <th>143680</th>\n",
       "      <td>2007</td>\n",
       "      <td>60</td>\n",
       "      <td>6</td>\n",
       "      <td>0</td>\n",
       "      <td>6</td>\n",
       "      <td>79500.0</td>\n",
       "      <td>67575.0</td>\n",
       "      <td>0</td>\n",
       "      <td>0</td>\n",
       "      <td>0</td>\n",
       "      <td>...</td>\n",
       "      <td>0</td>\n",
       "      <td>0</td>\n",
       "      <td>0</td>\n",
       "      <td>0</td>\n",
       "      <td>0</td>\n",
       "      <td>0</td>\n",
       "      <td>0</td>\n",
       "      <td>0</td>\n",
       "      <td>0</td>\n",
       "      <td>0</td>\n",
       "    </tr>\n",
       "    <tr>\n",
       "      <th>143681</th>\n",
       "      <td>2007</td>\n",
       "      <td>60</td>\n",
       "      <td>1</td>\n",
       "      <td>0</td>\n",
       "      <td>1</td>\n",
       "      <td>35000.0</td>\n",
       "      <td>17500.0</td>\n",
       "      <td>0</td>\n",
       "      <td>0</td>\n",
       "      <td>0</td>\n",
       "      <td>...</td>\n",
       "      <td>0</td>\n",
       "      <td>0</td>\n",
       "      <td>0</td>\n",
       "      <td>0</td>\n",
       "      <td>0</td>\n",
       "      <td>0</td>\n",
       "      <td>0</td>\n",
       "      <td>0</td>\n",
       "      <td>0</td>\n",
       "      <td>0</td>\n",
       "    </tr>\n",
       "    <tr>\n",
       "      <th>143684</th>\n",
       "      <td>2007</td>\n",
       "      <td>78</td>\n",
       "      <td>1</td>\n",
       "      <td>0</td>\n",
       "      <td>1</td>\n",
       "      <td>20000.0</td>\n",
       "      <td>10000.0</td>\n",
       "      <td>0</td>\n",
       "      <td>0</td>\n",
       "      <td>0</td>\n",
       "      <td>...</td>\n",
       "      <td>0</td>\n",
       "      <td>0</td>\n",
       "      <td>0</td>\n",
       "      <td>0</td>\n",
       "      <td>0</td>\n",
       "      <td>0</td>\n",
       "      <td>0</td>\n",
       "      <td>0</td>\n",
       "      <td>0</td>\n",
       "      <td>0</td>\n",
       "    </tr>\n",
       "    <tr>\n",
       "      <th>143685</th>\n",
       "      <td>2007</td>\n",
       "      <td>58</td>\n",
       "      <td>20</td>\n",
       "      <td>0</td>\n",
       "      <td>20</td>\n",
       "      <td>100000.0</td>\n",
       "      <td>50000.0</td>\n",
       "      <td>0</td>\n",
       "      <td>0</td>\n",
       "      <td>0</td>\n",
       "      <td>...</td>\n",
       "      <td>0</td>\n",
       "      <td>0</td>\n",
       "      <td>0</td>\n",
       "      <td>0</td>\n",
       "      <td>0</td>\n",
       "      <td>0</td>\n",
       "      <td>0</td>\n",
       "      <td>0</td>\n",
       "      <td>0</td>\n",
       "      <td>0</td>\n",
       "    </tr>\n",
       "    <tr>\n",
       "      <th>143690</th>\n",
       "      <td>2007</td>\n",
       "      <td>13</td>\n",
       "      <td>3</td>\n",
       "      <td>0</td>\n",
       "      <td>3</td>\n",
       "      <td>50000.0</td>\n",
       "      <td>25000.0</td>\n",
       "      <td>0</td>\n",
       "      <td>0</td>\n",
       "      <td>0</td>\n",
       "      <td>...</td>\n",
       "      <td>0</td>\n",
       "      <td>0</td>\n",
       "      <td>0</td>\n",
       "      <td>0</td>\n",
       "      <td>0</td>\n",
       "      <td>0</td>\n",
       "      <td>0</td>\n",
       "      <td>0</td>\n",
       "      <td>0</td>\n",
       "      <td>0</td>\n",
       "    </tr>\n",
       "    <tr>\n",
       "      <th>143693</th>\n",
       "      <td>2007</td>\n",
       "      <td>84</td>\n",
       "      <td>5</td>\n",
       "      <td>0</td>\n",
       "      <td>5</td>\n",
       "      <td>150000.0</td>\n",
       "      <td>75000.0</td>\n",
       "      <td>0</td>\n",
       "      <td>0</td>\n",
       "      <td>0</td>\n",
       "      <td>...</td>\n",
       "      <td>0</td>\n",
       "      <td>0</td>\n",
       "      <td>0</td>\n",
       "      <td>0</td>\n",
       "      <td>0</td>\n",
       "      <td>1</td>\n",
       "      <td>0</td>\n",
       "      <td>0</td>\n",
       "      <td>0</td>\n",
       "      <td>0</td>\n",
       "    </tr>\n",
       "    <tr>\n",
       "      <th>143694</th>\n",
       "      <td>2007</td>\n",
       "      <td>118</td>\n",
       "      <td>1</td>\n",
       "      <td>0</td>\n",
       "      <td>0</td>\n",
       "      <td>20000.0</td>\n",
       "      <td>10000.0</td>\n",
       "      <td>0</td>\n",
       "      <td>0</td>\n",
       "      <td>0</td>\n",
       "      <td>...</td>\n",
       "      <td>0</td>\n",
       "      <td>0</td>\n",
       "      <td>0</td>\n",
       "      <td>0</td>\n",
       "      <td>0</td>\n",
       "      <td>0</td>\n",
       "      <td>0</td>\n",
       "      <td>0</td>\n",
       "      <td>0</td>\n",
       "      <td>0</td>\n",
       "    </tr>\n",
       "    <tr>\n",
       "      <th>143697</th>\n",
       "      <td>2007</td>\n",
       "      <td>60</td>\n",
       "      <td>10</td>\n",
       "      <td>2</td>\n",
       "      <td>10</td>\n",
       "      <td>40000.0</td>\n",
       "      <td>20000.0</td>\n",
       "      <td>0</td>\n",
       "      <td>0</td>\n",
       "      <td>0</td>\n",
       "      <td>...</td>\n",
       "      <td>0</td>\n",
       "      <td>0</td>\n",
       "      <td>0</td>\n",
       "      <td>0</td>\n",
       "      <td>0</td>\n",
       "      <td>0</td>\n",
       "      <td>0</td>\n",
       "      <td>0</td>\n",
       "      <td>0</td>\n",
       "      <td>0</td>\n",
       "    </tr>\n",
       "    <tr>\n",
       "      <th>143699</th>\n",
       "      <td>2007</td>\n",
       "      <td>32</td>\n",
       "      <td>2</td>\n",
       "      <td>2</td>\n",
       "      <td>2</td>\n",
       "      <td>50000.0</td>\n",
       "      <td>25000.0</td>\n",
       "      <td>0</td>\n",
       "      <td>0</td>\n",
       "      <td>0</td>\n",
       "      <td>...</td>\n",
       "      <td>0</td>\n",
       "      <td>0</td>\n",
       "      <td>0</td>\n",
       "      <td>0</td>\n",
       "      <td>0</td>\n",
       "      <td>0</td>\n",
       "      <td>0</td>\n",
       "      <td>0</td>\n",
       "      <td>0</td>\n",
       "      <td>0</td>\n",
       "    </tr>\n",
       "    <tr>\n",
       "      <th>143703</th>\n",
       "      <td>2007</td>\n",
       "      <td>60</td>\n",
       "      <td>3</td>\n",
       "      <td>0</td>\n",
       "      <td>3</td>\n",
       "      <td>50000.0</td>\n",
       "      <td>25000.0</td>\n",
       "      <td>0</td>\n",
       "      <td>0</td>\n",
       "      <td>0</td>\n",
       "      <td>...</td>\n",
       "      <td>0</td>\n",
       "      <td>0</td>\n",
       "      <td>0</td>\n",
       "      <td>1</td>\n",
       "      <td>0</td>\n",
       "      <td>0</td>\n",
       "      <td>0</td>\n",
       "      <td>0</td>\n",
       "      <td>0</td>\n",
       "      <td>0</td>\n",
       "    </tr>\n",
       "  </tbody>\n",
       "</table>\n",
       "<p>10 rows × 90 columns</p>\n",
       "</div>"
      ],
      "text/plain": [
       "        ApprovalFY  Term  NoEmp  CreateJob  RetainedJob    GrAppv  SBA_Appv  \\\n",
       "143680        2007    60      6          0            6   79500.0   67575.0   \n",
       "143681        2007    60      1          0            1   35000.0   17500.0   \n",
       "143684        2007    78      1          0            1   20000.0   10000.0   \n",
       "143685        2007    58     20          0           20  100000.0   50000.0   \n",
       "143690        2007    13      3          0            3   50000.0   25000.0   \n",
       "143693        2007    84      5          0            5  150000.0   75000.0   \n",
       "143694        2007   118      1          0            0   20000.0   10000.0   \n",
       "143697        2007    60     10          2           10   40000.0   20000.0   \n",
       "143699        2007    32      2          2            2   50000.0   25000.0   \n",
       "143703        2007    60      3          0            3   50000.0   25000.0   \n",
       "\n",
       "        State_AK  State_AL  State_AR  ...  Industry_53  Industry_54  \\\n",
       "143680         0         0         0  ...            0            0   \n",
       "143681         0         0         0  ...            0            0   \n",
       "143684         0         0         0  ...            0            0   \n",
       "143685         0         0         0  ...            0            0   \n",
       "143690         0         0         0  ...            0            0   \n",
       "143693         0         0         0  ...            0            0   \n",
       "143694         0         0         0  ...            0            0   \n",
       "143697         0         0         0  ...            0            0   \n",
       "143699         0         0         0  ...            0            0   \n",
       "143703         0         0         0  ...            0            0   \n",
       "\n",
       "        Industry_55  Industry_56  Industry_61  Industry_62  Industry_71  \\\n",
       "143680            0            0            0            0            0   \n",
       "143681            0            0            0            0            0   \n",
       "143684            0            0            0            0            0   \n",
       "143685            0            0            0            0            0   \n",
       "143690            0            0            0            0            0   \n",
       "143693            0            0            0            1            0   \n",
       "143694            0            0            0            0            0   \n",
       "143697            0            0            0            0            0   \n",
       "143699            0            0            0            0            0   \n",
       "143703            0            1            0            0            0   \n",
       "\n",
       "        Industry_72  Industry_81  Industry_92  \n",
       "143680            0            0            0  \n",
       "143681            0            0            0  \n",
       "143684            0            0            0  \n",
       "143685            0            0            0  \n",
       "143690            0            0            0  \n",
       "143693            0            0            0  \n",
       "143694            0            0            0  \n",
       "143697            0            0            0  \n",
       "143699            0            0            0  \n",
       "143703            0            0            0  \n",
       "\n",
       "[10 rows x 90 columns]"
      ]
     },
     "execution_count": 46,
     "metadata": {},
     "output_type": "execute_result"
    }
   ],
   "source": [
    "year_2007.head(10)"
   ]
  },
  {
   "cell_type": "code",
   "execution_count": null,
   "id": "42282e2e",
   "metadata": {},
   "outputs": [],
   "source": []
  }
 ],
 "metadata": {
  "kernelspec": {
   "display_name": "Python 3",
   "language": "python",
   "name": "python3"
  },
  "language_info": {
   "codemirror_mode": {
    "name": "ipython",
    "version": 3
   },
   "file_extension": ".py",
   "mimetype": "text/x-python",
   "name": "python",
   "nbconvert_exporter": "python",
   "pygments_lexer": "ipython3",
   "version": "3.8.8"
  }
 },
 "nbformat": 4,
 "nbformat_minor": 5
}
