{
 "cells": [
  {
   "cell_type": "markdown",
   "id": "f011fc90",
   "metadata": {},
   "source": [
    "## Initial Modeling Attempt: Small Business Loans with Random Forrest"
   ]
  },
  {
   "cell_type": "code",
   "execution_count": 1,
   "id": "c7d1bec2",
   "metadata": {},
   "outputs": [],
   "source": [
    "import pandas as pd\n",
    "import numpy as np\n",
    "import datetime as dt\n",
    "\n",
    "from sklearn.model_selection import train_test_split\n",
    "from sklearn.preprocessing import StandardScaler\n",
    "from sklearn.ensemble import RandomForestClassifier\n",
    "from sklearn.metrics import accuracy_score\n",
    "from sklearn.pipeline import make_pipeline"
   ]
  },
  {
   "cell_type": "code",
   "execution_count": 2,
   "id": "bffdbb36",
   "metadata": {},
   "outputs": [],
   "source": [
    "df = pd.read_csv(\"../Data/Processed/sba_cleaned.csv\")"
   ]
  },
  {
   "cell_type": "markdown",
   "id": "f59b74a8",
   "metadata": {},
   "source": [
    "## Preparing the Data"
   ]
  },
  {
   "cell_type": "markdown",
   "id": "24706bd2",
   "metadata": {},
   "source": [
    "To start, we load in the cleaned data from our initial data wrangling."
   ]
  },
  {
   "cell_type": "code",
   "execution_count": 3,
   "id": "afea8014",
   "metadata": {},
   "outputs": [
    {
     "data": {
      "text/plain": [
       "Index(['Unnamed: 0', 'ID', 'Name', 'City', 'State', 'Zip', 'Bank', 'BankState',\n",
       "       'NAICS', 'ApprovalDate', 'ApprovalFY', 'Term', 'NoEmp', 'NewExist',\n",
       "       'CreateJob', 'RetainedJob', 'FranchiseCode', 'UrbanRural', 'LowDoc',\n",
       "       'ChgOffDate', 'DisbursementDate', 'DisbursementGross', 'BalanceGross',\n",
       "       'MIS_Status', 'ChgOffPrinGr', 'GrAppv', 'SBA_Appv'],\n",
       "      dtype='object')"
      ]
     },
     "execution_count": 3,
     "metadata": {},
     "output_type": "execute_result"
    }
   ],
   "source": [
    "## Recall the feature names from our data.\n",
    "df.columns"
   ]
  },
  {
   "cell_type": "code",
   "execution_count": 4,
   "id": "5127f9fc",
   "metadata": {},
   "outputs": [],
   "source": [
    "##It appears that I've accidentally added an extra column called `Unnamed: 0`! Let's remove it.\n",
    "df = df.drop(df.columns[0], axis = 1)"
   ]
  },
  {
   "cell_type": "markdown",
   "id": "45102a81",
   "metadata": {},
   "source": [
    "We choose the features to use in our model. Some features, such as `ChgOffDate` and clearly relate to the eventual fate of the loan, so are not appropriate to use in our model. Similarly, we drop `DisbursementDate`, `DisbursementGross`, `BalanceGross` and `ChgOffPrinGr`. It is not obvious whether CreateJob and RetainedJob refer to projections from the loan application, or later follow-up. We leave them in for now. To simplify the initial model, we drop `ApprovalDate` keep only `ApprovalFY`.\n",
    "\n",
    "We also remove the `ID`, `City`, `Zip`, `Bank`, `BankState` and `FranchiseCode.` These categorical variables have a large number of values, which would create memory issues with one-hot encoding.\n",
    "\n",
    "We subset on the remaining columns, and drop rows with missing values."
   ]
  },
  {
   "cell_type": "code",
   "execution_count": 5,
   "id": "750f20cc",
   "metadata": {},
   "outputs": [],
   "source": [
    "## Create list of features to use for our model\n",
    "features = ['State', 'NAICS', 'ApprovalFY', 'Term', 'NoEmp', 'NewExist', 'CreateJob', 'RetainedJob', 'UrbanRural','LowDoc', 'MIS_Status', 'GrAppv', 'SBA_Appv']"
   ]
  },
  {
   "cell_type": "code",
   "execution_count": 6,
   "id": "f3b202f3",
   "metadata": {},
   "outputs": [],
   "source": [
    "## Subset on relevant columns\n",
    "df_pred = df[features]"
   ]
  },
  {
   "cell_type": "code",
   "execution_count": 7,
   "id": "3f582caf",
   "metadata": {},
   "outputs": [],
   "source": [
    "## Drop rows with missing values\n",
    "df_pred = df_pred.dropna(axis = 0)"
   ]
  },
  {
   "cell_type": "markdown",
   "id": "6fd45bef",
   "metadata": {},
   "source": [
    "Since csv format does not keep track of data stypes, we must examine those and reset as needed."
   ]
  },
  {
   "cell_type": "code",
   "execution_count": 8,
   "id": "fdec1bf1",
   "metadata": {},
   "outputs": [
    {
     "data": {
      "text/plain": [
       "State           object\n",
       "NAICS          float64\n",
       "ApprovalFY      object\n",
       "Term             int64\n",
       "NoEmp            int64\n",
       "NewExist       float64\n",
       "CreateJob        int64\n",
       "RetainedJob      int64\n",
       "UrbanRural       int64\n",
       "LowDoc          object\n",
       "MIS_Status      object\n",
       "GrAppv         float64\n",
       "SBA_Appv       float64\n",
       "dtype: object"
      ]
     },
     "execution_count": 8,
     "metadata": {},
     "output_type": "execute_result"
    }
   ],
   "source": [
    "## Examine the data types.\n",
    "df_pred.dtypes"
   ]
  },
  {
   "cell_type": "code",
   "execution_count": 9,
   "id": "c305e2df",
   "metadata": {},
   "outputs": [],
   "source": [
    "## Columns to be converted to categories\n",
    "cat_cols = ['State', 'NAICS', 'NewExist', 'UrbanRural', 'LowDoc', 'MIS_Status']\n",
    "df_pred[cat_cols] = df_pred[cat_cols].apply(lambda x: x.astype('category'))"
   ]
  },
  {
   "cell_type": "code",
   "execution_count": 10,
   "id": "6b907788",
   "metadata": {},
   "outputs": [],
   "source": [
    "## Save approval year as an integer\n",
    "df_pred['ApprovalFY'] = df_pred['ApprovalFY'].apply(lambda x: int(x[:4]))"
   ]
  },
  {
   "cell_type": "code",
   "execution_count": 11,
   "id": "3d04889e",
   "metadata": {},
   "outputs": [
    {
     "data": {
      "text/plain": [
       "State          category\n",
       "NAICS          category\n",
       "ApprovalFY        int64\n",
       "Term              int64\n",
       "NoEmp             int64\n",
       "NewExist       category\n",
       "CreateJob         int64\n",
       "RetainedJob       int64\n",
       "UrbanRural     category\n",
       "LowDoc         category\n",
       "MIS_Status     category\n",
       "GrAppv          float64\n",
       "SBA_Appv        float64\n",
       "dtype: object"
      ]
     },
     "execution_count": 11,
     "metadata": {},
     "output_type": "execute_result"
    }
   ],
   "source": [
    "df_pred.dtypes"
   ]
  },
  {
   "cell_type": "markdown",
   "id": "7785af78",
   "metadata": {},
   "source": [
    "There are are a large number of NAICS codes, which may create memory issues with one-hot encoding. However, the first two digits of the NAICS code keeps track of the overeall type of industry. We simplify by replacing NAICS code with its first two digits."
   ]
  },
  {
   "cell_type": "code",
   "execution_count": 12,
   "id": "dfee80eb",
   "metadata": {},
   "outputs": [],
   "source": [
    "## First two digits of each industry code\n",
    "df_pred['Industry'] = df_pred['NAICS'].apply(lambda x: str(x)[:2])"
   ]
  },
  {
   "cell_type": "code",
   "execution_count": 13,
   "id": "7dee8a54",
   "metadata": {},
   "outputs": [],
   "source": [
    "df_pred['Industry'] = df_pred['Industry'].astype('category')"
   ]
  },
  {
   "cell_type": "code",
   "execution_count": 14,
   "id": "ffa40a1a",
   "metadata": {},
   "outputs": [],
   "source": [
    "df_pred = df_pred.drop('NAICS', axis = 1)"
   ]
  },
  {
   "cell_type": "markdown",
   "id": "53713753",
   "metadata": {},
   "source": [
    "We use one-hot encoding to encode categorical variables as numeric. "
   ]
  },
  {
   "cell_type": "code",
   "execution_count": 15,
   "id": "4b8548e6",
   "metadata": {},
   "outputs": [],
   "source": [
    "## One-hot encode categorical features\n",
    "df_features = pd.get_dummies(df_pred)"
   ]
  },
  {
   "cell_type": "code",
   "execution_count": 16,
   "id": "fd584140",
   "metadata": {},
   "outputs": [
    {
     "data": {
      "text/plain": [
       "Index(['ApprovalFY', 'Term', 'NoEmp', 'CreateJob', 'RetainedJob', 'GrAppv',\n",
       "       'SBA_Appv', 'State_AK', 'State_AL', 'State_AR', 'State_AZ', 'State_CA',\n",
       "       'State_CO', 'State_CT', 'State_DC', 'State_DE', 'State_FL', 'State_GA',\n",
       "       'State_HI', 'State_IA', 'State_ID', 'State_IL', 'State_IN', 'State_KS',\n",
       "       'State_KY', 'State_LA', 'State_MA', 'State_MD', 'State_ME', 'State_MI',\n",
       "       'State_MN', 'State_MO', 'State_MS', 'State_MT', 'State_NC', 'State_ND',\n",
       "       'State_NE', 'State_NH', 'State_NJ', 'State_NM', 'State_NV', 'State_NY',\n",
       "       'State_OH', 'State_OK', 'State_OR', 'State_PA', 'State_RI', 'State_SC',\n",
       "       'State_SD', 'State_TN', 'State_TX', 'State_UT', 'State_VA', 'State_VT',\n",
       "       'State_WA', 'State_WI', 'State_WV', 'State_WY', 'NewExist_1.0',\n",
       "       'NewExist_2.0', 'UrbanRural_0', 'UrbanRural_1', 'UrbanRural_2',\n",
       "       'LowDoc_N', 'LowDoc_Y', 'MIS_Status_CHGOFF', 'MIS_Status_P I F',\n",
       "       'Industry_11', 'Industry_21', 'Industry_22', 'Industry_23',\n",
       "       'Industry_31', 'Industry_32', 'Industry_33', 'Industry_42',\n",
       "       'Industry_44', 'Industry_45', 'Industry_48', 'Industry_49',\n",
       "       'Industry_51', 'Industry_52', 'Industry_53', 'Industry_54',\n",
       "       'Industry_55', 'Industry_56', 'Industry_61', 'Industry_62',\n",
       "       'Industry_71', 'Industry_72', 'Industry_81', 'Industry_92'],\n",
       "      dtype='object')"
      ]
     },
     "execution_count": 16,
     "metadata": {},
     "output_type": "execute_result"
    }
   ],
   "source": [
    "## Inspect our new list of features\n",
    "df_features.columns"
   ]
  },
  {
   "cell_type": "code",
   "execution_count": 17,
   "id": "5cde7294",
   "metadata": {},
   "outputs": [],
   "source": [
    "## One-hot encoding creates two columns corresponding to MIS Status.\n",
    "## Drop the MIS_Status_PIF column\n",
    "df_features = df_features.drop(df_features.columns[-25], axis = 1)"
   ]
  },
  {
   "cell_type": "code",
   "execution_count": 18,
   "id": "41602e67",
   "metadata": {},
   "outputs": [],
   "source": [
    "## Array of predictors\n",
    "X = df_features.drop('MIS_Status_CHGOFF', axis = 1).values"
   ]
  },
  {
   "cell_type": "code",
   "execution_count": 19,
   "id": "971d11f7",
   "metadata": {},
   "outputs": [],
   "source": [
    "## Column of labels\n",
    "y = df_features['MIS_Status_CHGOFF'].values"
   ]
  },
  {
   "cell_type": "markdown",
   "id": "bd71a89e",
   "metadata": {},
   "source": [
    "## Training the Model\n",
    "\n",
    "We train a random forrest model, using 20% of our data as a training set. We scale the features using standard scalar.\n",
    "\n",
    "Question: should the scalar be applied to columns representing categorical data?"
   ]
  },
  {
   "cell_type": "code",
   "execution_count": 20,
   "id": "3ac78992",
   "metadata": {},
   "outputs": [],
   "source": [
    "## Split data into test and train\n",
    "X_train, X_test, y_train, y_test = train_test_split(X, y, test_size=0.2, random_state=0)"
   ]
  },
  {
   "cell_type": "code",
   "execution_count": 21,
   "id": "49a3aa9b",
   "metadata": {},
   "outputs": [],
   "source": [
    "## Fit a Random Forrest model, making sure to scale the data first\n",
    "RF_pipe = make_pipeline(\n",
    "    StandardScaler(),\n",
    "    RandomForestClassifier(random_state = 0)\n",
    ")"
   ]
  },
  {
   "cell_type": "code",
   "execution_count": 22,
   "id": "05bdebf1",
   "metadata": {},
   "outputs": [
    {
     "data": {
      "text/plain": [
       "Pipeline(steps=[('standardscaler', StandardScaler()),\n",
       "                ('randomforestclassifier',\n",
       "                 RandomForestClassifier(random_state=0))])"
      ]
     },
     "execution_count": 22,
     "metadata": {},
     "output_type": "execute_result"
    }
   ],
   "source": [
    "## Fit the model\n",
    "RF_pipe.fit(X_train, y_train)"
   ]
  },
  {
   "cell_type": "code",
   "execution_count": 23,
   "id": "f28e8914",
   "metadata": {},
   "outputs": [],
   "source": [
    "## Make predictions\n",
    "y_te_pred = RF_pipe.predict(X_test)"
   ]
  },
  {
   "cell_type": "code",
   "execution_count": 24,
   "id": "ace7b018",
   "metadata": {},
   "outputs": [
    {
     "data": {
      "text/plain": [
       "0.9295228289478454"
      ]
     },
     "execution_count": 24,
     "metadata": {},
     "output_type": "execute_result"
    }
   ],
   "source": [
    "## Acurracy score on the test set is nearly 93%. Not bad for a first try!\n",
    "accuracy_score(y_test, y_te_pred)"
   ]
  }
 ],
 "metadata": {
  "kernelspec": {
   "display_name": "Python 3",
   "language": "python",
   "name": "python3"
  },
  "language_info": {
   "codemirror_mode": {
    "name": "ipython",
    "version": 3
   },
   "file_extension": ".py",
   "mimetype": "text/x-python",
   "name": "python",
   "nbconvert_exporter": "python",
   "pygments_lexer": "ipython3",
   "version": "3.8.8"
  }
 },
 "nbformat": 4,
 "nbformat_minor": 5
}
