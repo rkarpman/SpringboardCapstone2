{
 "cells": [
  {
   "cell_type": "markdown",
   "id": "9a33e9fe",
   "metadata": {},
   "source": [
    "## Capstone 2: Feature engineering "
   ]
  },
  {
   "cell_type": "markdown",
   "id": "7a701189",
   "metadata": {},
   "source": [
    "### Loading in the data"
   ]
  },
  {
   "cell_type": "code",
   "execution_count": 1,
   "id": "e32fab0a",
   "metadata": {},
   "outputs": [],
   "source": [
    "import pandas as pd\n",
    "import numpy as np\n",
    "import datetime as dt\n",
    "\n",
    "from sklearn.model_selection import train_test_split\n",
    "from sklearn.preprocessing import StandardScaler"
   ]
  },
  {
   "cell_type": "code",
   "execution_count": 2,
   "id": "bcaf9196",
   "metadata": {},
   "outputs": [
    {
     "data": {
      "text/plain": [
       "Index(['ID', 'Name', 'City', 'State', 'Zip', 'Bank', 'BankState', 'NAICS',\n",
       "       'ApprovalDate', 'ApprovalFY', 'Term', 'NoEmp', 'NewExist', 'CreateJob',\n",
       "       'RetainedJob', 'FranchiseCode', 'UrbanRural', 'LowDoc', 'ChgOffDate',\n",
       "       'DisbursementDate', 'DisbursementGross', 'BalanceGross', 'MIS_Status',\n",
       "       'ChgOffPrinGr', 'GrAppv', 'SBA_Appv'],\n",
       "      dtype='object')"
      ]
     },
     "execution_count": 2,
     "metadata": {},
     "output_type": "execute_result"
    }
   ],
   "source": [
    "df = pd.read_csv(\"../Data/Processed/sba_cleaned.csv\")\n",
    "df.columns"
   ]
  },
  {
   "cell_type": "code",
   "execution_count": 3,
   "id": "ec056bf1",
   "metadata": {},
   "outputs": [],
   "source": [
    "## Create a list of features to use for our model\n",
    "## Note: for now, we are leaving out high-cardinality features\n",
    "## such as city zip code. \n",
    "## In future iterations these could be encoded using hashing, \n",
    "## for example.\n",
    "features = ['State', 'NAICS', 'ApprovalFY', 'Term', 'NoEmp', 'NewExist', 'FranchiseCode', 'LowDoc', 'MIS_Status', 'GrAppv', 'SBA_Appv']"
   ]
  },
  {
   "cell_type": "code",
   "execution_count": 4,
   "id": "96c1ad3c",
   "metadata": {},
   "outputs": [],
   "source": [
    "df=df[features]"
   ]
  },
  {
   "cell_type": "code",
   "execution_count": 5,
   "id": "770a4304",
   "metadata": {},
   "outputs": [
    {
     "data": {
      "text/html": [
       "<div>\n",
       "<style scoped>\n",
       "    .dataframe tbody tr th:only-of-type {\n",
       "        vertical-align: middle;\n",
       "    }\n",
       "\n",
       "    .dataframe tbody tr th {\n",
       "        vertical-align: top;\n",
       "    }\n",
       "\n",
       "    .dataframe thead th {\n",
       "        text-align: right;\n",
       "    }\n",
       "</style>\n",
       "<table border=\"1\" class=\"dataframe\">\n",
       "  <thead>\n",
       "    <tr style=\"text-align: right;\">\n",
       "      <th></th>\n",
       "      <th>State</th>\n",
       "      <th>NAICS</th>\n",
       "      <th>ApprovalFY</th>\n",
       "      <th>Term</th>\n",
       "      <th>NoEmp</th>\n",
       "      <th>NewExist</th>\n",
       "      <th>FranchiseCode</th>\n",
       "      <th>LowDoc</th>\n",
       "      <th>MIS_Status</th>\n",
       "      <th>GrAppv</th>\n",
       "      <th>SBA_Appv</th>\n",
       "    </tr>\n",
       "  </thead>\n",
       "  <tbody>\n",
       "    <tr>\n",
       "      <th>0</th>\n",
       "      <td>IN</td>\n",
       "      <td>451120.0</td>\n",
       "      <td>1997-01-01</td>\n",
       "      <td>84</td>\n",
       "      <td>4</td>\n",
       "      <td>2.0</td>\n",
       "      <td>0</td>\n",
       "      <td>Y</td>\n",
       "      <td>P I F</td>\n",
       "      <td>60000.0</td>\n",
       "      <td>48000.0</td>\n",
       "    </tr>\n",
       "    <tr>\n",
       "      <th>1</th>\n",
       "      <td>IN</td>\n",
       "      <td>722410.0</td>\n",
       "      <td>1997-01-01</td>\n",
       "      <td>60</td>\n",
       "      <td>2</td>\n",
       "      <td>2.0</td>\n",
       "      <td>0</td>\n",
       "      <td>Y</td>\n",
       "      <td>P I F</td>\n",
       "      <td>40000.0</td>\n",
       "      <td>32000.0</td>\n",
       "    </tr>\n",
       "    <tr>\n",
       "      <th>2</th>\n",
       "      <td>IN</td>\n",
       "      <td>621210.0</td>\n",
       "      <td>1997-01-01</td>\n",
       "      <td>180</td>\n",
       "      <td>7</td>\n",
       "      <td>1.0</td>\n",
       "      <td>0</td>\n",
       "      <td>N</td>\n",
       "      <td>P I F</td>\n",
       "      <td>287000.0</td>\n",
       "      <td>215250.0</td>\n",
       "    </tr>\n",
       "    <tr>\n",
       "      <th>3</th>\n",
       "      <td>OK</td>\n",
       "      <td>NaN</td>\n",
       "      <td>1997-01-01</td>\n",
       "      <td>60</td>\n",
       "      <td>2</td>\n",
       "      <td>1.0</td>\n",
       "      <td>0</td>\n",
       "      <td>Y</td>\n",
       "      <td>P I F</td>\n",
       "      <td>35000.0</td>\n",
       "      <td>28000.0</td>\n",
       "    </tr>\n",
       "    <tr>\n",
       "      <th>4</th>\n",
       "      <td>FL</td>\n",
       "      <td>NaN</td>\n",
       "      <td>1997-01-01</td>\n",
       "      <td>240</td>\n",
       "      <td>14</td>\n",
       "      <td>1.0</td>\n",
       "      <td>0</td>\n",
       "      <td>N</td>\n",
       "      <td>P I F</td>\n",
       "      <td>229000.0</td>\n",
       "      <td>229000.0</td>\n",
       "    </tr>\n",
       "  </tbody>\n",
       "</table>\n",
       "</div>"
      ],
      "text/plain": [
       "  State     NAICS  ApprovalFY  Term  NoEmp  NewExist  FranchiseCode LowDoc  \\\n",
       "0    IN  451120.0  1997-01-01    84      4       2.0              0      Y   \n",
       "1    IN  722410.0  1997-01-01    60      2       2.0              0      Y   \n",
       "2    IN  621210.0  1997-01-01   180      7       1.0              0      N   \n",
       "3    OK       NaN  1997-01-01    60      2       1.0              0      Y   \n",
       "4    FL       NaN  1997-01-01   240     14       1.0              0      N   \n",
       "\n",
       "  MIS_Status    GrAppv  SBA_Appv  \n",
       "0      P I F   60000.0   48000.0  \n",
       "1      P I F   40000.0   32000.0  \n",
       "2      P I F  287000.0  215250.0  \n",
       "3      P I F   35000.0   28000.0  \n",
       "4      P I F  229000.0  229000.0  "
      ]
     },
     "execution_count": 5,
     "metadata": {},
     "output_type": "execute_result"
    }
   ],
   "source": [
    "df.head()"
   ]
  },
  {
   "cell_type": "code",
   "execution_count": 6,
   "id": "58af5697",
   "metadata": {},
   "outputs": [
    {
     "name": "stdout",
     "output_type": "stream",
     "text": [
      "<class 'pandas.core.frame.DataFrame'>\n",
      "RangeIndex: 896106 entries, 0 to 896105\n",
      "Data columns (total 11 columns):\n",
      " #   Column         Non-Null Count   Dtype  \n",
      "---  ------         --------------   -----  \n",
      " 0   State          896094 non-null  object \n",
      " 1   NAICS          695498 non-null  float64\n",
      " 2   ApprovalFY     896106 non-null  object \n",
      " 3   Term           896106 non-null  int64  \n",
      " 4   NoEmp          896106 non-null  int64  \n",
      " 5   NewExist       894948 non-null  float64\n",
      " 6   FranchiseCode  896106 non-null  int64  \n",
      " 7   LowDoc         890107 non-null  object \n",
      " 8   MIS_Status     896106 non-null  object \n",
      " 9   GrAppv         896106 non-null  float64\n",
      " 10  SBA_Appv       896106 non-null  float64\n",
      "dtypes: float64(4), int64(3), object(4)\n",
      "memory usage: 75.2+ MB\n"
     ]
    }
   ],
   "source": [
    "df.info()"
   ]
  },
  {
   "cell_type": "markdown",
   "id": "957b5b3c",
   "metadata": {},
   "source": [
    "### Grouping categorical variables"
   ]
  },
  {
   "cell_type": "markdown",
   "id": "4bdcbbce",
   "metadata": {},
   "source": [
    "#### Filtering Dates\n",
    "\n",
    "We save the year from ApprovalFY as an integer, and filter any data from before 1990 or after 2010, as decided during the EDA step."
   ]
  },
  {
   "cell_type": "code",
   "execution_count": 7,
   "id": "f91df59e",
   "metadata": {},
   "outputs": [],
   "source": [
    "df['ApprovalFY'] = df['ApprovalFY'].apply(lambda x: int(x[:4]))"
   ]
  },
  {
   "cell_type": "code",
   "execution_count": 8,
   "id": "de976f0d",
   "metadata": {},
   "outputs": [],
   "source": [
    "df = df.loc[(df['ApprovalFY'] >= 1990) & (df['ApprovalFY'] <= 2010)]"
   ]
  },
  {
   "cell_type": "markdown",
   "id": "c5733ded",
   "metadata": {},
   "source": [
    "#### Franchise vs non-franchise businesses\n",
    "\n",
    "We found during EDA that franchise businesses are slightly less likely to default on loans. We create a column to record whether a business is part of a franchise, and drop the high-cardinality FranchiseCode column."
   ]
  },
  {
   "cell_type": "code",
   "execution_count": 9,
   "id": "18b1aa37",
   "metadata": {},
   "outputs": [],
   "source": [
    "df['is_franchise'] = df['FranchiseCode'] != 0\n",
    "df=df.drop('FranchiseCode', axis=1)"
   ]
  },
  {
   "cell_type": "markdown",
   "id": "fd989d14",
   "metadata": {},
   "source": [
    "#### Grouping industries\n",
    "\n",
    "There are lots of industry classification codes, but the first two digits give the general industry. We then drop the origial NAICS column."
   ]
  },
  {
   "cell_type": "code",
   "execution_count": 10,
   "id": "a2b86ddb",
   "metadata": {
    "scrolled": false
   },
   "outputs": [
    {
     "data": {
      "text/html": [
       "<div>\n",
       "<style scoped>\n",
       "    .dataframe tbody tr th:only-of-type {\n",
       "        vertical-align: middle;\n",
       "    }\n",
       "\n",
       "    .dataframe tbody tr th {\n",
       "        vertical-align: top;\n",
       "    }\n",
       "\n",
       "    .dataframe thead th {\n",
       "        text-align: right;\n",
       "    }\n",
       "</style>\n",
       "<table border=\"1\" class=\"dataframe\">\n",
       "  <thead>\n",
       "    <tr style=\"text-align: right;\">\n",
       "      <th></th>\n",
       "      <th>State</th>\n",
       "      <th>ApprovalFY</th>\n",
       "      <th>Term</th>\n",
       "      <th>NoEmp</th>\n",
       "      <th>NewExist</th>\n",
       "      <th>LowDoc</th>\n",
       "      <th>MIS_Status</th>\n",
       "      <th>GrAppv</th>\n",
       "      <th>SBA_Appv</th>\n",
       "      <th>is_franchise</th>\n",
       "      <th>industry</th>\n",
       "    </tr>\n",
       "  </thead>\n",
       "  <tbody>\n",
       "    <tr>\n",
       "      <th>0</th>\n",
       "      <td>IN</td>\n",
       "      <td>1997</td>\n",
       "      <td>84</td>\n",
       "      <td>4</td>\n",
       "      <td>2.0</td>\n",
       "      <td>Y</td>\n",
       "      <td>P I F</td>\n",
       "      <td>60000.0</td>\n",
       "      <td>48000.0</td>\n",
       "      <td>False</td>\n",
       "      <td>45</td>\n",
       "    </tr>\n",
       "    <tr>\n",
       "      <th>1</th>\n",
       "      <td>IN</td>\n",
       "      <td>1997</td>\n",
       "      <td>60</td>\n",
       "      <td>2</td>\n",
       "      <td>2.0</td>\n",
       "      <td>Y</td>\n",
       "      <td>P I F</td>\n",
       "      <td>40000.0</td>\n",
       "      <td>32000.0</td>\n",
       "      <td>False</td>\n",
       "      <td>72</td>\n",
       "    </tr>\n",
       "    <tr>\n",
       "      <th>2</th>\n",
       "      <td>IN</td>\n",
       "      <td>1997</td>\n",
       "      <td>180</td>\n",
       "      <td>7</td>\n",
       "      <td>1.0</td>\n",
       "      <td>N</td>\n",
       "      <td>P I F</td>\n",
       "      <td>287000.0</td>\n",
       "      <td>215250.0</td>\n",
       "      <td>False</td>\n",
       "      <td>62</td>\n",
       "    </tr>\n",
       "    <tr>\n",
       "      <th>3</th>\n",
       "      <td>OK</td>\n",
       "      <td>1997</td>\n",
       "      <td>60</td>\n",
       "      <td>2</td>\n",
       "      <td>1.0</td>\n",
       "      <td>Y</td>\n",
       "      <td>P I F</td>\n",
       "      <td>35000.0</td>\n",
       "      <td>28000.0</td>\n",
       "      <td>False</td>\n",
       "      <td>NaN</td>\n",
       "    </tr>\n",
       "    <tr>\n",
       "      <th>4</th>\n",
       "      <td>FL</td>\n",
       "      <td>1997</td>\n",
       "      <td>240</td>\n",
       "      <td>14</td>\n",
       "      <td>1.0</td>\n",
       "      <td>N</td>\n",
       "      <td>P I F</td>\n",
       "      <td>229000.0</td>\n",
       "      <td>229000.0</td>\n",
       "      <td>False</td>\n",
       "      <td>NaN</td>\n",
       "    </tr>\n",
       "  </tbody>\n",
       "</table>\n",
       "</div>"
      ],
      "text/plain": [
       "  State  ApprovalFY  Term  NoEmp  NewExist LowDoc MIS_Status    GrAppv  \\\n",
       "0    IN        1997    84      4       2.0      Y      P I F   60000.0   \n",
       "1    IN        1997    60      2       2.0      Y      P I F   40000.0   \n",
       "2    IN        1997   180      7       1.0      N      P I F  287000.0   \n",
       "3    OK        1997    60      2       1.0      Y      P I F   35000.0   \n",
       "4    FL        1997   240     14       1.0      N      P I F  229000.0   \n",
       "\n",
       "   SBA_Appv  is_franchise industry  \n",
       "0   48000.0         False       45  \n",
       "1   32000.0         False       72  \n",
       "2  215250.0         False       62  \n",
       "3   28000.0         False      NaN  \n",
       "4  229000.0         False      NaN  "
      ]
     },
     "execution_count": 10,
     "metadata": {},
     "output_type": "execute_result"
    }
   ],
   "source": [
    "df['industry'] = df['NAICS'].apply(lambda x: str(x)[:2] if pd.notna(x) else x)\n",
    "df=df.drop('NAICS', axis=1)\n",
    "df.head()"
   ]
  },
  {
   "cell_type": "markdown",
   "id": "b2021bf7",
   "metadata": {},
   "source": [
    "#### Grouping states into regions\n",
    "\n",
    "We now group states into major regions of the U.S. We will keep the `State` column for now, as its cardinality is high but not overwhelming."
   ]
  },
  {
   "cell_type": "code",
   "execution_count": 11,
   "id": "a194f03b",
   "metadata": {},
   "outputs": [],
   "source": [
    "region_dict = {'new_england' : ['CT', 'ME', 'MA', 'NH', 'RI', 'VT'],\n",
    "               'mid_east' : ['DE', 'DC', 'MD', 'NJ', 'NY', 'PA'],\n",
    "               'great_lakes' : ['IL', 'IN', 'MI', 'OH', 'WI'],\n",
    "               'planes' : ['IA', 'KS', 'MN', 'MO', 'NE', 'ND', 'SD'],\n",
    "               'southeast' : ['AL', 'AR', 'FL', 'GA', 'KY', 'LA', \n",
    "                              'MS', 'NC', 'SC', 'TN', 'VA', 'WV'],\n",
    "               'southwest' : ['AZ', 'NM', 'OK', 'TX'],\n",
    "               'rocky_mountain' : ['CO', 'ID', 'MT', 'UT', 'WY'],\n",
    "               'far_west' : ['AK', 'CA', 'HI', 'NV', 'OR', 'WA']}\n",
    "\n",
    "region_by_state= {}\n",
    "for region in region_dict.keys():\n",
    "    for state in region_dict[region]:\n",
    "        region_by_state[state] = region"
   ]
  },
  {
   "cell_type": "code",
   "execution_count": 12,
   "id": "5d354a13",
   "metadata": {},
   "outputs": [
    {
     "data": {
      "text/plain": [
       "{'CT': 'new_england',\n",
       " 'ME': 'new_england',\n",
       " 'MA': 'new_england',\n",
       " 'NH': 'new_england',\n",
       " 'RI': 'new_england',\n",
       " 'VT': 'new_england',\n",
       " 'DE': 'mid_east',\n",
       " 'DC': 'mid_east',\n",
       " 'MD': 'mid_east',\n",
       " 'NJ': 'mid_east',\n",
       " 'NY': 'mid_east',\n",
       " 'PA': 'mid_east',\n",
       " 'IL': 'great_lakes',\n",
       " 'IN': 'great_lakes',\n",
       " 'MI': 'great_lakes',\n",
       " 'OH': 'great_lakes',\n",
       " 'WI': 'great_lakes',\n",
       " 'IA': 'planes',\n",
       " 'KS': 'planes',\n",
       " 'MN': 'planes',\n",
       " 'MO': 'planes',\n",
       " 'NE': 'planes',\n",
       " 'ND': 'planes',\n",
       " 'SD': 'planes',\n",
       " 'AL': 'southeast',\n",
       " 'AR': 'southeast',\n",
       " 'FL': 'southeast',\n",
       " 'GA': 'southeast',\n",
       " 'KY': 'southeast',\n",
       " 'LA': 'southeast',\n",
       " 'MS': 'southeast',\n",
       " 'NC': 'southeast',\n",
       " 'SC': 'southeast',\n",
       " 'TN': 'southeast',\n",
       " 'VA': 'southeast',\n",
       " 'WV': 'southeast',\n",
       " 'AZ': 'southwest',\n",
       " 'NM': 'southwest',\n",
       " 'OK': 'southwest',\n",
       " 'TX': 'southwest',\n",
       " 'CO': 'rocky_mountain',\n",
       " 'ID': 'rocky_mountain',\n",
       " 'MT': 'rocky_mountain',\n",
       " 'UT': 'rocky_mountain',\n",
       " 'WY': 'rocky_mountain',\n",
       " 'AK': 'far_west',\n",
       " 'CA': 'far_west',\n",
       " 'HI': 'far_west',\n",
       " 'NV': 'far_west',\n",
       " 'OR': 'far_west',\n",
       " 'WA': 'far_west'}"
      ]
     },
     "execution_count": 12,
     "metadata": {},
     "output_type": "execute_result"
    }
   ],
   "source": [
    "region_by_state"
   ]
  },
  {
   "cell_type": "code",
   "execution_count": 13,
   "id": "bb6d0db8",
   "metadata": {},
   "outputs": [],
   "source": [
    "df['region'] = df['State'].replace(region_by_state)"
   ]
  },
  {
   "cell_type": "code",
   "execution_count": 14,
   "id": "9f6ca6d4",
   "metadata": {},
   "outputs": [
    {
     "data": {
      "text/html": [
       "<div>\n",
       "<style scoped>\n",
       "    .dataframe tbody tr th:only-of-type {\n",
       "        vertical-align: middle;\n",
       "    }\n",
       "\n",
       "    .dataframe tbody tr th {\n",
       "        vertical-align: top;\n",
       "    }\n",
       "\n",
       "    .dataframe thead th {\n",
       "        text-align: right;\n",
       "    }\n",
       "</style>\n",
       "<table border=\"1\" class=\"dataframe\">\n",
       "  <thead>\n",
       "    <tr style=\"text-align: right;\">\n",
       "      <th></th>\n",
       "      <th>State</th>\n",
       "      <th>ApprovalFY</th>\n",
       "      <th>Term</th>\n",
       "      <th>NoEmp</th>\n",
       "      <th>NewExist</th>\n",
       "      <th>LowDoc</th>\n",
       "      <th>MIS_Status</th>\n",
       "      <th>GrAppv</th>\n",
       "      <th>SBA_Appv</th>\n",
       "      <th>is_franchise</th>\n",
       "      <th>industry</th>\n",
       "      <th>region</th>\n",
       "    </tr>\n",
       "  </thead>\n",
       "  <tbody>\n",
       "    <tr>\n",
       "      <th>0</th>\n",
       "      <td>IN</td>\n",
       "      <td>1997</td>\n",
       "      <td>84</td>\n",
       "      <td>4</td>\n",
       "      <td>2.0</td>\n",
       "      <td>Y</td>\n",
       "      <td>P I F</td>\n",
       "      <td>60000.0</td>\n",
       "      <td>48000.0</td>\n",
       "      <td>False</td>\n",
       "      <td>45</td>\n",
       "      <td>great_lakes</td>\n",
       "    </tr>\n",
       "    <tr>\n",
       "      <th>1</th>\n",
       "      <td>IN</td>\n",
       "      <td>1997</td>\n",
       "      <td>60</td>\n",
       "      <td>2</td>\n",
       "      <td>2.0</td>\n",
       "      <td>Y</td>\n",
       "      <td>P I F</td>\n",
       "      <td>40000.0</td>\n",
       "      <td>32000.0</td>\n",
       "      <td>False</td>\n",
       "      <td>72</td>\n",
       "      <td>great_lakes</td>\n",
       "    </tr>\n",
       "    <tr>\n",
       "      <th>2</th>\n",
       "      <td>IN</td>\n",
       "      <td>1997</td>\n",
       "      <td>180</td>\n",
       "      <td>7</td>\n",
       "      <td>1.0</td>\n",
       "      <td>N</td>\n",
       "      <td>P I F</td>\n",
       "      <td>287000.0</td>\n",
       "      <td>215250.0</td>\n",
       "      <td>False</td>\n",
       "      <td>62</td>\n",
       "      <td>great_lakes</td>\n",
       "    </tr>\n",
       "    <tr>\n",
       "      <th>3</th>\n",
       "      <td>OK</td>\n",
       "      <td>1997</td>\n",
       "      <td>60</td>\n",
       "      <td>2</td>\n",
       "      <td>1.0</td>\n",
       "      <td>Y</td>\n",
       "      <td>P I F</td>\n",
       "      <td>35000.0</td>\n",
       "      <td>28000.0</td>\n",
       "      <td>False</td>\n",
       "      <td>NaN</td>\n",
       "      <td>southwest</td>\n",
       "    </tr>\n",
       "    <tr>\n",
       "      <th>4</th>\n",
       "      <td>FL</td>\n",
       "      <td>1997</td>\n",
       "      <td>240</td>\n",
       "      <td>14</td>\n",
       "      <td>1.0</td>\n",
       "      <td>N</td>\n",
       "      <td>P I F</td>\n",
       "      <td>229000.0</td>\n",
       "      <td>229000.0</td>\n",
       "      <td>False</td>\n",
       "      <td>NaN</td>\n",
       "      <td>southeast</td>\n",
       "    </tr>\n",
       "  </tbody>\n",
       "</table>\n",
       "</div>"
      ],
      "text/plain": [
       "  State  ApprovalFY  Term  NoEmp  NewExist LowDoc MIS_Status    GrAppv  \\\n",
       "0    IN        1997    84      4       2.0      Y      P I F   60000.0   \n",
       "1    IN        1997    60      2       2.0      Y      P I F   40000.0   \n",
       "2    IN        1997   180      7       1.0      N      P I F  287000.0   \n",
       "3    OK        1997    60      2       1.0      Y      P I F   35000.0   \n",
       "4    FL        1997   240     14       1.0      N      P I F  229000.0   \n",
       "\n",
       "   SBA_Appv  is_franchise industry       region  \n",
       "0   48000.0         False       45  great_lakes  \n",
       "1   32000.0         False       72  great_lakes  \n",
       "2  215250.0         False       62  great_lakes  \n",
       "3   28000.0         False      NaN    southwest  \n",
       "4  229000.0         False      NaN    southeast  "
      ]
     },
     "execution_count": 14,
     "metadata": {},
     "output_type": "execute_result"
    }
   ],
   "source": [
    "df.head()"
   ]
  },
  {
   "cell_type": "markdown",
   "id": "8a0f964e",
   "metadata": {},
   "source": [
    "### Dummy encoding for categorical variables"
   ]
  },
  {
   "cell_type": "markdown",
   "id": "c6414813",
   "metadata": {},
   "source": [
    "Let's first check that our categorical columns have appropriate datatype. For those that don't, cast them to type `object`."
   ]
  },
  {
   "cell_type": "code",
   "execution_count": 15,
   "id": "306b9f64",
   "metadata": {},
   "outputs": [
    {
     "name": "stdout",
     "output_type": "stream",
     "text": [
      "<class 'pandas.core.frame.DataFrame'>\n",
      "Int64Index: 847977 entries, 0 to 896105\n",
      "Data columns (total 12 columns):\n",
      " #   Column        Non-Null Count   Dtype  \n",
      "---  ------        --------------   -----  \n",
      " 0   State         847969 non-null  object \n",
      " 1   ApprovalFY    847977 non-null  int64  \n",
      " 2   Term          847977 non-null  int64  \n",
      " 3   NoEmp         847977 non-null  int64  \n",
      " 4   NewExist      846910 non-null  float64\n",
      " 5   LowDoc        842650 non-null  object \n",
      " 6   MIS_Status    847977 non-null  object \n",
      " 7   GrAppv        847977 non-null  float64\n",
      " 8   SBA_Appv      847977 non-null  float64\n",
      " 9   is_franchise  847977 non-null  bool   \n",
      " 10  industry      666771 non-null  object \n",
      " 11  region        847969 non-null  object \n",
      "dtypes: bool(1), float64(3), int64(3), object(5)\n",
      "memory usage: 78.4+ MB\n"
     ]
    }
   ],
   "source": [
    "df.info()"
   ]
  },
  {
   "cell_type": "code",
   "execution_count": 16,
   "id": "80ea0c0f",
   "metadata": {},
   "outputs": [],
   "source": [
    "## It looks like NewExist and is_franchise need to be converted\n",
    "obj_cols = ['NewExist', 'is_franchise']\n",
    "df[obj_cols] = df[obj_cols].astype('object')"
   ]
  },
  {
   "cell_type": "code",
   "execution_count": 17,
   "id": "b13eeda3",
   "metadata": {},
   "outputs": [],
   "source": [
    "df_dummies = pd.get_dummies(df)"
   ]
  },
  {
   "cell_type": "markdown",
   "id": "129cb050",
   "metadata": {},
   "source": [
    "### Split data into training and test sets"
   ]
  },
  {
   "cell_type": "code",
   "execution_count": 18,
   "id": "68a6ac8c",
   "metadata": {},
   "outputs": [],
   "source": [
    "X = df_dummies.drop(['MIS_Status_CHGOFF', 'MIS_Status_P I F'], axis=1)\n",
    "y = df_dummies['MIS_Status_CHGOFF']"
   ]
  },
  {
   "cell_type": "code",
   "execution_count": 19,
   "id": "fa82857e",
   "metadata": {},
   "outputs": [],
   "source": [
    "Names = X.columns"
   ]
  },
  {
   "cell_type": "code",
   "execution_count": 20,
   "id": "a23f7312",
   "metadata": {},
   "outputs": [],
   "source": [
    "from sklearn.model_selection import train_test_split"
   ]
  },
  {
   "cell_type": "code",
   "execution_count": 21,
   "id": "c794140c",
   "metadata": {},
   "outputs": [],
   "source": [
    "# We save 30% of the data for testing\n",
    "X_train, X_test, y_train, y_test = train_test_split(X, y, test_size = 0.3)"
   ]
  },
  {
   "cell_type": "markdown",
   "id": "680d6143",
   "metadata": {},
   "source": [
    "### Standardize Columns"
   ]
  },
  {
   "cell_type": "code",
   "execution_count": 22,
   "id": "8314edcc",
   "metadata": {},
   "outputs": [
    {
     "data": {
      "text/html": [
       "<div>\n",
       "<style scoped>\n",
       "    .dataframe tbody tr th:only-of-type {\n",
       "        vertical-align: middle;\n",
       "    }\n",
       "\n",
       "    .dataframe tbody tr th {\n",
       "        vertical-align: top;\n",
       "    }\n",
       "\n",
       "    .dataframe thead th {\n",
       "        text-align: right;\n",
       "    }\n",
       "</style>\n",
       "<table border=\"1\" class=\"dataframe\">\n",
       "  <thead>\n",
       "    <tr style=\"text-align: right;\">\n",
       "      <th></th>\n",
       "      <th>ApprovalFY</th>\n",
       "      <th>Term</th>\n",
       "      <th>NoEmp</th>\n",
       "      <th>GrAppv</th>\n",
       "      <th>SBA_Appv</th>\n",
       "      <th>State_AK</th>\n",
       "      <th>State_AL</th>\n",
       "      <th>State_AR</th>\n",
       "      <th>State_AZ</th>\n",
       "      <th>State_CA</th>\n",
       "      <th>...</th>\n",
       "      <th>industry_81</th>\n",
       "      <th>industry_92</th>\n",
       "      <th>region_far_west</th>\n",
       "      <th>region_great_lakes</th>\n",
       "      <th>region_mid_east</th>\n",
       "      <th>region_new_england</th>\n",
       "      <th>region_planes</th>\n",
       "      <th>region_rocky_mountain</th>\n",
       "      <th>region_southeast</th>\n",
       "      <th>region_southwest</th>\n",
       "    </tr>\n",
       "  </thead>\n",
       "  <tbody>\n",
       "    <tr>\n",
       "      <th>552680</th>\n",
       "      <td>2002</td>\n",
       "      <td>240</td>\n",
       "      <td>42</td>\n",
       "      <td>866000.0</td>\n",
       "      <td>866000.0</td>\n",
       "      <td>0</td>\n",
       "      <td>0</td>\n",
       "      <td>0</td>\n",
       "      <td>0</td>\n",
       "      <td>0</td>\n",
       "      <td>...</td>\n",
       "      <td>0</td>\n",
       "      <td>0</td>\n",
       "      <td>0</td>\n",
       "      <td>1</td>\n",
       "      <td>0</td>\n",
       "      <td>0</td>\n",
       "      <td>0</td>\n",
       "      <td>0</td>\n",
       "      <td>0</td>\n",
       "      <td>0</td>\n",
       "    </tr>\n",
       "    <tr>\n",
       "      <th>71881</th>\n",
       "      <td>2006</td>\n",
       "      <td>84</td>\n",
       "      <td>1</td>\n",
       "      <td>5000.0</td>\n",
       "      <td>4250.0</td>\n",
       "      <td>0</td>\n",
       "      <td>0</td>\n",
       "      <td>0</td>\n",
       "      <td>0</td>\n",
       "      <td>1</td>\n",
       "      <td>...</td>\n",
       "      <td>0</td>\n",
       "      <td>0</td>\n",
       "      <td>1</td>\n",
       "      <td>0</td>\n",
       "      <td>0</td>\n",
       "      <td>0</td>\n",
       "      <td>0</td>\n",
       "      <td>0</td>\n",
       "      <td>0</td>\n",
       "      <td>0</td>\n",
       "    </tr>\n",
       "    <tr>\n",
       "      <th>805169</th>\n",
       "      <td>1995</td>\n",
       "      <td>240</td>\n",
       "      <td>14</td>\n",
       "      <td>256000.0</td>\n",
       "      <td>256000.0</td>\n",
       "      <td>0</td>\n",
       "      <td>0</td>\n",
       "      <td>0</td>\n",
       "      <td>0</td>\n",
       "      <td>1</td>\n",
       "      <td>...</td>\n",
       "      <td>0</td>\n",
       "      <td>0</td>\n",
       "      <td>1</td>\n",
       "      <td>0</td>\n",
       "      <td>0</td>\n",
       "      <td>0</td>\n",
       "      <td>0</td>\n",
       "      <td>0</td>\n",
       "      <td>0</td>\n",
       "      <td>0</td>\n",
       "    </tr>\n",
       "    <tr>\n",
       "      <th>519276</th>\n",
       "      <td>2002</td>\n",
       "      <td>200</td>\n",
       "      <td>3</td>\n",
       "      <td>420000.0</td>\n",
       "      <td>315000.0</td>\n",
       "      <td>0</td>\n",
       "      <td>0</td>\n",
       "      <td>0</td>\n",
       "      <td>0</td>\n",
       "      <td>0</td>\n",
       "      <td>...</td>\n",
       "      <td>0</td>\n",
       "      <td>0</td>\n",
       "      <td>0</td>\n",
       "      <td>0</td>\n",
       "      <td>0</td>\n",
       "      <td>0</td>\n",
       "      <td>1</td>\n",
       "      <td>0</td>\n",
       "      <td>0</td>\n",
       "      <td>0</td>\n",
       "    </tr>\n",
       "    <tr>\n",
       "      <th>613788</th>\n",
       "      <td>1994</td>\n",
       "      <td>240</td>\n",
       "      <td>2300</td>\n",
       "      <td>314000.0</td>\n",
       "      <td>314000.0</td>\n",
       "      <td>0</td>\n",
       "      <td>0</td>\n",
       "      <td>0</td>\n",
       "      <td>0</td>\n",
       "      <td>0</td>\n",
       "      <td>...</td>\n",
       "      <td>1</td>\n",
       "      <td>0</td>\n",
       "      <td>0</td>\n",
       "      <td>0</td>\n",
       "      <td>0</td>\n",
       "      <td>0</td>\n",
       "      <td>0</td>\n",
       "      <td>0</td>\n",
       "      <td>1</td>\n",
       "      <td>0</td>\n",
       "    </tr>\n",
       "  </tbody>\n",
       "</table>\n",
       "<p>5 rows × 94 columns</p>\n",
       "</div>"
      ],
      "text/plain": [
       "        ApprovalFY  Term  NoEmp    GrAppv  SBA_Appv  State_AK  State_AL  \\\n",
       "552680        2002   240     42  866000.0  866000.0         0         0   \n",
       "71881         2006    84      1    5000.0    4250.0         0         0   \n",
       "805169        1995   240     14  256000.0  256000.0         0         0   \n",
       "519276        2002   200      3  420000.0  315000.0         0         0   \n",
       "613788        1994   240   2300  314000.0  314000.0         0         0   \n",
       "\n",
       "        State_AR  State_AZ  State_CA  ...  industry_81  industry_92  \\\n",
       "552680         0         0         0  ...            0            0   \n",
       "71881          0         0         1  ...            0            0   \n",
       "805169         0         0         1  ...            0            0   \n",
       "519276         0         0         0  ...            0            0   \n",
       "613788         0         0         0  ...            1            0   \n",
       "\n",
       "        region_far_west  region_great_lakes  region_mid_east  \\\n",
       "552680                0                   1                0   \n",
       "71881                 1                   0                0   \n",
       "805169                1                   0                0   \n",
       "519276                0                   0                0   \n",
       "613788                0                   0                0   \n",
       "\n",
       "        region_new_england  region_planes  region_rocky_mountain  \\\n",
       "552680                   0              0                      0   \n",
       "71881                    0              0                      0   \n",
       "805169                   0              0                      0   \n",
       "519276                   0              1                      0   \n",
       "613788                   0              0                      0   \n",
       "\n",
       "        region_southeast  region_southwest  \n",
       "552680                 0                 0  \n",
       "71881                  0                 0  \n",
       "805169                 0                 0  \n",
       "519276                 0                 0  \n",
       "613788                 1                 0  \n",
       "\n",
       "[5 rows x 94 columns]"
      ]
     },
     "execution_count": 22,
     "metadata": {},
     "output_type": "execute_result"
    }
   ],
   "source": [
    "X_train.head()"
   ]
  },
  {
   "cell_type": "code",
   "execution_count": 23,
   "id": "9c0f717d",
   "metadata": {},
   "outputs": [],
   "source": [
    "from sklearn.preprocessing import StandardScaler"
   ]
  },
  {
   "cell_type": "code",
   "execution_count": 24,
   "id": "136647bc",
   "metadata": {},
   "outputs": [],
   "source": [
    "scaler = StandardScaler()\n",
    "scaler.fit(X_train)\n",
    "X_train = pd.DataFrame(scaler.transform(X_train), columns=Names)\n",
    "X_test = pd.DataFrame(scaler.transform(X_test), columns=Names)"
   ]
  },
  {
   "cell_type": "markdown",
   "id": "161aa709",
   "metadata": {},
   "source": [
    "### Save test and train data\n",
    "\n",
    "Save the test and train data in the directory `Data/Processed` is csv format."
   ]
  },
  {
   "cell_type": "code",
   "execution_count": 25,
   "id": "c1c6c342",
   "metadata": {},
   "outputs": [],
   "source": [
    "X_train.to_csv('../Data/Processed/X_train.csv', index=False)"
   ]
  },
  {
   "cell_type": "code",
   "execution_count": 26,
   "id": "178df254",
   "metadata": {},
   "outputs": [],
   "source": [
    "y_train.to_csv('../Data/Processed/y_train.csv', index=False)"
   ]
  },
  {
   "cell_type": "code",
   "execution_count": 27,
   "id": "2eefc138",
   "metadata": {},
   "outputs": [],
   "source": [
    "X_test.to_csv('../Data/Processed/X_test.csv', index=False)"
   ]
  },
  {
   "cell_type": "code",
   "execution_count": 28,
   "id": "44882c01",
   "metadata": {},
   "outputs": [],
   "source": [
    "y_test.to_csv('../Data/Processed/y_test.csv', index=False)"
   ]
  }
 ],
 "metadata": {
  "kernelspec": {
   "display_name": "Python 3",
   "language": "python",
   "name": "python3"
  },
  "language_info": {
   "codemirror_mode": {
    "name": "ipython",
    "version": 3
   },
   "file_extension": ".py",
   "mimetype": "text/x-python",
   "name": "python",
   "nbconvert_exporter": "python",
   "pygments_lexer": "ipython3",
   "version": "3.8.8"
  }
 },
 "nbformat": 4,
 "nbformat_minor": 5
}
