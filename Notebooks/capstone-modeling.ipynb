{
 "cells": [
  {
   "cell_type": "markdown",
   "id": "167be40c",
   "metadata": {},
   "source": [
    "## Modeling: Small business loans"
   ]
  },
  {
   "cell_type": "markdown",
   "id": "613b3cb4",
   "metadata": {},
   "source": [
    "We will now build a model to classify small business loans, according to whether they will be paid off or default. This is a classification problem, and many of our variables have skewed distributions. Decision tree algorithms often perform well in such cases. We will try two decision-tree based algorithms: random forest, and gradient boosting. We will tune hyperparameters for both algorithms."
   ]
  },
  {
   "cell_type": "markdown",
   "id": "a1cf36ac",
   "metadata": {},
   "source": [
    "### Loading the data"
   ]
  },
  {
   "cell_type": "code",
   "execution_count": 1,
   "id": "36cee0ad",
   "metadata": {},
   "outputs": [],
   "source": [
    "## Import needed Python module and functions \n",
    "import pandas as pd\n",
    "import numpy as np\n",
    "import matplotlib.pyplot as plt\n",
    "\n",
    "from sklearn.model_selection import train_test_split\n",
    "from sklearn.model_selection import cross_validate\n",
    "from sklearn.model_selection import cross_val_score\n",
    "from sklearn.model_selection import GridSearchCV\n",
    "from sklearn.ensemble import RandomForestClassifier\n",
    "from sklearn.ensemble import GradientBoostingClassifier\n",
    "from sklearn.metrics import accuracy_score\n",
    "from sklearn.metrics import f1_score\n",
    "from sklearn.metrics import precision_score\n",
    "from sklearn.metrics import recall_score"
   ]
  },
  {
   "cell_type": "code",
   "execution_count": 2,
   "id": "95b02c78",
   "metadata": {},
   "outputs": [],
   "source": [
    "## Import features for training values\n",
    "features = pd.read_csv('../Data/Processed/X_train.csv')"
   ]
  },
  {
   "cell_type": "code",
   "execution_count": 3,
   "id": "6b41bcd4",
   "metadata": {},
   "outputs": [],
   "source": [
    "## Import labels for training data\n",
    "labels = pd.read_csv('../Data/Processed/y_train.csv')"
   ]
  },
  {
   "cell_type": "code",
   "execution_count": 4,
   "id": "191a1d25",
   "metadata": {},
   "outputs": [],
   "source": [
    "## Convert training data into numpy arrays to train models\n",
    "feature_names = features.columns\n",
    "X = features.values\n",
    "y = labels.values\n",
    "y = y.ravel()"
   ]
  },
  {
   "cell_type": "markdown",
   "id": "a2251632",
   "metadata": {},
   "source": [
    "### Random forest model"
   ]
  },
  {
   "cell_type": "markdown",
   "id": "ba424aeb",
   "metadata": {},
   "source": [
    "#### Baseline model"
   ]
  },
  {
   "cell_type": "markdown",
   "id": "a5c90f2b",
   "metadata": {},
   "source": [
    "To get a benchmark for hyperparameter tuning, let's first see how the Random Forest algorithm performs just using the `sklearn` defaults."
   ]
  },
  {
   "cell_type": "code",
   "execution_count": 5,
   "id": "6e570a08",
   "metadata": {},
   "outputs": [],
   "source": [
    "rf_model = RandomForestClassifier(random_state=42)"
   ]
  },
  {
   "cell_type": "code",
   "execution_count": 6,
   "id": "098df602",
   "metadata": {},
   "outputs": [],
   "source": [
    "cv_results_rf = cross_validate(rf_model, X, y, scoring=('f1', 'accuracy'), cv=3, n_jobs=1)"
   ]
  },
  {
   "cell_type": "code",
   "execution_count": 7,
   "id": "061717ab",
   "metadata": {},
   "outputs": [
    {
     "data": {
      "text/plain": [
       "fit_time         96.697701\n",
       "score_time        7.782657\n",
       "test_f1           0.778350\n",
       "test_accuracy     0.928814\n",
       "dtype: float64"
      ]
     },
     "execution_count": 7,
     "metadata": {},
     "output_type": "execute_result"
    }
   ],
   "source": [
    "## Print out cross-validated metrics for the 'out of the box' model.\n",
    "pd.DataFrame(cv_results_rf).mean()"
   ]
  },
  {
   "cell_type": "markdown",
   "id": "f224db5c",
   "metadata": {},
   "source": [
    "#### Hyperparameter tuning"
   ]
  },
  {
   "cell_type": "markdown",
   "id": "fcce50cc",
   "metadata": {},
   "source": [
    "Let's see if we can do better with hyperparameter tuning. Since our data is unbalanced, we will use f1 score as our metric to optimize, rather than accuracy. While there are many hyperparameters we could tune, we will focus on `n_estimators`, `criterion` and `max_depth.`"
   ]
  },
  {
   "cell_type": "code",
   "execution_count": 8,
   "id": "ede3de32",
   "metadata": {},
   "outputs": [],
   "source": [
    "## Set up grid with possible combinations of hyperparameters to search\n",
    "params = {'n_estimators': [50, 100, 200, 400],\n",
    "          'criterion' : ['gini', 'entropy'],\n",
    "          'max_depth': [50, 100, 200, None]\n",
    "}\n",
    "\n",
    "rf_for_search = RandomForestClassifier(random_state=42)"
   ]
  },
  {
   "cell_type": "code",
   "execution_count": 9,
   "id": "93d78006",
   "metadata": {},
   "outputs": [
    {
     "name": "stdout",
     "output_type": "stream",
     "text": [
      "Fitting 3 folds for each of 32 candidates, totalling 96 fits\n",
      "[CV 1/3] END criterion=gini, max_depth=50, n_estimators=50; accuracy: (test=0.928) f1: (test=0.777) total time=  52.1s\n",
      "[CV 2/3] END criterion=gini, max_depth=50, n_estimators=50; accuracy: (test=0.928) f1: (test=0.776) total time=  52.0s\n",
      "[CV 3/3] END criterion=gini, max_depth=50, n_estimators=50; accuracy: (test=0.929) f1: (test=0.779) total time=  53.0s\n",
      "[CV 1/3] END criterion=gini, max_depth=50, n_estimators=100; accuracy: (test=0.928) f1: (test=0.778) total time= 1.7min\n",
      "[CV 2/3] END criterion=gini, max_depth=50, n_estimators=100; accuracy: (test=0.929) f1: (test=0.778) total time= 1.7min\n",
      "[CV 3/3] END criterion=gini, max_depth=50, n_estimators=100; accuracy: (test=0.929) f1: (test=0.780) total time= 1.7min\n",
      "[CV 1/3] END criterion=gini, max_depth=50, n_estimators=200; accuracy: (test=0.929) f1: (test=0.780) total time= 3.5min\n",
      "[CV 2/3] END criterion=gini, max_depth=50, n_estimators=200; accuracy: (test=0.929) f1: (test=0.781) total time= 3.4min\n",
      "[CV 3/3] END criterion=gini, max_depth=50, n_estimators=200; accuracy: (test=0.930) f1: (test=0.782) total time= 3.5min\n",
      "[CV 1/3] END criterion=gini, max_depth=50, n_estimators=400; accuracy: (test=0.929) f1: (test=0.780) total time= 6.9min\n",
      "[CV 2/3] END criterion=gini, max_depth=50, n_estimators=400; accuracy: (test=0.929) f1: (test=0.780) total time= 6.9min\n",
      "[CV 3/3] END criterion=gini, max_depth=50, n_estimators=400; accuracy: (test=0.930) f1: (test=0.782) total time= 7.1min\n",
      "[CV 1/3] END criterion=gini, max_depth=100, n_estimators=50; accuracy: (test=0.929) f1: (test=0.777) total time=  52.0s\n",
      "[CV 2/3] END criterion=gini, max_depth=100, n_estimators=50; accuracy: (test=0.928) f1: (test=0.775) total time=  52.4s\n",
      "[CV 3/3] END criterion=gini, max_depth=100, n_estimators=50; accuracy: (test=0.928) f1: (test=0.776) total time=  54.2s\n",
      "[CV 1/3] END criterion=gini, max_depth=100, n_estimators=100; accuracy: (test=0.929) f1: (test=0.779) total time= 1.7min\n",
      "[CV 2/3] END criterion=gini, max_depth=100, n_estimators=100; accuracy: (test=0.928) f1: (test=0.777) total time= 1.7min\n",
      "[CV 3/3] END criterion=gini, max_depth=100, n_estimators=100; accuracy: (test=0.929) f1: (test=0.779) total time= 1.7min\n",
      "[CV 1/3] END criterion=gini, max_depth=100, n_estimators=200; accuracy: (test=0.929) f1: (test=0.780) total time= 3.5min\n",
      "[CV 2/3] END criterion=gini, max_depth=100, n_estimators=200; accuracy: (test=0.929) f1: (test=0.780) total time= 3.5min\n",
      "[CV 3/3] END criterion=gini, max_depth=100, n_estimators=200; accuracy: (test=0.930) f1: (test=0.781) total time= 3.5min\n",
      "[CV 1/3] END criterion=gini, max_depth=100, n_estimators=400; accuracy: (test=0.929) f1: (test=0.780) total time= 6.9min\n",
      "[CV 2/3] END criterion=gini, max_depth=100, n_estimators=400; accuracy: (test=0.929) f1: (test=0.779) total time= 6.9min\n",
      "[CV 3/3] END criterion=gini, max_depth=100, n_estimators=400; accuracy: (test=0.930) f1: (test=0.781) total time= 6.9min\n",
      "[CV 1/3] END criterion=gini, max_depth=200, n_estimators=50; accuracy: (test=0.929) f1: (test=0.777) total time=  52.0s\n",
      "[CV 2/3] END criterion=gini, max_depth=200, n_estimators=50; accuracy: (test=0.928) f1: (test=0.775) total time=  52.5s\n",
      "[CV 3/3] END criterion=gini, max_depth=200, n_estimators=50; accuracy: (test=0.928) f1: (test=0.776) total time=  52.8s\n",
      "[CV 1/3] END criterion=gini, max_depth=200, n_estimators=100; accuracy: (test=0.929) f1: (test=0.779) total time= 1.7min\n",
      "[CV 2/3] END criterion=gini, max_depth=200, n_estimators=100; accuracy: (test=0.928) f1: (test=0.777) total time= 1.7min\n",
      "[CV 3/3] END criterion=gini, max_depth=200, n_estimators=100; accuracy: (test=0.929) f1: (test=0.779) total time= 1.7min\n",
      "[CV 1/3] END criterion=gini, max_depth=200, n_estimators=200; accuracy: (test=0.929) f1: (test=0.780) total time= 3.5min\n",
      "[CV 2/3] END criterion=gini, max_depth=200, n_estimators=200; accuracy: (test=0.929) f1: (test=0.780) total time= 3.4min\n",
      "[CV 3/3] END criterion=gini, max_depth=200, n_estimators=200; accuracy: (test=0.930) f1: (test=0.781) total time= 3.5min\n",
      "[CV 1/3] END criterion=gini, max_depth=200, n_estimators=400; accuracy: (test=0.929) f1: (test=0.780) total time= 6.9min\n",
      "[CV 2/3] END criterion=gini, max_depth=200, n_estimators=400; accuracy: (test=0.929) f1: (test=0.779) total time= 6.9min\n",
      "[CV 3/3] END criterion=gini, max_depth=200, n_estimators=400; accuracy: (test=0.930) f1: (test=0.781) total time= 6.9min\n",
      "[CV 1/3] END criterion=gini, max_depth=None, n_estimators=50; accuracy: (test=0.929) f1: (test=0.777) total time=  51.8s\n",
      "[CV 2/3] END criterion=gini, max_depth=None, n_estimators=50; accuracy: (test=0.928) f1: (test=0.775) total time=  52.4s\n",
      "[CV 3/3] END criterion=gini, max_depth=None, n_estimators=50; accuracy: (test=0.928) f1: (test=0.776) total time=  52.7s\n",
      "[CV 1/3] END criterion=gini, max_depth=None, n_estimators=100; accuracy: (test=0.929) f1: (test=0.779) total time= 1.7min\n",
      "[CV 2/3] END criterion=gini, max_depth=None, n_estimators=100; accuracy: (test=0.928) f1: (test=0.777) total time= 1.7min\n",
      "[CV 3/3] END criterion=gini, max_depth=None, n_estimators=100; accuracy: (test=0.929) f1: (test=0.779) total time= 1.7min\n",
      "[CV 1/3] END criterion=gini, max_depth=None, n_estimators=200; accuracy: (test=0.929) f1: (test=0.780) total time= 3.5min\n",
      "[CV 2/3] END criterion=gini, max_depth=None, n_estimators=200; accuracy: (test=0.929) f1: (test=0.780) total time= 3.4min\n",
      "[CV 3/3] END criterion=gini, max_depth=None, n_estimators=200; accuracy: (test=0.930) f1: (test=0.781) total time= 3.5min\n",
      "[CV 1/3] END criterion=gini, max_depth=None, n_estimators=400; accuracy: (test=0.929) f1: (test=0.780) total time= 6.9min\n",
      "[CV 2/3] END criterion=gini, max_depth=None, n_estimators=400; accuracy: (test=0.929) f1: (test=0.779) total time= 6.9min\n",
      "[CV 3/3] END criterion=gini, max_depth=None, n_estimators=400; accuracy: (test=0.930) f1: (test=0.781) total time= 6.9min\n",
      "[CV 1/3] END criterion=entropy, max_depth=50, n_estimators=50; accuracy: (test=0.928) f1: (test=0.777) total time=  54.7s\n",
      "[CV 2/3] END criterion=entropy, max_depth=50, n_estimators=50; accuracy: (test=0.928) f1: (test=0.776) total time=  54.3s\n",
      "[CV 3/3] END criterion=entropy, max_depth=50, n_estimators=50; accuracy: (test=0.928) f1: (test=0.778) total time=  54.2s\n",
      "[CV 1/3] END criterion=entropy, max_depth=50, n_estimators=100; accuracy: (test=0.928) f1: (test=0.778) total time= 1.8min\n",
      "[CV 2/3] END criterion=entropy, max_depth=50, n_estimators=100; accuracy: (test=0.929) f1: (test=0.779) total time= 1.8min\n",
      "[CV 3/3] END criterion=entropy, max_depth=50, n_estimators=100; accuracy: (test=0.929) f1: (test=0.780) total time= 1.8min\n",
      "[CV 1/3] END criterion=entropy, max_depth=50, n_estimators=200; accuracy: (test=0.929) f1: (test=0.781) total time= 3.6min\n",
      "[CV 2/3] END criterion=entropy, max_depth=50, n_estimators=200; accuracy: (test=0.929) f1: (test=0.781) total time= 3.6min\n",
      "[CV 3/3] END criterion=entropy, max_depth=50, n_estimators=200; accuracy: (test=0.930) f1: (test=0.782) total time= 3.6min\n",
      "[CV 1/3] END criterion=entropy, max_depth=50, n_estimators=400; accuracy: (test=0.929) f1: (test=0.781) total time= 7.2min\n",
      "[CV 2/3] END criterion=entropy, max_depth=50, n_estimators=400; accuracy: (test=0.929) f1: (test=0.781) total time= 7.2min\n",
      "[CV 3/3] END criterion=entropy, max_depth=50, n_estimators=400; accuracy: (test=0.929) f1: (test=0.781) total time= 7.2min\n",
      "[CV 1/3] END criterion=entropy, max_depth=100, n_estimators=50; accuracy: (test=0.927) f1: (test=0.773) total time=  54.2s\n",
      "[CV 2/3] END criterion=entropy, max_depth=100, n_estimators=50; accuracy: (test=0.928) f1: (test=0.777) total time=  54.6s\n",
      "[CV 3/3] END criterion=entropy, max_depth=100, n_estimators=50; accuracy: (test=0.927) f1: (test=0.773) total time=  54.3s\n",
      "[CV 1/3] END criterion=entropy, max_depth=100, n_estimators=100; accuracy: (test=0.928) f1: (test=0.777) total time= 1.8min\n",
      "[CV 2/3] END criterion=entropy, max_depth=100, n_estimators=100; accuracy: (test=0.929) f1: (test=0.780) total time= 1.8min\n",
      "[CV 3/3] END criterion=entropy, max_depth=100, n_estimators=100; accuracy: (test=0.928) f1: (test=0.777) total time= 1.8min\n",
      "[CV 1/3] END criterion=entropy, max_depth=100, n_estimators=200; accuracy: (test=0.929) f1: (test=0.779) total time= 3.6min\n"
     ]
    },
    {
     "name": "stdout",
     "output_type": "stream",
     "text": [
      "[CV 2/3] END criterion=entropy, max_depth=100, n_estimators=200; accuracy: (test=0.929) f1: (test=0.781) total time= 3.6min\n",
      "[CV 3/3] END criterion=entropy, max_depth=100, n_estimators=200; accuracy: (test=0.929) f1: (test=0.781) total time= 3.6min\n",
      "[CV 1/3] END criterion=entropy, max_depth=100, n_estimators=400; accuracy: (test=0.929) f1: (test=0.780) total time= 7.2min\n",
      "[CV 2/3] END criterion=entropy, max_depth=100, n_estimators=400; accuracy: (test=0.929) f1: (test=0.781) total time= 7.2min\n",
      "[CV 3/3] END criterion=entropy, max_depth=100, n_estimators=400; accuracy: (test=0.929) f1: (test=0.781) total time= 7.2min\n",
      "[CV 1/3] END criterion=entropy, max_depth=200, n_estimators=50; accuracy: (test=0.927) f1: (test=0.773) total time=  54.2s\n",
      "[CV 2/3] END criterion=entropy, max_depth=200, n_estimators=50; accuracy: (test=0.928) f1: (test=0.777) total time=  54.6s\n",
      "[CV 3/3] END criterion=entropy, max_depth=200, n_estimators=50; accuracy: (test=0.927) f1: (test=0.773) total time=  54.2s\n",
      "[CV 1/3] END criterion=entropy, max_depth=200, n_estimators=100; accuracy: (test=0.928) f1: (test=0.777) total time= 1.8min\n",
      "[CV 2/3] END criterion=entropy, max_depth=200, n_estimators=100; accuracy: (test=0.929) f1: (test=0.780) total time= 1.8min\n",
      "[CV 3/3] END criterion=entropy, max_depth=200, n_estimators=100; accuracy: (test=0.928) f1: (test=0.777) total time= 1.8min\n",
      "[CV 1/3] END criterion=entropy, max_depth=200, n_estimators=200; accuracy: (test=0.929) f1: (test=0.779) total time= 3.6min\n",
      "[CV 2/3] END criterion=entropy, max_depth=200, n_estimators=200; accuracy: (test=0.929) f1: (test=0.781) total time= 3.6min\n",
      "[CV 3/3] END criterion=entropy, max_depth=200, n_estimators=200; accuracy: (test=0.929) f1: (test=0.781) total time= 3.6min\n",
      "[CV 1/3] END criterion=entropy, max_depth=200, n_estimators=400; accuracy: (test=0.929) f1: (test=0.780) total time= 7.2min\n",
      "[CV 2/3] END criterion=entropy, max_depth=200, n_estimators=400; accuracy: (test=0.929) f1: (test=0.781) total time= 7.2min\n",
      "[CV 3/3] END criterion=entropy, max_depth=200, n_estimators=400; accuracy: (test=0.929) f1: (test=0.781) total time= 7.2min\n",
      "[CV 1/3] END criterion=entropy, max_depth=None, n_estimators=50; accuracy: (test=0.927) f1: (test=0.773) total time=  54.3s\n",
      "[CV 2/3] END criterion=entropy, max_depth=None, n_estimators=50; accuracy: (test=0.928) f1: (test=0.777) total time=  54.6s\n",
      "[CV 3/3] END criterion=entropy, max_depth=None, n_estimators=50; accuracy: (test=0.927) f1: (test=0.773) total time=  54.3s\n",
      "[CV 1/3] END criterion=entropy, max_depth=None, n_estimators=100; accuracy: (test=0.928) f1: (test=0.777) total time= 1.8min\n",
      "[CV 2/3] END criterion=entropy, max_depth=None, n_estimators=100; accuracy: (test=0.929) f1: (test=0.780) total time= 1.8min\n",
      "[CV 3/3] END criterion=entropy, max_depth=None, n_estimators=100; accuracy: (test=0.928) f1: (test=0.777) total time= 1.8min\n",
      "[CV 1/3] END criterion=entropy, max_depth=None, n_estimators=200; accuracy: (test=0.929) f1: (test=0.779) total time= 3.6min\n",
      "[CV 2/3] END criterion=entropy, max_depth=None, n_estimators=200; accuracy: (test=0.929) f1: (test=0.781) total time= 3.6min\n",
      "[CV 3/3] END criterion=entropy, max_depth=None, n_estimators=200; accuracy: (test=0.929) f1: (test=0.781) total time= 3.6min\n",
      "[CV 1/3] END criterion=entropy, max_depth=None, n_estimators=400; accuracy: (test=0.929) f1: (test=0.780) total time= 7.2min\n",
      "[CV 2/3] END criterion=entropy, max_depth=None, n_estimators=400; accuracy: (test=0.929) f1: (test=0.781) total time= 7.2min\n",
      "[CV 3/3] END criterion=entropy, max_depth=None, n_estimators=400; accuracy: (test=0.929) f1: (test=0.781) total time= 7.2min\n"
     ]
    },
    {
     "data": {
      "text/plain": [
       "GridSearchCV(cv=3, estimator=RandomForestClassifier(random_state=42), n_jobs=1,\n",
       "             param_grid={'criterion': ['gini', 'entropy'],\n",
       "                         'max_depth': [50, 100, 200, None],\n",
       "                         'n_estimators': [50, 100, 200, 400]},\n",
       "             refit='f1', scoring=('accuracy', 'f1'), verbose=5)"
      ]
     },
     "execution_count": 9,
     "metadata": {},
     "output_type": "execute_result"
    }
   ],
   "source": [
    "## Execute grid search to find the best hyperparameters\n",
    "search_results_rf = GridSearchCV(estimator=rf_for_search, param_grid=params, \n",
    "                                 cv=3, scoring=('accuracy', 'f1'), \n",
    "                                 refit='f1', n_jobs=1, verbose=5)\n",
    "search_results_rf.fit(X, y)"
   ]
  },
  {
   "cell_type": "code",
   "execution_count": 10,
   "id": "51c6c134",
   "metadata": {},
   "outputs": [
    {
     "data": {
      "text/html": [
       "<div>\n",
       "<style scoped>\n",
       "    .dataframe tbody tr th:only-of-type {\n",
       "        vertical-align: middle;\n",
       "    }\n",
       "\n",
       "    .dataframe tbody tr th {\n",
       "        vertical-align: top;\n",
       "    }\n",
       "\n",
       "    .dataframe thead th {\n",
       "        text-align: right;\n",
       "    }\n",
       "</style>\n",
       "<table border=\"1\" class=\"dataframe\">\n",
       "  <thead>\n",
       "    <tr style=\"text-align: right;\">\n",
       "      <th></th>\n",
       "      <th>param_criterion</th>\n",
       "      <th>param_n_estimators</th>\n",
       "      <th>param_max_depth</th>\n",
       "      <th>mean_test_accuracy</th>\n",
       "      <th>mean_test_f1</th>\n",
       "      <th>mean_fit_time</th>\n",
       "    </tr>\n",
       "  </thead>\n",
       "  <tbody>\n",
       "    <tr>\n",
       "      <th>18</th>\n",
       "      <td>entropy</td>\n",
       "      <td>200</td>\n",
       "      <td>50</td>\n",
       "      <td>0.929357</td>\n",
       "      <td>0.781256</td>\n",
       "      <td>200.043633</td>\n",
       "    </tr>\n",
       "    <tr>\n",
       "      <th>19</th>\n",
       "      <td>entropy</td>\n",
       "      <td>400</td>\n",
       "      <td>50</td>\n",
       "      <td>0.929338</td>\n",
       "      <td>0.781177</td>\n",
       "      <td>400.485493</td>\n",
       "    </tr>\n",
       "    <tr>\n",
       "      <th>2</th>\n",
       "      <td>gini</td>\n",
       "      <td>200</td>\n",
       "      <td>50</td>\n",
       "      <td>0.929458</td>\n",
       "      <td>0.780958</td>\n",
       "      <td>192.234258</td>\n",
       "    </tr>\n",
       "    <tr>\n",
       "      <th>31</th>\n",
       "      <td>entropy</td>\n",
       "      <td>400</td>\n",
       "      <td>None</td>\n",
       "      <td>0.929206</td>\n",
       "      <td>0.780557</td>\n",
       "      <td>401.336381</td>\n",
       "    </tr>\n",
       "    <tr>\n",
       "      <th>27</th>\n",
       "      <td>entropy</td>\n",
       "      <td>400</td>\n",
       "      <td>200</td>\n",
       "      <td>0.929206</td>\n",
       "      <td>0.780557</td>\n",
       "      <td>401.613481</td>\n",
       "    </tr>\n",
       "  </tbody>\n",
       "</table>\n",
       "</div>"
      ],
      "text/plain": [
       "   param_criterion param_n_estimators param_max_depth  mean_test_accuracy  \\\n",
       "18         entropy                200              50            0.929357   \n",
       "19         entropy                400              50            0.929338   \n",
       "2             gini                200              50            0.929458   \n",
       "31         entropy                400            None            0.929206   \n",
       "27         entropy                400             200            0.929206   \n",
       "\n",
       "    mean_test_f1  mean_fit_time  \n",
       "18      0.781256     200.043633  \n",
       "19      0.781177     400.485493  \n",
       "2       0.780958     192.234258  \n",
       "31      0.780557     401.336381  \n",
       "27      0.780557     401.613481  "
      ]
     },
     "execution_count": 10,
     "metadata": {},
     "output_type": "execute_result"
    }
   ],
   "source": [
    "scores_rf = pd.DataFrame(search_results_rf.cv_results_)[['param_criterion', \n",
    "                                                         'param_n_estimators', \n",
    "                                                         'param_max_depth', \n",
    "                                                         'mean_test_accuracy', \n",
    "                                                         'mean_test_f1', \n",
    "                                                         'mean_fit_time']]\n",
    "scores_rf.sort_values(by='mean_test_f1', ascending=False).head(5)"
   ]
  },
  {
   "cell_type": "code",
   "execution_count": 11,
   "id": "5066833a",
   "metadata": {},
   "outputs": [
    {
     "data": {
      "text/plain": [
       "{'criterion': 'entropy', 'max_depth': 50, 'n_estimators': 200}"
      ]
     },
     "execution_count": 11,
     "metadata": {},
     "output_type": "execute_result"
    }
   ],
   "source": [
    "## Print out the best hyperparameters found\n",
    "search_results_rf.best_params_"
   ]
  },
  {
   "cell_type": "code",
   "execution_count": 12,
   "id": "07568c30",
   "metadata": {},
   "outputs": [],
   "source": [
    "best_rf = search_results_rf.best_estimator_"
   ]
  },
  {
   "cell_type": "markdown",
   "id": "d3671702",
   "metadata": {},
   "source": [
    "Now that we have chosen the best hyperparameters for the random forest model, we fit the model on the entire training set, and evaluate performance on the validation data."
   ]
  },
  {
   "cell_type": "code",
   "execution_count": 13,
   "id": "729a2f94",
   "metadata": {},
   "outputs": [
    {
     "name": "stdout",
     "output_type": "stream",
     "text": [
      "CPU times: user 5min 9s, sys: 1.93 s, total: 5min 11s\n",
      "Wall time: 5min 11s\n"
     ]
    },
    {
     "data": {
      "text/plain": [
       "RandomForestClassifier(criterion='entropy', max_depth=50, n_estimators=200,\n",
       "                       random_state=42)"
      ]
     },
     "execution_count": 13,
     "metadata": {},
     "output_type": "execute_result"
    }
   ],
   "source": [
    "%%time\n",
    "## Fit our optimized random forest model to the training data\n",
    "best_rf.fit(X, y)"
   ]
  },
  {
   "cell_type": "code",
   "execution_count": 14,
   "id": "5a4e9db8",
   "metadata": {},
   "outputs": [],
   "source": [
    "X_val_df = pd.read_csv('../Data/Processed/X_test.csv')\n",
    "y_val_df = pd.read_csv('../Data/Processed/y_test.csv')"
   ]
  },
  {
   "cell_type": "code",
   "execution_count": 15,
   "id": "dd30d471",
   "metadata": {},
   "outputs": [],
   "source": [
    "## Load the validation data, and save features as an array and labels as a \n",
    "X_val = X_val_df.values\n",
    "y_val = y_val_df.values\n",
    "y_val = y_val.ravel()"
   ]
  },
  {
   "cell_type": "code",
   "execution_count": 42,
   "id": "2382c11d",
   "metadata": {},
   "outputs": [
    {
     "name": "stdout",
     "output_type": "stream",
     "text": [
      "CPU times: user 22.4 s, sys: 4 ms, total: 22.4 s\n",
      "Wall time: 22.4 s\n"
     ]
    }
   ],
   "source": [
    "%%time\n",
    "## Use our model to make a prediction on the validation set\n",
    "y_val_pred_rf = best_rf.predict(X_val)"
   ]
  },
  {
   "cell_type": "code",
   "execution_count": 43,
   "id": "a6884255",
   "metadata": {},
   "outputs": [
    {
     "name": "stdout",
     "output_type": "stream",
     "text": [
      "Accuracy: 0.93\n",
      "Precision: 0.73\n",
      "Recall: 0.85\n",
      "f1 score: 0.79\n"
     ]
    }
   ],
   "source": [
    "## Print metrics for this model.\n",
    "print(\"Accuracy: {:.2f}\".format(accuracy_score(y_val_pred_rf, y_val)))\n",
    "print(\"Precision: {:.2f}\".format(precision_score(y_val_pred_rf, y_val)))\n",
    "print(\"Recall: {:.2f}\".format(recall_score(y_val_pred_rf, y_val)))\n",
    "print(\"f1 score: {:.2f}\".format(f1_score(y_val_pred_rf, y_val)))"
   ]
  },
  {
   "cell_type": "markdown",
   "id": "a48f0cf4",
   "metadata": {},
   "source": [
    "Finally, we examine the most important features of our model."
   ]
  },
  {
   "cell_type": "code",
   "execution_count": 18,
   "id": "be3ad5c2",
   "metadata": {},
   "outputs": [
    {
     "data": {
      "image/png": "[encoded data removed]",
      "text/plain": [
       "<Figure size 720x360 with 1 Axes>"
      ]
     },
     "metadata": {
      "needs_background": "light"
     },
     "output_type": "display_data"
    }
   ],
   "source": [
    "## Graph shows feature importances for this model\n",
    "plt.subplots(figsize=(10, 5))\n",
    "importances = best_rf.feature_importances_\n",
    "labeled_importances = pd.Series(importances, index=feature_names).sort_values(ascending=False)[:10]\n",
    "labeled_importances.plot(kind='bar')\n",
    "plt.xlabel('features')\n",
    "plt.ylabel('importance')\n",
    "plt.title('Best random forest model feature importances');"
   ]
  },
  {
   "cell_type": "markdown",
   "id": "5c243ad8",
   "metadata": {},
   "source": [
    "#### Conclusion: random forest\n",
    "\n",
    "Random forest offers decent performance even with the default hyperparameters from `sklearn`. However, our efforts to improve performance with hyperparameter turning were not very successful. Our optimized model performed less than a percentage point better on our target metric, but took much longer to train. If we want a more powerful model, we will need to try a different algorithm. "
   ]
  },
  {
   "cell_type": "markdown",
   "id": "bfe93248",
   "metadata": {},
   "source": [
    "### Gradient Boosting Algorithm"
   ]
  },
  {
   "cell_type": "markdown",
   "id": "56d527e1",
   "metadata": {},
   "source": [
    "#### Evaluating the default model"
   ]
  },
  {
   "cell_type": "markdown",
   "id": "9b38aee8",
   "metadata": {},
   "source": [
    "We now follow a similar process with gradient boosting. We start by evaluating the default version of the model."
   ]
  },
  {
   "cell_type": "code",
   "execution_count": 19,
   "id": "4241d8dc",
   "metadata": {},
   "outputs": [],
   "source": [
    "gb_model = GradientBoostingClassifier(random_state=42)"
   ]
  },
  {
   "cell_type": "code",
   "execution_count": 22,
   "id": "eb9809b1",
   "metadata": {},
   "outputs": [],
   "source": [
    "cv_results_gb = cross_validate(gb_model, X, y, scoring=('f1', 'accuracy'), cv=3, n_jobs=1)"
   ]
  },
  {
   "cell_type": "code",
   "execution_count": 23,
   "id": "f3802ee0",
   "metadata": {},
   "outputs": [
    {
     "data": {
      "text/plain": [
       "fit_time         243.653422\n",
       "score_time         0.702324\n",
       "test_f1            0.784661\n",
       "test_accuracy      0.929202\n",
       "dtype: float64"
      ]
     },
     "execution_count": 23,
     "metadata": {},
     "output_type": "execute_result"
    }
   ],
   "source": [
    "# Print cross-validated metrics for the 'out of the box' gradient boosting model\n",
    "pd.DataFrame(cv_results_gb).mean()"
   ]
  },
  {
   "cell_type": "markdown",
   "id": "c7b0aa02",
   "metadata": {},
   "source": [
    "It seems that gradient boosting gives similar performance to random forest with the default setting. Lets see if gradient boosting is more responsive to hyperparameter tuning."
   ]
  },
  {
   "cell_type": "markdown",
   "id": "9ee7c74a",
   "metadata": {},
   "source": [
    "#### Hyperparameter tuning"
   ]
  },
  {
   "cell_type": "markdown",
   "id": "e26a7725",
   "metadata": {},
   "source": [
    "One again we conduct a grid search. This time instead of `criterion`, we vary the parameter `learning_rate`, which determines how quickly the boosting algorithm learns from its mistakes at each iteration. Gradient boosting tends to perform well with a large number of relatively shallow trees, so we try small values for `max_depth`. Unfortunately, gradient boosting tends to need more training time, so we skip evaluating models with 400 trees for now."
   ]
  },
  {
   "cell_type": "code",
   "execution_count": 24,
   "id": "ee926caf",
   "metadata": {},
   "outputs": [],
   "source": [
    "# Set up parameter grid and declare a new estimator\n",
    "params_gb = {'n_estimators': [100, 200],\n",
    "            'max_depth': [7, 11, 15],\n",
    "            'learning_rate': [0.01, 0.1, 1]}\n",
    "\n",
    "gb_for_search = GradientBoostingClassifier(random_state=42)"
   ]
  },
  {
   "cell_type": "code",
   "execution_count": 25,
   "id": "3eee6cc6",
   "metadata": {},
   "outputs": [
    {
     "name": "stdout",
     "output_type": "stream",
     "text": [
      "Fitting 3 folds for each of 18 candidates, totalling 54 fits\n",
      "[CV 1/3] END learning_rate=0.01, max_depth=7, n_estimators=100; accuracy: (test=0.927) f1: (test=0.761) total time= 8.2min\n",
      "[CV 2/3] END learning_rate=0.01, max_depth=7, n_estimators=100; accuracy: (test=0.926) f1: (test=0.758) total time= 8.2min\n",
      "[CV 3/3] END learning_rate=0.01, max_depth=7, n_estimators=100; accuracy: (test=0.927) f1: (test=0.760) total time= 8.2min\n",
      "[CV 1/3] END learning_rate=0.01, max_depth=7, n_estimators=200; accuracy: (test=0.937) f1: (test=0.807) total time=16.5min\n",
      "[CV 2/3] END learning_rate=0.01, max_depth=7, n_estimators=200; accuracy: (test=0.936) f1: (test=0.806) total time=16.5min\n",
      "[CV 3/3] END learning_rate=0.01, max_depth=7, n_estimators=200; accuracy: (test=0.937) f1: (test=0.808) total time=16.4min\n",
      "[CV 1/3] END learning_rate=0.01, max_depth=11, n_estimators=100; accuracy: (test=0.937) f1: (test=0.800) total time=12.2min\n",
      "[CV 2/3] END learning_rate=0.01, max_depth=11, n_estimators=100; accuracy: (test=0.936) f1: (test=0.800) total time=12.2min\n",
      "[CV 3/3] END learning_rate=0.01, max_depth=11, n_estimators=100; accuracy: (test=0.937) f1: (test=0.801) total time=12.1min\n",
      "[CV 1/3] END learning_rate=0.01, max_depth=11, n_estimators=200; accuracy: (test=0.943) f1: (test=0.829) total time=24.3min\n",
      "[CV 2/3] END learning_rate=0.01, max_depth=11, n_estimators=200; accuracy: (test=0.942) f1: (test=0.827) total time=24.3min\n",
      "[CV 3/3] END learning_rate=0.01, max_depth=11, n_estimators=200; accuracy: (test=0.944) f1: (test=0.832) total time=24.3min\n",
      "[CV 1/3] END learning_rate=0.01, max_depth=15, n_estimators=100; accuracy: (test=0.937) f1: (test=0.804) total time=18.1min\n",
      "[CV 2/3] END learning_rate=0.01, max_depth=15, n_estimators=100; accuracy: (test=0.937) f1: (test=0.804) total time=18.2min\n",
      "[CV 3/3] END learning_rate=0.01, max_depth=15, n_estimators=100; accuracy: (test=0.938) f1: (test=0.807) total time=18.2min\n",
      "[CV 1/3] END learning_rate=0.01, max_depth=15, n_estimators=200; accuracy: (test=0.942) f1: (test=0.828) total time=36.3min\n",
      "[CV 2/3] END learning_rate=0.01, max_depth=15, n_estimators=200; accuracy: (test=0.942) f1: (test=0.828) total time=36.6min\n",
      "[CV 3/3] END learning_rate=0.01, max_depth=15, n_estimators=200; accuracy: (test=0.942) f1: (test=0.829) total time=36.6min\n",
      "[CV 1/3] END learning_rate=0.1, max_depth=7, n_estimators=100; accuracy: (test=0.943) f1: (test=0.832) total time= 8.4min\n",
      "[CV 2/3] END learning_rate=0.1, max_depth=7, n_estimators=100; accuracy: (test=0.943) f1: (test=0.833) total time= 8.3min\n",
      "[CV 3/3] END learning_rate=0.1, max_depth=7, n_estimators=100; accuracy: (test=0.944) f1: (test=0.835) total time= 8.3min\n",
      "[CV 1/3] END learning_rate=0.1, max_depth=7, n_estimators=200; accuracy: (test=0.946) f1: (test=0.840) total time=16.9min\n",
      "[CV 2/3] END learning_rate=0.1, max_depth=7, n_estimators=200; accuracy: (test=0.945) f1: (test=0.840) total time=16.9min\n",
      "[CV 3/3] END learning_rate=0.1, max_depth=7, n_estimators=200; accuracy: (test=0.947) f1: (test=0.843) total time=16.9min\n",
      "[CV 1/3] END learning_rate=0.1, max_depth=11, n_estimators=100; accuracy: (test=0.946) f1: (test=0.844) total time=12.6min\n",
      "[CV 2/3] END learning_rate=0.1, max_depth=11, n_estimators=100; accuracy: (test=0.946) f1: (test=0.843) total time=12.6min\n",
      "[CV 3/3] END learning_rate=0.1, max_depth=11, n_estimators=100; accuracy: (test=0.947) f1: (test=0.845) total time=12.6min\n",
      "[CV 1/3] END learning_rate=0.1, max_depth=11, n_estimators=200; accuracy: (test=0.946) f1: (test=0.844) total time=25.8min\n",
      "[CV 2/3] END learning_rate=0.1, max_depth=11, n_estimators=200; accuracy: (test=0.946) f1: (test=0.844) total time=25.7min\n",
      "[CV 3/3] END learning_rate=0.1, max_depth=11, n_estimators=200; accuracy: (test=0.947) f1: (test=0.846) total time=25.8min\n",
      "[CV 1/3] END learning_rate=0.1, max_depth=15, n_estimators=100; accuracy: (test=0.945) f1: (test=0.839) total time=17.9min\n",
      "[CV 2/3] END learning_rate=0.1, max_depth=15, n_estimators=100; accuracy: (test=0.944) f1: (test=0.838) total time=17.9min\n",
      "[CV 3/3] END learning_rate=0.1, max_depth=15, n_estimators=100; accuracy: (test=0.945) f1: (test=0.841) total time=18.0min\n",
      "[CV 1/3] END learning_rate=0.1, max_depth=15, n_estimators=200; accuracy: (test=0.944) f1: (test=0.839) total time=36.1min\n",
      "[CV 2/3] END learning_rate=0.1, max_depth=15, n_estimators=200; accuracy: (test=0.944) f1: (test=0.838) total time=36.1min\n",
      "[CV 3/3] END learning_rate=0.1, max_depth=15, n_estimators=200; accuracy: (test=0.945) f1: (test=0.841) total time=36.3min\n",
      "[CV 1/3] END learning_rate=1, max_depth=7, n_estimators=100; accuracy: (test=0.936) f1: (test=0.818) total time= 8.6min\n",
      "[CV 2/3] END learning_rate=1, max_depth=7, n_estimators=100; accuracy: (test=0.936) f1: (test=0.817) total time= 8.5min\n",
      "[CV 3/3] END learning_rate=1, max_depth=7, n_estimators=100; accuracy: (test=0.938) f1: (test=0.821) total time= 8.6min\n",
      "[CV 1/3] END learning_rate=1, max_depth=7, n_estimators=200; accuracy: (test=0.936) f1: (test=0.817) total time=17.3min\n",
      "[CV 2/3] END learning_rate=1, max_depth=7, n_estimators=200; accuracy: (test=0.932) f1: (test=0.809) total time=17.2min\n",
      "[CV 3/3] END learning_rate=1, max_depth=7, n_estimators=200; accuracy: (test=0.937) f1: (test=0.819) total time=17.1min\n",
      "[CV 1/3] END learning_rate=1, max_depth=11, n_estimators=100; accuracy: (test=0.933) f1: (test=0.805) total time=13.3min\n",
      "[CV 2/3] END learning_rate=1, max_depth=11, n_estimators=100; accuracy: (test=0.932) f1: (test=0.804) total time=13.3min\n",
      "[CV 3/3] END learning_rate=1, max_depth=11, n_estimators=100; accuracy: (test=0.932) f1: (test=0.805) total time=13.4min\n",
      "[CV 1/3] END learning_rate=1, max_depth=11, n_estimators=200; accuracy: (test=0.931) f1: (test=0.800) total time=26.6min\n",
      "[CV 2/3] END learning_rate=1, max_depth=11, n_estimators=200; accuracy: (test=0.931) f1: (test=0.803) total time=26.8min\n",
      "[CV 3/3] END learning_rate=1, max_depth=11, n_estimators=200; accuracy: (test=0.932) f1: (test=0.803) total time=26.9min\n",
      "[CV 1/3] END learning_rate=1, max_depth=15, n_estimators=100; accuracy: (test=0.880) f1: (test=0.683) total time=17.9min\n",
      "[CV 2/3] END learning_rate=1, max_depth=15, n_estimators=100; accuracy: (test=0.900) f1: (test=0.727) total time=17.9min\n",
      "[CV 3/3] END learning_rate=1, max_depth=15, n_estimators=100; accuracy: (test=0.878) f1: (test=0.681) total time=18.1min\n",
      "[CV 1/3] END learning_rate=1, max_depth=15, n_estimators=200; accuracy: (test=0.881) f1: (test=0.687) total time=35.8min\n",
      "[CV 2/3] END learning_rate=1, max_depth=15, n_estimators=200; accuracy: (test=0.900) f1: (test=0.728) total time=35.6min\n",
      "[CV 3/3] END learning_rate=1, max_depth=15, n_estimators=200; accuracy: (test=0.875) f1: (test=0.676) total time=36.2min\n"
     ]
    },
    {
     "data": {
      "text/plain": [
       "GridSearchCV(cv=3, estimator=GradientBoostingClassifier(random_state=42),\n",
       "             n_jobs=1,\n",
       "             param_grid={'learning_rate': [0.01, 0.1, 1],\n",
       "                         'max_depth': [7, 11, 15], 'n_estimators': [100, 200]},\n",
       "             refit='f1', scoring=('accuracy', 'f1'), verbose=5)"
      ]
     },
     "execution_count": 25,
     "metadata": {},
     "output_type": "execute_result"
    }
   ],
   "source": [
    "# Execute the grid search\n",
    "search_results_gb = GridSearchCV(estimator=gb_for_search, param_grid=params_gb, cv=3, \n",
    "                                 scoring=('accuracy', 'f1'), refit='f1', \n",
    "                                 n_jobs=1, verbose=5)\n",
    "search_results_gb.fit(X, y)"
   ]
  },
  {
   "cell_type": "code",
   "execution_count": 28,
   "id": "d54ac6ad",
   "metadata": {},
   "outputs": [
    {
     "data": {
      "text/html": [
       "<div>\n",
       "<style scoped>\n",
       "    .dataframe tbody tr th:only-of-type {\n",
       "        vertical-align: middle;\n",
       "    }\n",
       "\n",
       "    .dataframe tbody tr th {\n",
       "        vertical-align: top;\n",
       "    }\n",
       "\n",
       "    .dataframe thead th {\n",
       "        text-align: right;\n",
       "    }\n",
       "</style>\n",
       "<table border=\"1\" class=\"dataframe\">\n",
       "  <thead>\n",
       "    <tr style=\"text-align: right;\">\n",
       "      <th></th>\n",
       "      <th>param_learning_rate</th>\n",
       "      <th>param_max_depth</th>\n",
       "      <th>param_n_estimators</th>\n",
       "      <th>mean_test_accuracy</th>\n",
       "      <th>mean_test_f1</th>\n",
       "      <th>mean_fit_time</th>\n",
       "    </tr>\n",
       "  </thead>\n",
       "  <tbody>\n",
       "    <tr>\n",
       "      <th>9</th>\n",
       "      <td>0.1</td>\n",
       "      <td>11</td>\n",
       "      <td>200</td>\n",
       "      <td>0.946588</td>\n",
       "      <td>0.844743</td>\n",
       "      <td>1542.587769</td>\n",
       "    </tr>\n",
       "    <tr>\n",
       "      <th>8</th>\n",
       "      <td>0.1</td>\n",
       "      <td>11</td>\n",
       "      <td>100</td>\n",
       "      <td>0.946430</td>\n",
       "      <td>0.844126</td>\n",
       "      <td>753.871913</td>\n",
       "    </tr>\n",
       "    <tr>\n",
       "      <th>7</th>\n",
       "      <td>0.1</td>\n",
       "      <td>7</td>\n",
       "      <td>200</td>\n",
       "      <td>0.945902</td>\n",
       "      <td>0.841236</td>\n",
       "      <td>1011.585329</td>\n",
       "    </tr>\n",
       "    <tr>\n",
       "      <th>10</th>\n",
       "      <td>0.1</td>\n",
       "      <td>15</td>\n",
       "      <td>100</td>\n",
       "      <td>0.944706</td>\n",
       "      <td>0.839588</td>\n",
       "      <td>1073.781497</td>\n",
       "    </tr>\n",
       "    <tr>\n",
       "      <th>11</th>\n",
       "      <td>0.1</td>\n",
       "      <td>15</td>\n",
       "      <td>200</td>\n",
       "      <td>0.944653</td>\n",
       "      <td>0.839263</td>\n",
       "      <td>2164.470628</td>\n",
       "    </tr>\n",
       "  </tbody>\n",
       "</table>\n",
       "</div>"
      ],
      "text/plain": [
       "   param_learning_rate param_max_depth param_n_estimators  mean_test_accuracy  \\\n",
       "9                  0.1              11                200            0.946588   \n",
       "8                  0.1              11                100            0.946430   \n",
       "7                  0.1               7                200            0.945902   \n",
       "10                 0.1              15                100            0.944706   \n",
       "11                 0.1              15                200            0.944653   \n",
       "\n",
       "    mean_test_f1  mean_fit_time  \n",
       "9       0.844743    1542.587769  \n",
       "8       0.844126     753.871913  \n",
       "7       0.841236    1011.585329  \n",
       "10      0.839588    1073.781497  \n",
       "11      0.839263    2164.470628  "
      ]
     },
     "execution_count": 28,
     "metadata": {},
     "output_type": "execute_result"
    }
   ],
   "source": [
    "## Print out metrics for the top 5 models\n",
    "scores_gb = pd.DataFrame(search_results_gb.cv_results_)[['param_learning_rate', \n",
    "                                                         'param_max_depth', \n",
    "                                                         'param_n_estimators', \n",
    "                                                         'mean_test_accuracy', \n",
    "                                                         'mean_test_f1', \n",
    "                                                         'mean_fit_time']]\n",
    "scores_gb.sort_values(by='mean_test_f1', ascending=False).head(5)"
   ]
  },
  {
   "cell_type": "markdown",
   "id": "b5287c34",
   "metadata": {},
   "source": [
    "Here we notice something interesting. The second-best model performs almost as well as the best model--both accuracy and precision are identitcal to the third decimal place--but requires only half the training time. Since gradient boosting models need much more training time than random forest, this is a real concern. Using a model that is easier to train means we can more easily improve our model by training on updated or larger data sets later. So, we select the second model in the table above as our optimized gradient boosting classifier.\n",
    "\n",
    "We now train a model with the best hyperparameters from our search, and evaluate its performance on the test set. "
   ]
  },
  {
   "cell_type": "markdown",
   "id": "ac2c38b9",
   "metadata": {},
   "source": [
    "We now train a model with the best hyperparameters from our search, and evaluate its performance on the test set."
   ]
  },
  {
   "cell_type": "code",
   "execution_count": 35,
   "id": "6f2d0b94",
   "metadata": {},
   "outputs": [],
   "source": [
    "## Choose the estimator with the best f1 score\n",
    "best_gb = GradientBoostingClassifier(n_estimators=100, \n",
    "                                     learning_rate=0.1, max_depth=11, random_state=42)"
   ]
  },
  {
   "cell_type": "code",
   "execution_count": 49,
   "id": "79ba7a3e",
   "metadata": {},
   "outputs": [
    {
     "name": "stdout",
     "output_type": "stream",
     "text": [
      "CPU times: user 14min 13s, sys: 2.07 s, total: 14min 15s\n",
      "Wall time: 14min 21s\n"
     ]
    },
    {
     "data": {
      "text/plain": [
       "GradientBoostingClassifier(max_depth=11, random_state=42)"
      ]
     },
     "execution_count": 49,
     "metadata": {},
     "output_type": "execute_result"
    }
   ],
   "source": [
    "%%time\n",
    "## Fit our optimized gradient boosting model to all of the training data\n",
    "best_gb.fit(X, y)"
   ]
  },
  {
   "cell_type": "code",
   "execution_count": 50,
   "id": "6bb1bf5c",
   "metadata": {},
   "outputs": [
    {
     "name": "stdout",
     "output_type": "stream",
     "text": [
      "CPU times: user 2.06 s, sys: 4 ms, total: 2.06 s\n",
      "Wall time: 2.1 s\n"
     ]
    }
   ],
   "source": [
    "%%time\n",
    "## Now, use the optimized gradient boosting model to make predictions for the test set\n",
    "y_val_pred_gb = best_gb.predict(X_val)"
   ]
  },
  {
   "cell_type": "code",
   "execution_count": 51,
   "id": "e56dd796",
   "metadata": {},
   "outputs": [
    {
     "name": "stdout",
     "output_type": "stream",
     "text": [
      "Accuracy: 0.95\n",
      "Precision: 0.83\n",
      "Recall: 0.86\n",
      "f1 score: 0.85\n"
     ]
    }
   ],
   "source": [
    "## Print evaluation metrics for this model.\n",
    "print(\"Accuracy: {:.2f}\".format(accuracy_score(y_val_pred_gb, y_val)))\n",
    "print(\"Precision: {:.2f}\".format(precision_score(y_val_pred_gb, y_val)))\n",
    "print(\"Recall: {:.2f}\".format(recall_score(y_val_pred_gb, y_val)))\n",
    "print(\"f1 score: {:.2f}\".format(f1_score(y_val_pred_gb, y_val)))"
   ]
  },
  {
   "cell_type": "markdown",
   "id": "9a101e78",
   "metadata": {},
   "source": [
    "Finally, we plot feature importances for the gradient boosting model."
   ]
  },
  {
   "cell_type": "code",
   "execution_count": 52,
   "id": "adf3dcd4",
   "metadata": {},
   "outputs": [
    {
     "data": {
      "image/png": "[encoded data removed]",
      "text/plain": [
       "<Figure size 720x360 with 1 Axes>"
      ]
     },
     "metadata": {
      "needs_background": "light"
     },
     "output_type": "display_data"
    }
   ],
   "source": [
    "import matplotlib.pyplot as plt\n",
    "\n",
    "plt.subplots(figsize=(10, 5))\n",
    "importances = best_gb.feature_importances_\n",
    "labeled_importances = pd.Series(importances, index=feature_names).sort_values(ascending=False)[:10]\n",
    "labeled_importances.plot(kind='bar')\n",
    "plt.xlabel('features')\n",
    "plt.ylabel('importance')\n",
    "plt.title('Best gradient boosting model feature importances');"
   ]
  },
  {
   "cell_type": "markdown",
   "id": "123fa44a",
   "metadata": {},
   "source": [
    "#### Conclusion: gradient boosting\n",
    "\n",
    "The gradient boosting model performed similarly to random forest without hyperparameter turning. After tuning hyperparameters, we find the gradient boosting is significantly more powerful. We were able to acheive an f1 score of 0.85, a full 6 percentage-points higher than our best random forest model. The main downside was a much longer training time."
   ]
  },
  {
   "cell_type": "markdown",
   "id": "1f05442e",
   "metadata": {},
   "source": [
    "### Choosing the best model"
   ]
  },
  {
   "cell_type": "markdown",
   "id": "6b587592",
   "metadata": {},
   "source": [
    "Our best model is gradient boosting, with the `max_depth` parameter set to 11. (All other parameter values are defaults). This model outperformed our best random forest model on four metrics: accuracy, precision, recall, and f1-score. The most notable difference was in precision, which was 0.83 for gradient boosting verus 0.73 for random forest. Hence the gradient boosting model has fewer false positives; it is much less likely to falsely predict that a loan will go into default. \n",
    "\n",
    "The major disadvantage of gradient boosting is a longer fix time. Our best gradient boosting model had a mean fit time of 750 seconds when doing three-fold cross-validation on the training data. For random forest, the mean fit time was only 200 seconds. While this is a noticable difference, the training time for gradient boosting is not prohibitive. In addition, the gradient boosting model had much faster prediction times (approximately 2 seconds to predict the test set, compared to 22 seconds for random forest). With its faster, more precise predictions, gradient boosting is worth the extra training time.\n",
    "\n",
    "As a final remark, it is reassuring to note that random forest and gradient boosting had the same top-five features, although gradient boosting put even more emphasis on the `term` feature than random forest. The fact that the models agreed on which features are import suggests that both are finding genuine relationships in the data."
   ]
  }
 ],
 "metadata": {
  "kernelspec": {
   "display_name": "Python 3",
   "language": "python",
   "name": "python3"
  },
  "language_info": {
   "codemirror_mode": {
    "name": "ipython",
    "version": 3
   },
   "file_extension": ".py",
   "mimetype": "text/x-python",
   "name": "python",
   "nbconvert_exporter": "python",
   "pygments_lexer": "ipython3",
   "version": "3.8.8"
  }
 },
 "nbformat": 4,
 "nbformat_minor": 5
}
