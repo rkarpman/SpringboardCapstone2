{
 "cells": [
  {
   "cell_type": "markdown",
   "id": "4d1cc679",
   "metadata": {},
   "source": [
    "## Modeling: Small business loans"
   ]
  },
  {
   "cell_type": "markdown",
   "id": "aa1d5341",
   "metadata": {},
   "source": [
    "We will now build a model to classify small business loans, according to whether they will be paid off or default. We will try two algorithms: random forest, and gradient boosting. To improve performance, we will tune hyperparameters for both algorithms."
   ]
  },
  {
   "cell_type": "markdown",
   "id": "67c9f96d",
   "metadata": {},
   "source": [
    "### Loading the data"
   ]
  },
  {
   "cell_type": "code",
   "execution_count": 3,
   "id": "36cee0ad",
   "metadata": {},
   "outputs": [],
   "source": [
    "## Import needed Python module and functions \n",
    "import pandas as pd\n",
    "import numpy as np\n",
    "\n",
    "from sklearn.model_selection import train_test_split\n",
    "from sklearn.model_selection import cross_validate\n",
    "from sklearn.model_selection import cross_val_score\n",
    "from sklearn.ensemble import RandomForestClassifier\n",
    "from sklearn.ensemble import GradientBoostingClassifier\n",
    "from sklearn.metrics import accuracy_score\n",
    "from sklearn.metrics import f1_score"
   ]
  },
  {
   "cell_type": "code",
   "execution_count": 4,
   "id": "95b02c78",
   "metadata": {},
   "outputs": [],
   "source": [
    "## Import features for training values\n",
    "features = pd.read_csv('../Data/Processed/X_train.csv')"
   ]
  },
  {
   "cell_type": "code",
   "execution_count": 5,
   "id": "6b41bcd4",
   "metadata": {},
   "outputs": [],
   "source": [
    "## Import labels for training data\n",
    "labels = pd.read_csv('../Data/Processed/y_train.csv')"
   ]
  },
  {
   "cell_type": "code",
   "execution_count": 6,
   "id": "191a1d25",
   "metadata": {},
   "outputs": [],
   "source": [
    "## Split training set into training and validation sets,\n",
    "## to validate 'out of the box' models.\n",
    "feature_names = features.columns\n",
    "X = features.values\n",
    "y = labels.values\n",
    "y = y.ravel()\n",
    "X_train, X_test, y_train, y_test = train_test_split(X, y, \n",
    "                                                    test_size=0.33, random_state=42)"
   ]
  },
  {
   "cell_type": "code",
   "execution_count": null,
   "id": "bdb61e69",
   "metadata": {},
   "outputs": [],
   "source": [
    "### Random forest model"
   ]
  },
  {
   "cell_type": "code",
   "execution_count": 7,
   "id": "6e570a08",
   "metadata": {},
   "outputs": [],
   "source": [
    "rf_model = RandomForestClassifier()"
   ]
  },
  {
   "cell_type": "code",
   "execution_count": 8,
   "id": "fcba3317",
   "metadata": {},
   "outputs": [
    {
     "name": "stdout",
     "output_type": "stream",
     "text": [
      "CPU times: user 2min 11s, sys: 340 ms, total: 2min 11s\n",
      "Wall time: 2min 11s\n"
     ]
    },
    {
     "data": {
      "text/plain": [
       "RandomForestClassifier()"
      ]
     },
     "execution_count": 8,
     "metadata": {},
     "output_type": "execute_result"
    }
   ],
   "source": [
    "%%time\n",
    "rf_model.fit(X_train, y_train)"
   ]
  },
  {
   "cell_type": "code",
   "execution_count": 32,
   "id": "e1fb4c8a",
   "metadata": {},
   "outputs": [
    {
     "name": "stdout",
     "output_type": "stream",
     "text": [
      "0.9293674673480022 0.779410992703029\n",
      "CPU times: user 5.04 s, sys: 232 ms, total: 5.27 s\n",
      "Wall time: 5.41 s\n"
     ]
    }
   ],
   "source": [
    "%%time\n",
    "rf_pred = rf_model.predict(X_test)\n",
    "print(accuracy_score(y_test, rf_pred), f1_score(y_test, rf_pred))"
   ]
  },
  {
   "cell_type": "code",
   "execution_count": 11,
   "id": "098df602",
   "metadata": {},
   "outputs": [
    {
     "name": "stdout",
     "output_type": "stream",
     "text": [
      "CPU times: user 5min 8s, sys: 1.18 s, total: 5min 9s\n",
      "Wall time: 5min 9s\n"
     ]
    },
    {
     "data": {
      "text/plain": [
       "array([0.77802666, 0.77822783, 0.78170823])"
      ]
     },
     "execution_count": 11,
     "metadata": {},
     "output_type": "execute_result"
    }
   ],
   "source": [
    "%%time\n",
    "cross_val_score(rf_model, X, y, scoring='f1', cv=3, n_jobs=1)"
   ]
  },
  {
   "cell_type": "code",
   "execution_count": 12,
   "id": "ede3de32",
   "metadata": {},
   "outputs": [],
   "source": [
    "params = {'n_estimators': [10, 50, 100, 200],\n",
    "          'criterion' : ['gini', 'entropy'],\n",
    "          'max_depth': [10, 50, 100, None]\n",
    "}\n",
    "\n",
    "rf_for_search = RandomForestClassifier()"
   ]
  },
  {
   "cell_type": "code",
   "execution_count": 13,
   "id": "93d78006",
   "metadata": {},
   "outputs": [],
   "source": [
    "from sklearn.model_selection import GridSearchCV\n",
    "search_results_rf = GridSearchCV(estimator=rf_for_search, param_grid=params, cv=3, scoring=('accuracy', 'f1'), refit='f1', n_jobs=1, verbose=5)"
   ]
  },
  {
   "cell_type": "code",
   "execution_count": 14,
   "id": "332b26f2",
   "metadata": {},
   "outputs": [
    {
     "name": "stdout",
     "output_type": "stream",
     "text": [
      "Fitting 3 folds for each of 32 candidates, totalling 96 fits\n",
      "[CV 1/3] END criterion=gini, max_depth=10, n_estimators=10; accuracy: (test=0.895) f1: (test=0.630) total time=   6.2s\n",
      "[CV 2/3] END criterion=gini, max_depth=10, n_estimators=10; accuracy: (test=0.882) f1: (test=0.539) total time=   5.7s\n",
      "[CV 3/3] END criterion=gini, max_depth=10, n_estimators=10; accuracy: (test=0.888) f1: (test=0.586) total time=   5.8s\n",
      "[CV 1/3] END criterion=gini, max_depth=10, n_estimators=50; accuracy: (test=0.887) f1: (test=0.572) total time=  26.7s\n",
      "[CV 2/3] END criterion=gini, max_depth=10, n_estimators=50; accuracy: (test=0.883) f1: (test=0.546) total time=  27.0s\n",
      "[CV 3/3] END criterion=gini, max_depth=10, n_estimators=50; accuracy: (test=0.891) f1: (test=0.603) total time=  27.5s\n",
      "[CV 1/3] END criterion=gini, max_depth=10, n_estimators=100; accuracy: (test=0.878) f1: (test=0.506) total time= 1.0min\n",
      "[CV 2/3] END criterion=gini, max_depth=10, n_estimators=100; accuracy: (test=0.888) f1: (test=0.579) total time=  53.3s\n",
      "[CV 3/3] END criterion=gini, max_depth=10, n_estimators=100; accuracy: (test=0.886) f1: (test=0.564) total time=  52.7s\n",
      "[CV 1/3] END criterion=gini, max_depth=10, n_estimators=200; accuracy: (test=0.886) f1: (test=0.573) total time= 1.8min\n",
      "[CV 2/3] END criterion=gini, max_depth=10, n_estimators=200; accuracy: (test=0.887) f1: (test=0.574) total time= 1.8min\n",
      "[CV 3/3] END criterion=gini, max_depth=10, n_estimators=200; accuracy: (test=0.886) f1: (test=0.565) total time= 1.8min\n",
      "[CV 1/3] END criterion=gini, max_depth=50, n_estimators=10; accuracy: (test=0.921) f1: (test=0.748) total time=  10.1s\n",
      "[CV 2/3] END criterion=gini, max_depth=50, n_estimators=10; accuracy: (test=0.917) f1: (test=0.730) total time=  10.1s\n",
      "[CV 3/3] END criterion=gini, max_depth=50, n_estimators=10; accuracy: (test=0.922) f1: (test=0.750) total time=  10.2s\n",
      "[CV 1/3] END criterion=gini, max_depth=50, n_estimators=50; accuracy: (test=0.929) f1: (test=0.780) total time=  50.0s\n",
      "[CV 2/3] END criterion=gini, max_depth=50, n_estimators=50; accuracy: (test=0.928) f1: (test=0.776) total time=  49.7s\n",
      "[CV 3/3] END criterion=gini, max_depth=50, n_estimators=50; accuracy: (test=0.928) f1: (test=0.776) total time=  49.5s\n",
      "[CV 1/3] END criterion=gini, max_depth=50, n_estimators=100; accuracy: (test=0.929) f1: (test=0.780) total time= 1.7min\n",
      "[CV 2/3] END criterion=gini, max_depth=50, n_estimators=100; accuracy: (test=0.929) f1: (test=0.779) total time= 1.7min\n",
      "[CV 3/3] END criterion=gini, max_depth=50, n_estimators=100; accuracy: (test=0.930) f1: (test=0.781) total time= 1.6min\n",
      "[CV 1/3] END criterion=gini, max_depth=50, n_estimators=200; accuracy: (test=0.930) f1: (test=0.782) total time= 3.3min\n",
      "[CV 2/3] END criterion=gini, max_depth=50, n_estimators=200; accuracy: (test=0.930) f1: (test=0.782) total time= 3.3min\n",
      "[CV 3/3] END criterion=gini, max_depth=50, n_estimators=200; accuracy: (test=0.930) f1: (test=0.782) total time= 3.4min\n",
      "[CV 1/3] END criterion=gini, max_depth=100, n_estimators=10; accuracy: (test=0.920) f1: (test=0.741) total time=  10.2s\n",
      "[CV 2/3] END criterion=gini, max_depth=100, n_estimators=10; accuracy: (test=0.922) f1: (test=0.751) total time=  10.2s\n",
      "[CV 3/3] END criterion=gini, max_depth=100, n_estimators=10; accuracy: (test=0.917) f1: (test=0.732) total time=  10.1s\n",
      "[CV 1/3] END criterion=gini, max_depth=100, n_estimators=50; accuracy: (test=0.928) f1: (test=0.776) total time=  50.1s\n",
      "[CV 2/3] END criterion=gini, max_depth=100, n_estimators=50; accuracy: (test=0.929) f1: (test=0.778) total time=  49.3s\n",
      "[CV 3/3] END criterion=gini, max_depth=100, n_estimators=50; accuracy: (test=0.928) f1: (test=0.777) total time=  49.4s\n",
      "[CV 1/3] END criterion=gini, max_depth=100, n_estimators=100; accuracy: (test=0.928) f1: (test=0.777) total time= 1.7min\n",
      "[CV 2/3] END criterion=gini, max_depth=100, n_estimators=100; accuracy: (test=0.929) f1: (test=0.779) total time= 1.7min\n",
      "[CV 3/3] END criterion=gini, max_depth=100, n_estimators=100; accuracy: (test=0.929) f1: (test=0.779) total time= 1.6min\n",
      "[CV 1/3] END criterion=gini, max_depth=100, n_estimators=200; accuracy: (test=0.930) f1: (test=0.782) total time= 3.3min\n",
      "[CV 2/3] END criterion=gini, max_depth=100, n_estimators=200; accuracy: (test=0.929) f1: (test=0.780) total time= 3.3min\n",
      "[CV 3/3] END criterion=gini, max_depth=100, n_estimators=200; accuracy: (test=0.930) f1: (test=0.782) total time= 3.3min\n",
      "[CV 1/3] END criterion=gini, max_depth=None, n_estimators=10; accuracy: (test=0.921) f1: (test=0.744) total time=  10.2s\n",
      "[CV 2/3] END criterion=gini, max_depth=None, n_estimators=10; accuracy: (test=0.921) f1: (test=0.745) total time=  10.4s\n",
      "[CV 3/3] END criterion=gini, max_depth=None, n_estimators=10; accuracy: (test=0.919) f1: (test=0.740) total time=  10.6s\n",
      "[CV 1/3] END criterion=gini, max_depth=None, n_estimators=50; accuracy: (test=0.928) f1: (test=0.774) total time=  49.4s\n",
      "[CV 2/3] END criterion=gini, max_depth=None, n_estimators=50; accuracy: (test=0.929) f1: (test=0.777) total time=  49.8s\n",
      "[CV 3/3] END criterion=gini, max_depth=None, n_estimators=50; accuracy: (test=0.928) f1: (test=0.775) total time=  50.2s\n",
      "[CV 1/3] END criterion=gini, max_depth=None, n_estimators=100; accuracy: (test=0.929) f1: (test=0.780) total time= 1.6min\n",
      "[CV 2/3] END criterion=gini, max_depth=None, n_estimators=100; accuracy: (test=0.929) f1: (test=0.779) total time= 1.6min\n",
      "[CV 3/3] END criterion=gini, max_depth=None, n_estimators=100; accuracy: (test=0.928) f1: (test=0.776) total time= 1.6min\n",
      "[CV 1/3] END criterion=gini, max_depth=None, n_estimators=200; accuracy: (test=0.929) f1: (test=0.779) total time= 3.3min\n",
      "[CV 2/3] END criterion=gini, max_depth=None, n_estimators=200; accuracy: (test=0.929) f1: (test=0.781) total time= 3.3min\n",
      "[CV 3/3] END criterion=gini, max_depth=None, n_estimators=200; accuracy: (test=0.929) f1: (test=0.780) total time= 4.9min\n",
      "[CV 1/3] END criterion=entropy, max_depth=10, n_estimators=10; accuracy: (test=0.862) f1: (test=0.388) total time=   8.4s\n",
      "[CV 2/3] END criterion=entropy, max_depth=10, n_estimators=10; accuracy: (test=0.872) f1: (test=0.472) total time=   8.2s\n",
      "[CV 3/3] END criterion=entropy, max_depth=10, n_estimators=10; accuracy: (test=0.888) f1: (test=0.587) total time=   8.4s\n",
      "[CV 1/3] END criterion=entropy, max_depth=10, n_estimators=50; accuracy: (test=0.875) f1: (test=0.477) total time=  40.7s\n",
      "[CV 2/3] END criterion=entropy, max_depth=10, n_estimators=50; accuracy: (test=0.891) f1: (test=0.592) total time=  40.9s\n",
      "[CV 3/3] END criterion=entropy, max_depth=10, n_estimators=50; accuracy: (test=0.890) f1: (test=0.587) total time=  40.4s\n",
      "[CV 1/3] END criterion=entropy, max_depth=10, n_estimators=100; accuracy: (test=0.889) f1: (test=0.587) total time= 1.3min\n",
      "[CV 2/3] END criterion=entropy, max_depth=10, n_estimators=100; accuracy: (test=0.886) f1: (test=0.563) total time=  53.8s\n",
      "[CV 3/3] END criterion=entropy, max_depth=10, n_estimators=100; accuracy: (test=0.888) f1: (test=0.572) total time=  53.8s\n",
      "[CV 1/3] END criterion=entropy, max_depth=10, n_estimators=200; accuracy: (test=0.888) f1: (test=0.576) total time= 1.8min\n",
      "[CV 2/3] END criterion=entropy, max_depth=10, n_estimators=200; accuracy: (test=0.886) f1: (test=0.568) total time= 1.8min\n",
      "[CV 3/3] END criterion=entropy, max_depth=10, n_estimators=200; accuracy: (test=0.885) f1: (test=0.550) total time= 1.8min\n",
      "[CV 1/3] END criterion=entropy, max_depth=50, n_estimators=10; accuracy: (test=0.924) f1: (test=0.761) total time=  10.6s\n",
      "[CV 2/3] END criterion=entropy, max_depth=50, n_estimators=10; accuracy: (test=0.920) f1: (test=0.745) total time=  10.2s\n",
      "[CV 3/3] END criterion=entropy, max_depth=50, n_estimators=10; accuracy: (test=0.922) f1: (test=0.752) total time=  10.5s\n",
      "[CV 1/3] END criterion=entropy, max_depth=50, n_estimators=50; accuracy: (test=0.928) f1: (test=0.778) total time=  52.0s\n",
      "[CV 2/3] END criterion=entropy, max_depth=50, n_estimators=50; accuracy: (test=0.930) f1: (test=0.783) total time=  51.0s\n",
      "[CV 3/3] END criterion=entropy, max_depth=50, n_estimators=50; accuracy: (test=0.928) f1: (test=0.776) total time=  51.6s\n",
      "[CV 1/3] END criterion=entropy, max_depth=50, n_estimators=100; accuracy: (test=0.929) f1: (test=0.779) total time= 1.7min\n",
      "[CV 2/3] END criterion=entropy, max_depth=50, n_estimators=100; accuracy: (test=0.930) f1: (test=0.782) total time= 1.7min\n"
     ]
    },
    {
     "name": "stdout",
     "output_type": "stream",
     "text": [
      "[CV 3/3] END criterion=entropy, max_depth=50, n_estimators=100; accuracy: (test=0.929) f1: (test=0.779) total time= 1.7min\n",
      "[CV 1/3] END criterion=entropy, max_depth=50, n_estimators=200; accuracy: (test=0.930) f1: (test=0.783) total time= 3.4min\n",
      "[CV 2/3] END criterion=entropy, max_depth=50, n_estimators=200; accuracy: (test=0.929) f1: (test=0.782) total time= 3.5min\n",
      "[CV 3/3] END criterion=entropy, max_depth=50, n_estimators=200; accuracy: (test=0.930) f1: (test=0.782) total time= 3.6min\n",
      "[CV 1/3] END criterion=entropy, max_depth=100, n_estimators=10; accuracy: (test=0.918) f1: (test=0.737) total time=  14.0s\n",
      "[CV 2/3] END criterion=entropy, max_depth=100, n_estimators=10; accuracy: (test=0.923) f1: (test=0.755) total time=  12.3s\n",
      "[CV 3/3] END criterion=entropy, max_depth=100, n_estimators=10; accuracy: (test=0.918) f1: (test=0.735) total time=  12.4s\n",
      "[CV 1/3] END criterion=entropy, max_depth=100, n_estimators=50; accuracy: (test=0.928) f1: (test=0.775) total time=  54.3s\n",
      "[CV 2/3] END criterion=entropy, max_depth=100, n_estimators=50; accuracy: (test=0.928) f1: (test=0.777) total time=  52.3s\n",
      "[CV 3/3] END criterion=entropy, max_depth=100, n_estimators=50; accuracy: (test=0.928) f1: (test=0.775) total time=  51.8s\n",
      "[CV 1/3] END criterion=entropy, max_depth=100, n_estimators=100; accuracy: (test=0.930) f1: (test=0.783) total time= 1.7min\n",
      "[CV 2/3] END criterion=entropy, max_depth=100, n_estimators=100; accuracy: (test=0.930) f1: (test=0.782) total time= 1.7min\n",
      "[CV 3/3] END criterion=entropy, max_depth=100, n_estimators=100; accuracy: (test=0.929) f1: (test=0.780) total time= 1.7min\n",
      "[CV 1/3] END criterion=entropy, max_depth=100, n_estimators=200; accuracy: (test=0.930) f1: (test=0.784) total time= 3.4min\n",
      "[CV 2/3] END criterion=entropy, max_depth=100, n_estimators=200; accuracy: (test=0.930) f1: (test=0.784) total time= 3.4min\n",
      "[CV 3/3] END criterion=entropy, max_depth=100, n_estimators=200; accuracy: (test=0.930) f1: (test=0.781) total time= 3.4min\n",
      "[CV 1/3] END criterion=entropy, max_depth=None, n_estimators=10; accuracy: (test=0.919) f1: (test=0.742) total time=  10.7s\n",
      "[CV 2/3] END criterion=entropy, max_depth=None, n_estimators=10; accuracy: (test=0.919) f1: (test=0.740) total time=  10.5s\n",
      "[CV 3/3] END criterion=entropy, max_depth=None, n_estimators=10; accuracy: (test=0.918) f1: (test=0.735) total time=  10.7s\n",
      "[CV 1/3] END criterion=entropy, max_depth=None, n_estimators=50; accuracy: (test=0.928) f1: (test=0.775) total time=  53.4s\n",
      "[CV 2/3] END criterion=entropy, max_depth=None, n_estimators=50; accuracy: (test=0.929) f1: (test=0.781) total time=  55.2s\n",
      "[CV 3/3] END criterion=entropy, max_depth=None, n_estimators=50; accuracy: (test=0.928) f1: (test=0.775) total time=  56.3s\n",
      "[CV 1/3] END criterion=entropy, max_depth=None, n_estimators=100; accuracy: (test=0.928) f1: (test=0.778) total time= 1.7min\n",
      "[CV 2/3] END criterion=entropy, max_depth=None, n_estimators=100; accuracy: (test=0.929) f1: (test=0.780) total time= 1.7min\n",
      "[CV 3/3] END criterion=entropy, max_depth=None, n_estimators=100; accuracy: (test=0.930) f1: (test=0.784) total time= 1.7min\n",
      "[CV 1/3] END criterion=entropy, max_depth=None, n_estimators=200; accuracy: (test=0.929) f1: (test=0.781) total time= 3.4min\n",
      "[CV 2/3] END criterion=entropy, max_depth=None, n_estimators=200; accuracy: (test=0.929) f1: (test=0.781) total time= 3.5min\n",
      "[CV 3/3] END criterion=entropy, max_depth=None, n_estimators=200; accuracy: (test=0.929) f1: (test=0.779) total time= 3.6min\n"
     ]
    },
    {
     "data": {
      "text/plain": [
       "GridSearchCV(cv=3, estimator=RandomForestClassifier(), n_jobs=1,\n",
       "             param_grid={'criterion': ['gini', 'entropy'],\n",
       "                         'max_depth': [10, 50, 100, None],\n",
       "                         'n_estimators': [10, 50, 100, 200]},\n",
       "             refit='f1', scoring=('accuracy', 'f1'), verbose=5)"
      ]
     },
     "execution_count": 14,
     "metadata": {},
     "output_type": "execute_result"
    }
   ],
   "source": [
    "search_results_rf.fit(X, y)"
   ]
  },
  {
   "cell_type": "code",
   "execution_count": 19,
   "id": "51c6c134",
   "metadata": {},
   "outputs": [
    {
     "data": {
      "text/html": [
       "<div>\n",
       "<style scoped>\n",
       "    .dataframe tbody tr th:only-of-type {\n",
       "        vertical-align: middle;\n",
       "    }\n",
       "\n",
       "    .dataframe tbody tr th {\n",
       "        vertical-align: top;\n",
       "    }\n",
       "\n",
       "    .dataframe thead th {\n",
       "        text-align: right;\n",
       "    }\n",
       "</style>\n",
       "<table border=\"1\" class=\"dataframe\">\n",
       "  <thead>\n",
       "    <tr style=\"text-align: right;\">\n",
       "      <th></th>\n",
       "      <th>mean_fit_time</th>\n",
       "      <th>std_fit_time</th>\n",
       "      <th>mean_score_time</th>\n",
       "      <th>std_score_time</th>\n",
       "      <th>param_criterion</th>\n",
       "      <th>param_max_depth</th>\n",
       "      <th>param_n_estimators</th>\n",
       "      <th>params</th>\n",
       "      <th>split0_test_accuracy</th>\n",
       "      <th>split1_test_accuracy</th>\n",
       "      <th>split2_test_accuracy</th>\n",
       "      <th>mean_test_accuracy</th>\n",
       "      <th>std_test_accuracy</th>\n",
       "      <th>rank_test_accuracy</th>\n",
       "      <th>split0_test_f1</th>\n",
       "      <th>split1_test_f1</th>\n",
       "      <th>split2_test_f1</th>\n",
       "      <th>mean_test_f1</th>\n",
       "      <th>std_test_f1</th>\n",
       "      <th>rank_test_f1</th>\n",
       "    </tr>\n",
       "  </thead>\n",
       "  <tbody>\n",
       "    <tr>\n",
       "      <th>0</th>\n",
       "      <td>5.517395</td>\n",
       "      <td>0.202401</td>\n",
       "      <td>0.367942</td>\n",
       "      <td>0.006439</td>\n",
       "      <td>gini</td>\n",
       "      <td>10</td>\n",
       "      <td>10</td>\n",
       "      <td>{'criterion': 'gini', 'max_depth': 10, 'n_esti...</td>\n",
       "      <td>0.895281</td>\n",
       "      <td>0.882286</td>\n",
       "      <td>0.888352</td>\n",
       "      <td>0.888640</td>\n",
       "      <td>0.005309</td>\n",
       "      <td>25</td>\n",
       "      <td>0.629892</td>\n",
       "      <td>0.538776</td>\n",
       "      <td>0.585688</td>\n",
       "      <td>0.584786</td>\n",
       "      <td>0.037204</td>\n",
       "      <td>25</td>\n",
       "    </tr>\n",
       "    <tr>\n",
       "      <th>1</th>\n",
       "      <td>25.809513</td>\n",
       "      <td>0.307162</td>\n",
       "      <td>1.266790</td>\n",
       "      <td>0.004469</td>\n",
       "      <td>gini</td>\n",
       "      <td>10</td>\n",
       "      <td>50</td>\n",
       "      <td>{'criterion': 'gini', 'max_depth': 10, 'n_esti...</td>\n",
       "      <td>0.887485</td>\n",
       "      <td>0.883168</td>\n",
       "      <td>0.890813</td>\n",
       "      <td>0.887155</td>\n",
       "      <td>0.003130</td>\n",
       "      <td>27</td>\n",
       "      <td>0.572059</td>\n",
       "      <td>0.545779</td>\n",
       "      <td>0.603312</td>\n",
       "      <td>0.573717</td>\n",
       "      <td>0.023517</td>\n",
       "      <td>27</td>\n",
       "    </tr>\n",
       "    <tr>\n",
       "      <th>2</th>\n",
       "      <td>53.109004</td>\n",
       "      <td>3.505890</td>\n",
       "      <td>2.388468</td>\n",
       "      <td>0.024497</td>\n",
       "      <td>gini</td>\n",
       "      <td>10</td>\n",
       "      <td>100</td>\n",
       "      <td>{'criterion': 'gini', 'max_depth': 10, 'n_esti...</td>\n",
       "      <td>0.878105</td>\n",
       "      <td>0.887747</td>\n",
       "      <td>0.886295</td>\n",
       "      <td>0.884049</td>\n",
       "      <td>0.004245</td>\n",
       "      <td>31</td>\n",
       "      <td>0.506492</td>\n",
       "      <td>0.579429</td>\n",
       "      <td>0.564475</td>\n",
       "      <td>0.550132</td>\n",
       "      <td>0.031456</td>\n",
       "      <td>31</td>\n",
       "    </tr>\n",
       "    <tr>\n",
       "      <th>3</th>\n",
       "      <td>101.098638</td>\n",
       "      <td>0.150238</td>\n",
       "      <td>4.603487</td>\n",
       "      <td>0.015438</td>\n",
       "      <td>gini</td>\n",
       "      <td>10</td>\n",
       "      <td>200</td>\n",
       "      <td>{'criterion': 'gini', 'max_depth': 10, 'n_esti...</td>\n",
       "      <td>0.886380</td>\n",
       "      <td>0.887112</td>\n",
       "      <td>0.886229</td>\n",
       "      <td>0.886574</td>\n",
       "      <td>0.000385</td>\n",
       "      <td>28</td>\n",
       "      <td>0.573446</td>\n",
       "      <td>0.574103</td>\n",
       "      <td>0.564670</td>\n",
       "      <td>0.570740</td>\n",
       "      <td>0.004301</td>\n",
       "      <td>28</td>\n",
       "    </tr>\n",
       "    <tr>\n",
       "      <th>4</th>\n",
       "      <td>9.227806</td>\n",
       "      <td>0.031870</td>\n",
       "      <td>0.900147</td>\n",
       "      <td>0.010473</td>\n",
       "      <td>gini</td>\n",
       "      <td>50</td>\n",
       "      <td>10</td>\n",
       "      <td>{'criterion': 'gini', 'max_depth': 50, 'n_esti...</td>\n",
       "      <td>0.921055</td>\n",
       "      <td>0.916728</td>\n",
       "      <td>0.921650</td>\n",
       "      <td>0.919811</td>\n",
       "      <td>0.002193</td>\n",
       "      <td>21</td>\n",
       "      <td>0.747561</td>\n",
       "      <td>0.730105</td>\n",
       "      <td>0.750269</td>\n",
       "      <td>0.742645</td>\n",
       "      <td>0.008936</td>\n",
       "      <td>21</td>\n",
       "    </tr>\n",
       "  </tbody>\n",
       "</table>\n",
       "</div>"
      ],
      "text/plain": [
       "   mean_fit_time  std_fit_time  mean_score_time  std_score_time  \\\n",
       "0       5.517395      0.202401         0.367942        0.006439   \n",
       "1      25.809513      0.307162         1.266790        0.004469   \n",
       "2      53.109004      3.505890         2.388468        0.024497   \n",
       "3     101.098638      0.150238         4.603487        0.015438   \n",
       "4       9.227806      0.031870         0.900147        0.010473   \n",
       "\n",
       "  param_criterion param_max_depth param_n_estimators  \\\n",
       "0            gini              10                 10   \n",
       "1            gini              10                 50   \n",
       "2            gini              10                100   \n",
       "3            gini              10                200   \n",
       "4            gini              50                 10   \n",
       "\n",
       "                                              params  split0_test_accuracy  \\\n",
       "0  {'criterion': 'gini', 'max_depth': 10, 'n_esti...              0.895281   \n",
       "1  {'criterion': 'gini', 'max_depth': 10, 'n_esti...              0.887485   \n",
       "2  {'criterion': 'gini', 'max_depth': 10, 'n_esti...              0.878105   \n",
       "3  {'criterion': 'gini', 'max_depth': 10, 'n_esti...              0.886380   \n",
       "4  {'criterion': 'gini', 'max_depth': 50, 'n_esti...              0.921055   \n",
       "\n",
       "   split1_test_accuracy  split2_test_accuracy  mean_test_accuracy  \\\n",
       "0              0.882286              0.888352            0.888640   \n",
       "1              0.883168              0.890813            0.887155   \n",
       "2              0.887747              0.886295            0.884049   \n",
       "3              0.887112              0.886229            0.886574   \n",
       "4              0.916728              0.921650            0.919811   \n",
       "\n",
       "   std_test_accuracy  rank_test_accuracy  split0_test_f1  split1_test_f1  \\\n",
       "0           0.005309                  25        0.629892        0.538776   \n",
       "1           0.003130                  27        0.572059        0.545779   \n",
       "2           0.004245                  31        0.506492        0.579429   \n",
       "3           0.000385                  28        0.573446        0.574103   \n",
       "4           0.002193                  21        0.747561        0.730105   \n",
       "\n",
       "   split2_test_f1  mean_test_f1  std_test_f1  rank_test_f1  \n",
       "0        0.585688      0.584786     0.037204            25  \n",
       "1        0.603312      0.573717     0.023517            27  \n",
       "2        0.564475      0.550132     0.031456            31  \n",
       "3        0.564670      0.570740     0.004301            28  \n",
       "4        0.750269      0.742645     0.008936            21  "
      ]
     },
     "execution_count": 19,
     "metadata": {},
     "output_type": "execute_result"
    }
   ],
   "source": [
    "param_results = pd.DataFrame(search_results_rf.cv_results_)\n",
    "param_results.head()"
   ]
  },
  {
   "cell_type": "code",
   "execution_count": 21,
   "id": "b6f80c9f",
   "metadata": {},
   "outputs": [],
   "source": [
    "my_scores = param_results[['param_criterion', 'param_n_estimators', 'param_max_depth', 'mean_test_accuracy', 'mean_test_f1', 'mean_fit_time']]"
   ]
  },
  {
   "cell_type": "code",
   "execution_count": 26,
   "id": "7c6d080c",
   "metadata": {},
   "outputs": [
    {
     "data": {
      "text/html": [
       "<div>\n",
       "<style scoped>\n",
       "    .dataframe tbody tr th:only-of-type {\n",
       "        vertical-align: middle;\n",
       "    }\n",
       "\n",
       "    .dataframe tbody tr th {\n",
       "        vertical-align: top;\n",
       "    }\n",
       "\n",
       "    .dataframe thead th {\n",
       "        text-align: right;\n",
       "    }\n",
       "</style>\n",
       "<table border=\"1\" class=\"dataframe\">\n",
       "  <thead>\n",
       "    <tr style=\"text-align: right;\">\n",
       "      <th></th>\n",
       "      <th>param_criterion</th>\n",
       "      <th>param_n_estimators</th>\n",
       "      <th>param_max_depth</th>\n",
       "      <th>mean_test_accuracy</th>\n",
       "      <th>mean_test_f1</th>\n",
       "      <th>mean_fit_time</th>\n",
       "    </tr>\n",
       "  </thead>\n",
       "  <tbody>\n",
       "    <tr>\n",
       "      <th>27</th>\n",
       "      <td>entropy</td>\n",
       "      <td>200</td>\n",
       "      <td>100</td>\n",
       "      <td>0.929900</td>\n",
       "      <td>0.782984</td>\n",
       "      <td>190.626250</td>\n",
       "    </tr>\n",
       "    <tr>\n",
       "      <th>23</th>\n",
       "      <td>entropy</td>\n",
       "      <td>200</td>\n",
       "      <td>50</td>\n",
       "      <td>0.929594</td>\n",
       "      <td>0.782423</td>\n",
       "      <td>194.183892</td>\n",
       "    </tr>\n",
       "    <tr>\n",
       "      <th>7</th>\n",
       "      <td>gini</td>\n",
       "      <td>200</td>\n",
       "      <td>50</td>\n",
       "      <td>0.929784</td>\n",
       "      <td>0.782170</td>\n",
       "      <td>183.345557</td>\n",
       "    </tr>\n",
       "    <tr>\n",
       "      <th>26</th>\n",
       "      <td>entropy</td>\n",
       "      <td>100</td>\n",
       "      <td>100</td>\n",
       "      <td>0.929597</td>\n",
       "      <td>0.781712</td>\n",
       "      <td>95.353976</td>\n",
       "    </tr>\n",
       "    <tr>\n",
       "      <th>11</th>\n",
       "      <td>gini</td>\n",
       "      <td>200</td>\n",
       "      <td>100</td>\n",
       "      <td>0.929631</td>\n",
       "      <td>0.781373</td>\n",
       "      <td>182.045867</td>\n",
       "    </tr>\n",
       "    <tr>\n",
       "      <th>30</th>\n",
       "      <td>entropy</td>\n",
       "      <td>100</td>\n",
       "      <td>None</td>\n",
       "      <td>0.929227</td>\n",
       "      <td>0.780617</td>\n",
       "      <td>95.937817</td>\n",
       "    </tr>\n",
       "    <tr>\n",
       "      <th>31</th>\n",
       "      <td>entropy</td>\n",
       "      <td>200</td>\n",
       "      <td>None</td>\n",
       "      <td>0.929169</td>\n",
       "      <td>0.780384</td>\n",
       "      <td>193.829998</td>\n",
       "    </tr>\n",
       "    <tr>\n",
       "      <th>6</th>\n",
       "      <td>gini</td>\n",
       "      <td>100</td>\n",
       "      <td>50</td>\n",
       "      <td>0.929241</td>\n",
       "      <td>0.780141</td>\n",
       "      <td>91.352666</td>\n",
       "    </tr>\n",
       "    <tr>\n",
       "      <th>15</th>\n",
       "      <td>gini</td>\n",
       "      <td>200</td>\n",
       "      <td>None</td>\n",
       "      <td>0.929254</td>\n",
       "      <td>0.780122</td>\n",
       "      <td>212.592106</td>\n",
       "    </tr>\n",
       "    <tr>\n",
       "      <th>22</th>\n",
       "      <td>entropy</td>\n",
       "      <td>100</td>\n",
       "      <td>50</td>\n",
       "      <td>0.928999</td>\n",
       "      <td>0.780100</td>\n",
       "      <td>95.449380</td>\n",
       "    </tr>\n",
       "  </tbody>\n",
       "</table>\n",
       "</div>"
      ],
      "text/plain": [
       "   param_criterion param_n_estimators param_max_depth  mean_test_accuracy  \\\n",
       "27         entropy                200             100            0.929900   \n",
       "23         entropy                200              50            0.929594   \n",
       "7             gini                200              50            0.929784   \n",
       "26         entropy                100             100            0.929597   \n",
       "11            gini                200             100            0.929631   \n",
       "30         entropy                100            None            0.929227   \n",
       "31         entropy                200            None            0.929169   \n",
       "6             gini                100              50            0.929241   \n",
       "15            gini                200            None            0.929254   \n",
       "22         entropy                100              50            0.928999   \n",
       "\n",
       "    mean_test_f1  mean_fit_time  \n",
       "27      0.782984     190.626250  \n",
       "23      0.782423     194.183892  \n",
       "7       0.782170     183.345557  \n",
       "26      0.781712      95.353976  \n",
       "11      0.781373     182.045867  \n",
       "30      0.780617      95.937817  \n",
       "31      0.780384     193.829998  \n",
       "6       0.780141      91.352666  \n",
       "15      0.780122     212.592106  \n",
       "22      0.780100      95.449380  "
      ]
     },
     "execution_count": 26,
     "metadata": {},
     "output_type": "execute_result"
    }
   ],
   "source": [
    "my_scores.sort_values(by='mean_test_f1', ascending=False).head(10)"
   ]
  },
  {
   "cell_type": "code",
   "execution_count": 27,
   "id": "5066833a",
   "metadata": {},
   "outputs": [
    {
     "data": {
      "text/plain": [
       "{'criterion': 'entropy', 'max_depth': 100, 'n_estimators': 200}"
      ]
     },
     "execution_count": 27,
     "metadata": {},
     "output_type": "execute_result"
    }
   ],
   "source": [
    "search_results_rf.best_params_"
   ]
  },
  {
   "cell_type": "code",
   "execution_count": 61,
   "id": "df1aa8fe",
   "metadata": {},
   "outputs": [],
   "source": [
    "bigger_rf = RandomForestClassifier()\n",
    "big_params = {'n_estimators': [400],\n",
    "          'criterion' : ['entropy'],\n",
    "          'max_depth': [50, 100, 200]\n",
    "}"
   ]
  },
  {
   "cell_type": "code",
   "execution_count": 62,
   "id": "930778b4",
   "metadata": {},
   "outputs": [],
   "source": [
    "search_results_rf_bigger = GridSearchCV(estimator=bigger_rf, param_grid=big_params, cv=3, scoring=('accuracy', 'f1'), refit='f1', n_jobs=1, verbose=5)"
   ]
  },
  {
   "cell_type": "code",
   "execution_count": 63,
   "id": "d5c1c6fb",
   "metadata": {
    "scrolled": true
   },
   "outputs": [
    {
     "name": "stdout",
     "output_type": "stream",
     "text": [
      "Fitting 3 folds for each of 3 candidates, totalling 9 fits\n",
      "[CV 1/3] END criterion=entropy, max_depth=50, n_estimators=400; accuracy: (test=0.930) f1: (test=0.783) total time= 6.4min\n",
      "[CV 2/3] END criterion=entropy, max_depth=50, n_estimators=400; accuracy: (test=0.929) f1: (test=0.780) total time= 5.5min\n",
      "[CV 3/3] END criterion=entropy, max_depth=50, n_estimators=400; accuracy: (test=0.929) f1: (test=0.779) total time= 5.5min\n",
      "[CV 1/3] END criterion=entropy, max_depth=100, n_estimators=400; accuracy: (test=0.929) f1: (test=0.780) total time= 5.7min\n",
      "[CV 2/3] END criterion=entropy, max_depth=100, n_estimators=400; accuracy: (test=0.929) f1: (test=0.780) total time= 5.4min\n",
      "[CV 3/3] END criterion=entropy, max_depth=100, n_estimators=400; accuracy: (test=0.929) f1: (test=0.780) total time= 5.4min\n",
      "[CV 1/3] END criterion=entropy, max_depth=200, n_estimators=400; accuracy: (test=0.929) f1: (test=0.780) total time= 5.4min\n",
      "[CV 2/3] END criterion=entropy, max_depth=200, n_estimators=400; accuracy: (test=0.929) f1: (test=0.781) total time= 5.4min\n",
      "[CV 3/3] END criterion=entropy, max_depth=200, n_estimators=400; accuracy: (test=0.929) f1: (test=0.779) total time= 5.4min\n"
     ]
    },
    {
     "data": {
      "text/plain": [
       "GridSearchCV(cv=3, estimator=RandomForestClassifier(), n_jobs=1,\n",
       "             param_grid={'criterion': ['entropy'], 'max_depth': [50, 100, 200],\n",
       "                         'n_estimators': [400]},\n",
       "             refit='f1', scoring=('accuracy', 'f1'), verbose=5)"
      ]
     },
     "execution_count": 63,
     "metadata": {},
     "output_type": "execute_result"
    }
   ],
   "source": [
    "search_results_rf_bigger.fit(X_train, y_train)"
   ]
  },
  {
   "cell_type": "code",
   "execution_count": 29,
   "id": "4241d8dc",
   "metadata": {},
   "outputs": [],
   "source": [
    "gb_model = GradientBoostingClassifier()"
   ]
  },
  {
   "cell_type": "code",
   "execution_count": 30,
   "id": "6f256dac",
   "metadata": {},
   "outputs": [
    {
     "name": "stdout",
     "output_type": "stream",
     "text": [
      "CPU times: user 3min 33s, sys: 372 ms, total: 3min 34s\n",
      "Wall time: 3min 34s\n"
     ]
    },
    {
     "data": {
      "text/plain": [
       "GradientBoostingClassifier()"
      ]
     },
     "execution_count": 30,
     "metadata": {},
     "output_type": "execute_result"
    }
   ],
   "source": [
    "%%time \n",
    "gb_model.fit(X, y)"
   ]
  },
  {
   "cell_type": "code",
   "execution_count": 31,
   "id": "05fa9b1c",
   "metadata": {},
   "outputs": [
    {
     "name": "stdout",
     "output_type": "stream",
     "text": [
      "0.9287455245331226 0.7818434460398332\n",
      "CPU times: user 504 ms, sys: 136 ms, total: 640 ms\n",
      "Wall time: 836 ms\n"
     ]
    }
   ],
   "source": [
    "%%time\n",
    "gb_pred = gb_model.predict(X_test)\n",
    "print(accuracy_score(y_test, gb_pred), f1_score(y_test, gb_pred))"
   ]
  },
  {
   "cell_type": "code",
   "execution_count": 36,
   "id": "eb9809b1",
   "metadata": {},
   "outputs": [
    {
     "name": "stdout",
     "output_type": "stream",
     "text": [
      "CPU times: user 14min 11s, sys: 2 s, total: 14min 13s\n",
      "Wall time: 14min 16s\n"
     ]
    },
    {
     "data": {
      "text/plain": [
       "array([0.78288344, 0.78454667, 0.78655406])"
      ]
     },
     "execution_count": 36,
     "metadata": {},
     "output_type": "execute_result"
    }
   ],
   "source": [
    "%%time\n",
    "cross_val_score(gb_model, X, y, scoring='f1', cv=3, n_jobs=1)"
   ]
  },
  {
   "cell_type": "code",
   "execution_count": 43,
   "id": "ee926caf",
   "metadata": {},
   "outputs": [],
   "source": [
    "params_gb = {'n_estimators': [100, 200],\n",
    "          'max_depth': [3, 7, 11, 15],\n",
    "          'learning_rate': [0.01, 0.1, 1],\n",
    "          'loss': ['deviance', 'exponential']}\n",
    "\n",
    "gb_for_search = GradientBoostingClassifier()"
   ]
  },
  {
   "cell_type": "code",
   "execution_count": 44,
   "id": "3eee6cc6",
   "metadata": {},
   "outputs": [],
   "source": [
    "search_results_gb = GridSearchCV(estimator=gb_for_search, param_grid=params_gb, cv=3, scoring=('accuracy', 'f1'), refit='f1', n_jobs=1, verbose=5)"
   ]
  },
  {
   "cell_type": "code",
   "execution_count": 45,
   "id": "26dfd53f",
   "metadata": {},
   "outputs": [
    {
     "name": "stdout",
     "output_type": "stream",
     "text": [
      "Fitting 3 folds for each of 48 candidates, totalling 144 fits\n",
      "[CV 1/3] END learning_rate=0.01, loss=deviance, max_depth=3, n_estimators=100; accuracy: (test=0.880) f1: (test=0.546) total time= 5.2min\n",
      "[CV 2/3] END learning_rate=0.01, loss=deviance, max_depth=3, n_estimators=100; accuracy: (test=0.880) f1: (test=0.547) total time= 6.5min\n",
      "[CV 3/3] END learning_rate=0.01, loss=deviance, max_depth=3, n_estimators=100; accuracy: (test=0.881) f1: (test=0.550) total time= 4.3min\n",
      "[CV 1/3] END learning_rate=0.01, loss=deviance, max_depth=3, n_estimators=200; accuracy: (test=0.906) f1: (test=0.701) total time= 9.4min\n",
      "[CV 2/3] END learning_rate=0.01, loss=deviance, max_depth=3, n_estimators=200; accuracy: (test=0.907) f1: (test=0.707) total time=12.6min\n",
      "[CV 3/3] END learning_rate=0.01, loss=deviance, max_depth=3, n_estimators=200; accuracy: (test=0.906) f1: (test=0.704) total time=11.9min\n",
      "[CV 1/3] END learning_rate=0.01, loss=deviance, max_depth=7, n_estimators=100; accuracy: (test=0.927) f1: (test=0.761) total time= 8.4min\n",
      "[CV 2/3] END learning_rate=0.01, loss=deviance, max_depth=7, n_estimators=100; accuracy: (test=0.926) f1: (test=0.758) total time= 8.2min\n",
      "[CV 3/3] END learning_rate=0.01, loss=deviance, max_depth=7, n_estimators=100; accuracy: (test=0.927) f1: (test=0.760) total time= 8.2min\n",
      "[CV 1/3] END learning_rate=0.01, loss=deviance, max_depth=7, n_estimators=200; accuracy: (test=0.937) f1: (test=0.807) total time=16.4min\n",
      "[CV 2/3] END learning_rate=0.01, loss=deviance, max_depth=7, n_estimators=200; accuracy: (test=0.936) f1: (test=0.807) total time=16.4min\n",
      "[CV 3/3] END learning_rate=0.01, loss=deviance, max_depth=7, n_estimators=200; accuracy: (test=0.937) f1: (test=0.808) total time=16.3min\n",
      "[CV 1/3] END learning_rate=0.01, loss=deviance, max_depth=11, n_estimators=100; accuracy: (test=0.937) f1: (test=0.800) total time=12.0min\n",
      "[CV 2/3] END learning_rate=0.01, loss=deviance, max_depth=11, n_estimators=100; accuracy: (test=0.936) f1: (test=0.800) total time=12.0min\n",
      "[CV 3/3] END learning_rate=0.01, loss=deviance, max_depth=11, n_estimators=100; accuracy: (test=0.937) f1: (test=0.801) total time=12.0min\n",
      "[CV 1/3] END learning_rate=0.01, loss=deviance, max_depth=11, n_estimators=200; accuracy: (test=0.943) f1: (test=0.829) total time=24.1min\n",
      "[CV 2/3] END learning_rate=0.01, loss=deviance, max_depth=11, n_estimators=200; accuracy: (test=0.942) f1: (test=0.827) total time=24.1min\n",
      "[CV 3/3] END learning_rate=0.01, loss=deviance, max_depth=11, n_estimators=200; accuracy: (test=0.944) f1: (test=0.832) total time=24.1min\n",
      "[CV 1/3] END learning_rate=0.01, loss=deviance, max_depth=15, n_estimators=100; accuracy: (test=0.937) f1: (test=0.804) total time=17.9min\n",
      "[CV 2/3] END learning_rate=0.01, loss=deviance, max_depth=15, n_estimators=100; accuracy: (test=0.937) f1: (test=0.804) total time=18.3min\n",
      "[CV 3/3] END learning_rate=0.01, loss=deviance, max_depth=15, n_estimators=100; accuracy: (test=0.938) f1: (test=0.807) total time=18.2min\n",
      "[CV 1/3] END learning_rate=0.01, loss=deviance, max_depth=15, n_estimators=200; accuracy: (test=0.942) f1: (test=0.828) total time=36.5min\n",
      "[CV 2/3] END learning_rate=0.01, loss=deviance, max_depth=15, n_estimators=200; accuracy: (test=0.942) f1: (test=0.828) total time=36.8min\n",
      "[CV 3/3] END learning_rate=0.01, loss=deviance, max_depth=15, n_estimators=200; accuracy: (test=0.942) f1: (test=0.829) total time=36.7min\n",
      "[CV 1/3] END learning_rate=0.01, loss=exponential, max_depth=3, n_estimators=100; accuracy: (test=0.842) f1: (test=0.187) total time= 3.9min\n",
      "[CV 2/3] END learning_rate=0.01, loss=exponential, max_depth=3, n_estimators=100; accuracy: (test=0.841) f1: (test=0.179) total time= 3.9min\n",
      "[CV 3/3] END learning_rate=0.01, loss=exponential, max_depth=3, n_estimators=100; accuracy: (test=0.842) f1: (test=0.184) total time= 3.9min\n",
      "[CV 1/3] END learning_rate=0.01, loss=exponential, max_depth=3, n_estimators=200; accuracy: (test=0.902) f1: (test=0.677) total time= 7.8min\n",
      "[CV 2/3] END learning_rate=0.01, loss=exponential, max_depth=3, n_estimators=200; accuracy: (test=0.903) f1: (test=0.685) total time= 7.7min\n",
      "[CV 3/3] END learning_rate=0.01, loss=exponential, max_depth=3, n_estimators=200; accuracy: (test=0.903) f1: (test=0.684) total time= 7.7min\n",
      "[CV 1/3] END learning_rate=0.01, loss=exponential, max_depth=7, n_estimators=100; accuracy: (test=0.891) f1: (test=0.571) total time= 8.2min\n",
      "[CV 2/3] END learning_rate=0.01, loss=exponential, max_depth=7, n_estimators=100; accuracy: (test=0.892) f1: (test=0.579) total time= 8.2min\n",
      "[CV 3/3] END learning_rate=0.01, loss=exponential, max_depth=7, n_estimators=100; accuracy: (test=0.893) f1: (test=0.579) total time= 8.2min\n",
      "[CV 1/3] END learning_rate=0.01, loss=exponential, max_depth=7, n_estimators=200; accuracy: (test=0.935) f1: (test=0.800) total time=16.5min\n",
      "[CV 2/3] END learning_rate=0.01, loss=exponential, max_depth=7, n_estimators=200; accuracy: (test=0.934) f1: (test=0.798) total time=16.5min\n",
      "[CV 3/3] END learning_rate=0.01, loss=exponential, max_depth=7, n_estimators=200; accuracy: (test=0.935) f1: (test=0.798) total time=16.5min\n",
      "[CV 1/3] END learning_rate=0.01, loss=exponential, max_depth=11, n_estimators=100; accuracy: (test=0.925) f1: (test=0.745) total time=12.2min\n",
      "[CV 2/3] END learning_rate=0.01, loss=exponential, max_depth=11, n_estimators=100; accuracy: (test=0.925) f1: (test=0.746) total time=12.2min\n",
      "[CV 3/3] END learning_rate=0.01, loss=exponential, max_depth=11, n_estimators=100; accuracy: (test=0.925) f1: (test=0.745) total time=12.2min\n",
      "[CV 1/3] END learning_rate=0.01, loss=exponential, max_depth=11, n_estimators=200; accuracy: (test=0.942) f1: (test=0.824) total time=24.4min\n",
      "[CV 2/3] END learning_rate=0.01, loss=exponential, max_depth=11, n_estimators=200; accuracy: (test=0.942) f1: (test=0.824) total time=24.4min\n",
      "[CV 3/3] END learning_rate=0.01, loss=exponential, max_depth=11, n_estimators=200; accuracy: (test=0.943) f1: (test=0.827) total time=24.5min\n",
      "[CV 1/3] END learning_rate=0.01, loss=exponential, max_depth=15, n_estimators=100; accuracy: (test=0.930) f1: (test=0.771) total time=18.3min\n",
      "[CV 2/3] END learning_rate=0.01, loss=exponential, max_depth=15, n_estimators=100; accuracy: (test=0.930) f1: (test=0.769) total time=18.5min\n",
      "[CV 3/3] END learning_rate=0.01, loss=exponential, max_depth=15, n_estimators=100; accuracy: (test=0.931) f1: (test=0.772) total time=18.4min\n",
      "[CV 1/3] END learning_rate=0.01, loss=exponential, max_depth=15, n_estimators=200; accuracy: (test=0.942) f1: (test=0.825) total time=36.9min\n",
      "[CV 2/3] END learning_rate=0.01, loss=exponential, max_depth=15, n_estimators=200; accuracy: (test=0.941) f1: (test=0.823) total time=37.4min\n",
      "[CV 3/3] END learning_rate=0.01, loss=exponential, max_depth=15, n_estimators=200; accuracy: (test=0.943) f1: (test=0.827) total time=37.2min\n",
      "[CV 1/3] END learning_rate=0.1, loss=deviance, max_depth=3, n_estimators=100; accuracy: (test=0.929) f1: (test=0.783) total time= 3.8min\n",
      "[CV 2/3] END learning_rate=0.1, loss=deviance, max_depth=3, n_estimators=100; accuracy: (test=0.929) f1: (test=0.785) total time= 3.8min\n",
      "[CV 3/3] END learning_rate=0.1, loss=deviance, max_depth=3, n_estimators=100; accuracy: (test=0.930) f1: (test=0.787) total time= 3.8min\n",
      "[CV 1/3] END learning_rate=0.1, loss=deviance, max_depth=3, n_estimators=200; accuracy: (test=0.937) f1: (test=0.809) total time= 7.7min\n",
      "[CV 2/3] END learning_rate=0.1, loss=deviance, max_depth=3, n_estimators=200; accuracy: (test=0.937) f1: (test=0.811) total time= 7.7min\n",
      "[CV 3/3] END learning_rate=0.1, loss=deviance, max_depth=3, n_estimators=200; accuracy: (test=0.937) f1: (test=0.811) total time= 7.7min\n",
      "[CV 1/3] END learning_rate=0.1, loss=deviance, max_depth=7, n_estimators=100; accuracy: (test=0.943) f1: (test=0.831) total time= 8.4min\n",
      "[CV 2/3] END learning_rate=0.1, loss=deviance, max_depth=7, n_estimators=100; accuracy: (test=0.943) f1: (test=0.832) total time= 8.4min\n",
      "[CV 3/3] END learning_rate=0.1, loss=deviance, max_depth=7, n_estimators=100; accuracy: (test=0.944) f1: (test=0.836) total time= 8.4min\n",
      "[CV 1/3] END learning_rate=0.1, loss=deviance, max_depth=7, n_estimators=200; accuracy: (test=0.945) f1: (test=0.840) total time=17.0min\n",
      "[CV 2/3] END learning_rate=0.1, loss=deviance, max_depth=7, n_estimators=200; accuracy: (test=0.945) f1: (test=0.840) total time=17.0min\n"
     ]
    },
    {
     "name": "stdout",
     "output_type": "stream",
     "text": [
      "[CV 3/3] END learning_rate=0.1, loss=deviance, max_depth=7, n_estimators=200; accuracy: (test=0.946) f1: (test=0.843) total time=17.0min\n",
      "[CV 1/3] END learning_rate=0.1, loss=deviance, max_depth=11, n_estimators=100; accuracy: (test=0.946) f1: (test=0.844) total time=12.7min\n",
      "[CV 2/3] END learning_rate=0.1, loss=deviance, max_depth=11, n_estimators=100; accuracy: (test=0.946) f1: (test=0.843) total time=12.7min\n",
      "[CV 3/3] END learning_rate=0.1, loss=deviance, max_depth=11, n_estimators=100; accuracy: (test=0.947) f1: (test=0.846) total time=12.7min\n",
      "[CV 1/3] END learning_rate=0.1, loss=deviance, max_depth=11, n_estimators=200; accuracy: (test=0.947) f1: (test=0.844) total time=25.8min\n",
      "[CV 2/3] END learning_rate=0.1, loss=deviance, max_depth=11, n_estimators=200; accuracy: (test=0.946) f1: (test=0.843) total time=25.8min\n",
      "[CV 3/3] END learning_rate=0.1, loss=deviance, max_depth=11, n_estimators=200; accuracy: (test=0.947) f1: (test=0.846) total time=26.0min\n",
      "[CV 1/3] END learning_rate=0.1, loss=deviance, max_depth=15, n_estimators=100; accuracy: (test=0.945) f1: (test=0.839) total time=17.9min\n",
      "[CV 2/3] END learning_rate=0.1, loss=deviance, max_depth=15, n_estimators=100; accuracy: (test=0.944) f1: (test=0.838) total time=18.1min\n",
      "[CV 3/3] END learning_rate=0.1, loss=deviance, max_depth=15, n_estimators=100; accuracy: (test=0.945) f1: (test=0.840) total time=18.1min\n",
      "[CV 1/3] END learning_rate=0.1, loss=deviance, max_depth=15, n_estimators=200; accuracy: (test=0.944) f1: (test=0.839) total time=36.3min\n",
      "[CV 2/3] END learning_rate=0.1, loss=deviance, max_depth=15, n_estimators=200; accuracy: (test=0.944) f1: (test=0.839) total time=36.1min\n",
      "[CV 3/3] END learning_rate=0.1, loss=deviance, max_depth=15, n_estimators=200; accuracy: (test=0.945) f1: (test=0.840) total time=36.4min\n",
      "[CV 1/3] END learning_rate=0.1, loss=exponential, max_depth=3, n_estimators=100; accuracy: (test=0.925) f1: (test=0.770) total time= 3.9min\n",
      "[CV 2/3] END learning_rate=0.1, loss=exponential, max_depth=3, n_estimators=100; accuracy: (test=0.926) f1: (test=0.775) total time= 3.9min\n",
      "[CV 3/3] END learning_rate=0.1, loss=exponential, max_depth=3, n_estimators=100; accuracy: (test=0.927) f1: (test=0.776) total time= 3.9min\n",
      "[CV 1/3] END learning_rate=0.1, loss=exponential, max_depth=3, n_estimators=200; accuracy: (test=0.934) f1: (test=0.799) total time= 7.7min\n",
      "[CV 2/3] END learning_rate=0.1, loss=exponential, max_depth=3, n_estimators=200; accuracy: (test=0.936) f1: (test=0.807) total time= 7.7min\n",
      "[CV 3/3] END learning_rate=0.1, loss=exponential, max_depth=3, n_estimators=200; accuracy: (test=0.936) f1: (test=0.806) total time= 7.7min\n",
      "[CV 1/3] END learning_rate=0.1, loss=exponential, max_depth=7, n_estimators=100; accuracy: (test=0.943) f1: (test=0.831) total time= 8.5min\n",
      "[CV 2/3] END learning_rate=0.1, loss=exponential, max_depth=7, n_estimators=100; accuracy: (test=0.943) f1: (test=0.831) total time= 8.5min\n",
      "[CV 3/3] END learning_rate=0.1, loss=exponential, max_depth=7, n_estimators=100; accuracy: (test=0.944) f1: (test=0.835) total time= 8.5min\n",
      "[CV 1/3] END learning_rate=0.1, loss=exponential, max_depth=7, n_estimators=200; accuracy: (test=0.945) f1: (test=0.839) total time=17.3min\n",
      "[CV 2/3] END learning_rate=0.1, loss=exponential, max_depth=7, n_estimators=200; accuracy: (test=0.945) f1: (test=0.838) total time=17.1min\n",
      "[CV 3/3] END learning_rate=0.1, loss=exponential, max_depth=7, n_estimators=200; accuracy: (test=0.946) f1: (test=0.841) total time=17.1min\n",
      "[CV 1/3] END learning_rate=0.1, loss=exponential, max_depth=11, n_estimators=100; accuracy: (test=0.947) f1: (test=0.845) total time=12.7min\n",
      "[CV 2/3] END learning_rate=0.1, loss=exponential, max_depth=11, n_estimators=100; accuracy: (test=0.947) f1: (test=0.844) total time=12.7min\n",
      "[CV 3/3] END learning_rate=0.1, loss=exponential, max_depth=11, n_estimators=100; accuracy: (test=0.948) f1: (test=0.847) total time=12.7min\n",
      "[CV 1/3] END learning_rate=0.1, loss=exponential, max_depth=11, n_estimators=200; accuracy: (test=0.948) f1: (test=0.847) total time=26.1min\n",
      "[CV 2/3] END learning_rate=0.1, loss=exponential, max_depth=11, n_estimators=200; accuracy: (test=0.947) f1: (test=0.846) total time=25.8min\n",
      "[CV 3/3] END learning_rate=0.1, loss=exponential, max_depth=11, n_estimators=200; accuracy: (test=0.948) f1: (test=0.848) total time=25.9min\n",
      "[CV 1/3] END learning_rate=0.1, loss=exponential, max_depth=15, n_estimators=100; accuracy: (test=0.946) f1: (test=0.843) total time=18.2min\n",
      "[CV 2/3] END learning_rate=0.1, loss=exponential, max_depth=15, n_estimators=100; accuracy: (test=0.946) f1: (test=0.841) total time=18.2min\n",
      "[CV 3/3] END learning_rate=0.1, loss=exponential, max_depth=15, n_estimators=100; accuracy: (test=0.946) f1: (test=0.843) total time=18.1min\n",
      "[CV 1/3] END learning_rate=0.1, loss=exponential, max_depth=15, n_estimators=200; accuracy: (test=0.946) f1: (test=0.842) total time=36.1min\n",
      "[CV 2/3] END learning_rate=0.1, loss=exponential, max_depth=15, n_estimators=200; accuracy: (test=0.946) f1: (test=0.843) total time=36.3min\n",
      "[CV 3/3] END learning_rate=0.1, loss=exponential, max_depth=15, n_estimators=200; accuracy: (test=0.946) f1: (test=0.844) total time=36.5min\n",
      "[CV 1/3] END learning_rate=1, loss=deviance, max_depth=3, n_estimators=100; accuracy: (test=0.931) f1: (test=0.802) total time= 3.9min\n",
      "[CV 2/3] END learning_rate=1, loss=deviance, max_depth=3, n_estimators=100; accuracy: (test=0.937) f1: (test=0.814) total time= 3.9min\n",
      "[CV 3/3] END learning_rate=1, loss=deviance, max_depth=3, n_estimators=100; accuracy: (test=0.923) f1: (test=0.781) total time= 3.9min\n",
      "[CV 1/3] END learning_rate=1, loss=deviance, max_depth=3, n_estimators=200; accuracy: (test=0.932) f1: (test=0.807) total time= 7.7min\n",
      "[CV 2/3] END learning_rate=1, loss=deviance, max_depth=3, n_estimators=200; accuracy: (test=0.937) f1: (test=0.815) total time= 7.7min\n",
      "[CV 3/3] END learning_rate=1, loss=deviance, max_depth=3, n_estimators=200; accuracy: (test=0.923) f1: (test=0.781) total time= 7.7min\n",
      "[CV 1/3] END learning_rate=1, loss=deviance, max_depth=7, n_estimators=100; accuracy: (test=0.938) f1: (test=0.821) total time= 8.7min\n",
      "[CV 2/3] END learning_rate=1, loss=deviance, max_depth=7, n_estimators=100; accuracy: (test=0.937) f1: (test=0.820) total time= 8.6min\n",
      "[CV 3/3] END learning_rate=1, loss=deviance, max_depth=7, n_estimators=100; accuracy: (test=0.939) f1: (test=0.824) total time= 8.6min\n",
      "[CV 1/3] END learning_rate=1, loss=deviance, max_depth=7, n_estimators=200; accuracy: (test=0.939) f1: (test=0.824) total time=17.4min\n",
      "[CV 2/3] END learning_rate=1, loss=deviance, max_depth=7, n_estimators=200; accuracy: (test=0.937) f1: (test=0.818) total time=17.4min\n",
      "[CV 3/3] END learning_rate=1, loss=deviance, max_depth=7, n_estimators=200; accuracy: (test=0.937) f1: (test=0.819) total time=17.2min\n",
      "[CV 1/3] END learning_rate=1, loss=deviance, max_depth=11, n_estimators=100; accuracy: (test=0.930) f1: (test=0.798) total time=13.1min\n",
      "[CV 2/3] END learning_rate=1, loss=deviance, max_depth=11, n_estimators=100; accuracy: (test=0.930) f1: (test=0.799) total time=13.2min\n",
      "[CV 3/3] END learning_rate=1, loss=deviance, max_depth=11, n_estimators=100; accuracy: (test=0.930) f1: (test=0.798) total time=13.2min\n",
      "[CV 1/3] END learning_rate=1, loss=deviance, max_depth=11, n_estimators=200; accuracy: (test=0.919) f1: (test=0.772) total time=26.5min\n",
      "[CV 2/3] END learning_rate=1, loss=deviance, max_depth=11, n_estimators=200; accuracy: (test=0.929) f1: (test=0.796) total time=26.4min\n",
      "[CV 3/3] END learning_rate=1, loss=deviance, max_depth=11, n_estimators=200; accuracy: (test=0.920) f1: (test=0.772) total time=26.3min\n",
      "[CV 1/3] END learning_rate=1, loss=deviance, max_depth=15, n_estimators=100; accuracy: (test=0.909) f1: (test=0.747) total time=18.2min\n",
      "[CV 2/3] END learning_rate=1, loss=deviance, max_depth=15, n_estimators=100; accuracy: (test=0.899) f1: (test=0.722) total time=18.1min\n",
      "[CV 3/3] END learning_rate=1, loss=deviance, max_depth=15, n_estimators=100; accuracy: (test=0.893) f1: (test=0.714) total time=17.9min\n",
      "[CV 1/3] END learning_rate=1, loss=deviance, max_depth=15, n_estimators=200; accuracy: (test=0.854) f1: (test=0.635) total time=35.5min\n",
      "[CV 2/3] END learning_rate=1, loss=deviance, max_depth=15, n_estimators=200; accuracy: (test=0.857) f1: (test=0.637) total time=36.2min\n"
     ]
    },
    {
     "name": "stdout",
     "output_type": "stream",
     "text": [
      "[CV 3/3] END learning_rate=1, loss=deviance, max_depth=15, n_estimators=200; accuracy: (test=0.889) f1: (test=0.704) total time=35.9min\n",
      "[CV 1/3] END learning_rate=1, loss=exponential, max_depth=3, n_estimators=100; accuracy: (test=0.943) f1: (test=0.832) total time= 3.8min\n",
      "[CV 2/3] END learning_rate=1, loss=exponential, max_depth=3, n_estimators=100; accuracy: (test=0.941) f1: (test=0.828) total time= 3.9min\n",
      "[CV 3/3] END learning_rate=1, loss=exponential, max_depth=3, n_estimators=100; accuracy: (test=0.943) f1: (test=0.832) total time= 3.9min\n",
      "[CV 1/3] END learning_rate=1, loss=exponential, max_depth=3, n_estimators=200; accuracy: (test=0.944) f1: (test=0.837) total time= 7.7min\n",
      "[CV 2/3] END learning_rate=1, loss=exponential, max_depth=3, n_estimators=200; accuracy: (test=0.943) f1: (test=0.834) total time= 7.7min\n",
      "[CV 3/3] END learning_rate=1, loss=exponential, max_depth=3, n_estimators=200; accuracy: (test=0.945) f1: (test=0.839) total time= 7.7min\n",
      "[CV 1/3] END learning_rate=1, loss=exponential, max_depth=7, n_estimators=100; accuracy: (test=0.943) f1: (test=0.835) total time= 8.6min\n",
      "[CV 2/3] END learning_rate=1, loss=exponential, max_depth=7, n_estimators=100; accuracy: (test=0.942) f1: (test=0.832) total time= 8.6min\n",
      "[CV 3/3] END learning_rate=1, loss=exponential, max_depth=7, n_estimators=100; accuracy: (test=0.943) f1: (test=0.835) total time= 8.6min\n",
      "[CV 1/3] END learning_rate=1, loss=exponential, max_depth=7, n_estimators=200; accuracy: (test=0.942) f1: (test=0.832) total time=17.2min\n",
      "[CV 2/3] END learning_rate=1, loss=exponential, max_depth=7, n_estimators=200; accuracy: (test=0.942) f1: (test=0.832) total time=17.2min\n",
      "[CV 3/3] END learning_rate=1, loss=exponential, max_depth=7, n_estimators=200; accuracy: (test=0.943) f1: (test=0.835) total time=17.2min\n",
      "[CV 1/3] END learning_rate=1, loss=exponential, max_depth=11, n_estimators=100; accuracy: (test=0.941) f1: (test=0.827) total time=13.2min\n",
      "[CV 2/3] END learning_rate=1, loss=exponential, max_depth=11, n_estimators=100; accuracy: (test=0.941) f1: (test=0.827) total time=13.0min\n",
      "[CV 3/3] END learning_rate=1, loss=exponential, max_depth=11, n_estimators=100; accuracy: (test=0.942) f1: (test=0.830) total time=13.1min\n",
      "[CV 1/3] END learning_rate=1, loss=exponential, max_depth=11, n_estimators=200; accuracy: (test=0.941) f1: (test=0.829) total time=26.0min\n",
      "[CV 2/3] END learning_rate=1, loss=exponential, max_depth=11, n_estimators=200; accuracy: (test=0.941) f1: (test=0.828) total time=26.2min\n",
      "[CV 3/3] END learning_rate=1, loss=exponential, max_depth=11, n_estimators=200; accuracy: (test=0.942) f1: (test=0.830) total time=26.9min\n",
      "[CV 1/3] END learning_rate=1, loss=exponential, max_depth=15, n_estimators=100; accuracy: (test=0.942) f1: (test=0.829) total time=18.2min\n",
      "[CV 2/3] END learning_rate=1, loss=exponential, max_depth=15, n_estimators=100; accuracy: (test=0.942) f1: (test=0.830) total time=18.1min\n",
      "[CV 3/3] END learning_rate=1, loss=exponential, max_depth=15, n_estimators=100; accuracy: (test=0.941) f1: (test=0.828) total time=18.2min\n",
      "[CV 1/3] END learning_rate=1, loss=exponential, max_depth=15, n_estimators=200; accuracy: (test=0.942) f1: (test=0.829) total time=36.2min\n",
      "[CV 2/3] END learning_rate=1, loss=exponential, max_depth=15, n_estimators=200; accuracy: (test=0.942) f1: (test=0.829) total time=36.4min\n",
      "[CV 3/3] END learning_rate=1, loss=exponential, max_depth=15, n_estimators=200; accuracy: (test=0.942) f1: (test=0.828) total time=36.0min\n",
      "CPU times: user 1d 15h 36min 23s, sys: 35.3 s, total: 1d 15h 36min 58s\n",
      "Wall time: 1d 15h 37min 23s\n"
     ]
    },
    {
     "data": {
      "text/plain": [
       "GridSearchCV(cv=3, estimator=GradientBoostingClassifier(), n_jobs=1,\n",
       "             param_grid={'learning_rate': [0.01, 0.1, 1],\n",
       "                         'loss': ['deviance', 'exponential'],\n",
       "                         'max_depth': [3, 7, 11, 15],\n",
       "                         'n_estimators': [100, 200]},\n",
       "             refit='f1', scoring=('accuracy', 'f1'), verbose=5)"
      ]
     },
     "execution_count": 45,
     "metadata": {},
     "output_type": "execute_result"
    }
   ],
   "source": [
    "%%time\n",
    "search_results_gb.fit(X, y)"
   ]
  },
  {
   "cell_type": "code",
   "execution_count": 90,
   "id": "d32f3f44",
   "metadata": {},
   "outputs": [
    {
     "data": {
      "text/plain": [
       "Index(['mean_fit_time', 'std_fit_time', 'mean_score_time', 'std_score_time',\n",
       "       'param_learning_rate', 'param_loss', 'param_max_depth',\n",
       "       'param_n_estimators', 'params', 'split0_test_accuracy',\n",
       "       'split1_test_accuracy', 'split2_test_accuracy', 'mean_test_accuracy',\n",
       "       'std_test_accuracy', 'rank_test_accuracy', 'split0_test_f1',\n",
       "       'split1_test_f1', 'split2_test_f1', 'mean_test_f1', 'std_test_f1',\n",
       "       'rank_test_f1'],\n",
       "      dtype='object')"
      ]
     },
     "execution_count": 90,
     "metadata": {},
     "output_type": "execute_result"
    }
   ],
   "source": [
    "gb_param_results = pd.DataFrame(search_results_gb.cv_results_)"
   ]
  },
  {
   "cell_type": "code",
   "execution_count": 49,
   "id": "d54ac6ad",
   "metadata": {},
   "outputs": [],
   "source": [
    "my_param_scores_gb = gb_param_results[['param_learning_rate', 'param_loss', 'param_max_depth', 'param_n_estimators', 'mean_test_accuracy', 'mean_test_f1', 'mean_fit_time']]"
   ]
  },
  {
   "cell_type": "code",
   "execution_count": 51,
   "id": "0764bc8f",
   "metadata": {},
   "outputs": [
    {
     "data": {
      "text/html": [
       "<div>\n",
       "<style scoped>\n",
       "    .dataframe tbody tr th:only-of-type {\n",
       "        vertical-align: middle;\n",
       "    }\n",
       "\n",
       "    .dataframe tbody tr th {\n",
       "        vertical-align: top;\n",
       "    }\n",
       "\n",
       "    .dataframe thead th {\n",
       "        text-align: right;\n",
       "    }\n",
       "</style>\n",
       "<table border=\"1\" class=\"dataframe\">\n",
       "  <thead>\n",
       "    <tr style=\"text-align: right;\">\n",
       "      <th></th>\n",
       "      <th>param_learning_rate</th>\n",
       "      <th>param_loss</th>\n",
       "      <th>param_max_depth</th>\n",
       "      <th>param_n_estimators</th>\n",
       "      <th>mean_test_accuracy</th>\n",
       "      <th>mean_test_f1</th>\n",
       "      <th>mean_fit_time</th>\n",
       "    </tr>\n",
       "  </thead>\n",
       "  <tbody>\n",
       "    <tr>\n",
       "      <th>29</th>\n",
       "      <td>0.1</td>\n",
       "      <td>exponential</td>\n",
       "      <td>11</td>\n",
       "      <td>200</td>\n",
       "      <td>0.947543</td>\n",
       "      <td>0.847000</td>\n",
       "      <td>1551.407778</td>\n",
       "    </tr>\n",
       "    <tr>\n",
       "      <th>28</th>\n",
       "      <td>0.1</td>\n",
       "      <td>exponential</td>\n",
       "      <td>11</td>\n",
       "      <td>100</td>\n",
       "      <td>0.947141</td>\n",
       "      <td>0.845609</td>\n",
       "      <td>760.776232</td>\n",
       "    </tr>\n",
       "    <tr>\n",
       "      <th>20</th>\n",
       "      <td>0.1</td>\n",
       "      <td>deviance</td>\n",
       "      <td>11</td>\n",
       "      <td>100</td>\n",
       "      <td>0.946553</td>\n",
       "      <td>0.844482</td>\n",
       "      <td>761.056376</td>\n",
       "    </tr>\n",
       "    <tr>\n",
       "      <th>21</th>\n",
       "      <td>0.1</td>\n",
       "      <td>deviance</td>\n",
       "      <td>11</td>\n",
       "      <td>200</td>\n",
       "      <td>0.946434</td>\n",
       "      <td>0.844471</td>\n",
       "      <td>1550.076511</td>\n",
       "    </tr>\n",
       "    <tr>\n",
       "      <th>31</th>\n",
       "      <td>0.1</td>\n",
       "      <td>exponential</td>\n",
       "      <td>15</td>\n",
       "      <td>200</td>\n",
       "      <td>0.946087</td>\n",
       "      <td>0.842705</td>\n",
       "      <td>2173.029280</td>\n",
       "    </tr>\n",
       "    <tr>\n",
       "      <th>30</th>\n",
       "      <td>0.1</td>\n",
       "      <td>exponential</td>\n",
       "      <td>15</td>\n",
       "      <td>100</td>\n",
       "      <td>0.945892</td>\n",
       "      <td>0.842232</td>\n",
       "      <td>1087.515162</td>\n",
       "    </tr>\n",
       "    <tr>\n",
       "      <th>19</th>\n",
       "      <td>0.1</td>\n",
       "      <td>deviance</td>\n",
       "      <td>7</td>\n",
       "      <td>200</td>\n",
       "      <td>0.945770</td>\n",
       "      <td>0.840664</td>\n",
       "      <td>1018.495597</td>\n",
       "    </tr>\n",
       "    <tr>\n",
       "      <th>27</th>\n",
       "      <td>0.1</td>\n",
       "      <td>exponential</td>\n",
       "      <td>7</td>\n",
       "      <td>200</td>\n",
       "      <td>0.945412</td>\n",
       "      <td>0.839358</td>\n",
       "      <td>1027.062723</td>\n",
       "    </tr>\n",
       "    <tr>\n",
       "      <th>23</th>\n",
       "      <td>0.1</td>\n",
       "      <td>deviance</td>\n",
       "      <td>15</td>\n",
       "      <td>200</td>\n",
       "      <td>0.944623</td>\n",
       "      <td>0.839153</td>\n",
       "      <td>2172.095088</td>\n",
       "    </tr>\n",
       "    <tr>\n",
       "      <th>22</th>\n",
       "      <td>0.1</td>\n",
       "      <td>deviance</td>\n",
       "      <td>15</td>\n",
       "      <td>100</td>\n",
       "      <td>0.944542</td>\n",
       "      <td>0.839121</td>\n",
       "      <td>1079.212461</td>\n",
       "    </tr>\n",
       "  </tbody>\n",
       "</table>\n",
       "</div>"
      ],
      "text/plain": [
       "   param_learning_rate   param_loss param_max_depth param_n_estimators  \\\n",
       "29                 0.1  exponential              11                200   \n",
       "28                 0.1  exponential              11                100   \n",
       "20                 0.1     deviance              11                100   \n",
       "21                 0.1     deviance              11                200   \n",
       "31                 0.1  exponential              15                200   \n",
       "30                 0.1  exponential              15                100   \n",
       "19                 0.1     deviance               7                200   \n",
       "27                 0.1  exponential               7                200   \n",
       "23                 0.1     deviance              15                200   \n",
       "22                 0.1     deviance              15                100   \n",
       "\n",
       "    mean_test_accuracy  mean_test_f1  mean_fit_time  \n",
       "29            0.947543      0.847000    1551.407778  \n",
       "28            0.947141      0.845609     760.776232  \n",
       "20            0.946553      0.844482     761.056376  \n",
       "21            0.946434      0.844471    1550.076511  \n",
       "31            0.946087      0.842705    2173.029280  \n",
       "30            0.945892      0.842232    1087.515162  \n",
       "19            0.945770      0.840664    1018.495597  \n",
       "27            0.945412      0.839358    1027.062723  \n",
       "23            0.944623      0.839153    2172.095088  \n",
       "22            0.944542      0.839121    1079.212461  "
      ]
     },
     "execution_count": 51,
     "metadata": {},
     "output_type": "execute_result"
    }
   ],
   "source": [
    "my_param_scores_gb.sort_values(by='mean_test_f1', ascending=False).head(10)"
   ]
  },
  {
   "cell_type": "code",
   "execution_count": 53,
   "id": "4aeabcce",
   "metadata": {},
   "outputs": [
    {
     "data": {
      "text/plain": [
       "{'learning_rate': 0.1,\n",
       " 'loss': 'exponential',\n",
       " 'max_depth': 11,\n",
       " 'n_estimators': 200}"
      ]
     },
     "execution_count": 53,
     "metadata": {},
     "output_type": "execute_result"
    }
   ],
   "source": [
    "search_results_gb.best_params_"
   ]
  },
  {
   "cell_type": "code",
   "execution_count": 65,
   "id": "6f2d0b94",
   "metadata": {},
   "outputs": [
    {
     "data": {
      "text/plain": [
       "GradientBoostingClassifier(loss='exponential', max_depth=11, n_estimators=200)"
      ]
     },
     "execution_count": 65,
     "metadata": {},
     "output_type": "execute_result"
    }
   ],
   "source": [
    "search_results_gb.best_estimator_"
   ]
  },
  {
   "cell_type": "code",
   "execution_count": 67,
   "id": "fa9ca613",
   "metadata": {},
   "outputs": [],
   "source": [
    "X_val_df = pd.read_csv('../Data/Processed/X_test.csv')\n",
    "y_val_df = pd.read_csv('../Data/Processed/y_test.csv')"
   ]
  },
  {
   "cell_type": "code",
   "execution_count": 68,
   "id": "3d93ef6a",
   "metadata": {},
   "outputs": [],
   "source": [
    "X_val = X_val_df.values\n",
    "y_val = y_val_df.values\n",
    "y_val = y_val.ravel()"
   ]
  },
  {
   "cell_type": "code",
   "execution_count": 69,
   "id": "815dd93a",
   "metadata": {},
   "outputs": [],
   "source": [
    "best_gb_model = search_results_gb.best_estimator_"
   ]
  },
  {
   "cell_type": "code",
   "execution_count": 74,
   "id": "79ba7a3e",
   "metadata": {},
   "outputs": [
    {
     "data": {
      "text/plain": [
       "GradientBoostingClassifier(loss='exponential', max_depth=11, n_estimators=200)"
      ]
     },
     "execution_count": 74,
     "metadata": {},
     "output_type": "execute_result"
    }
   ],
   "source": [
    "best_gb_model.fit(X, y)"
   ]
  },
  {
   "cell_type": "code",
   "execution_count": 76,
   "id": "05fc8a6c",
   "metadata": {},
   "outputs": [],
   "source": [
    "y_val_pred = best_gb_model.predict(X_val)"
   ]
  },
  {
   "cell_type": "code",
   "execution_count": 77,
   "id": "8be6b601",
   "metadata": {},
   "outputs": [
    {
     "data": {
      "text/plain": [
       "0.8502062220800439"
      ]
     },
     "execution_count": 77,
     "metadata": {},
     "output_type": "execute_result"
    }
   ],
   "source": [
    "f1_score(y_val, y_val_pred)"
   ]
  },
  {
   "cell_type": "code",
   "execution_count": 78,
   "id": "cdbf35d8",
   "metadata": {},
   "outputs": [
    {
     "data": {
      "text/plain": [
       "0.9485764489470939"
      ]
     },
     "execution_count": 78,
     "metadata": {},
     "output_type": "execute_result"
    }
   ],
   "source": [
    "accuracy_score(y_val, y_val_pred)"
   ]
  },
  {
   "cell_type": "code",
   "execution_count": 81,
   "id": "3d590af9",
   "metadata": {},
   "outputs": [
    {
     "data": {
      "text/plain": [
       "array([[204642,   7345],\n",
       "       [  5766,  37208]])"
      ]
     },
     "execution_count": 81,
     "metadata": {},
     "output_type": "execute_result"
    }
   ],
   "source": [
    "from sklearn.metrics import confusion_matrix\n",
    "confusion_matrix(y_val_pred, y_val)"
   ]
  },
  {
   "cell_type": "code",
   "execution_count": 88,
   "id": "adf3dcd4",
   "metadata": {},
   "outputs": [
    {
     "data": {
      "image/png": "[encoded data removed]",
      "text/plain": [
       "<Figure size 720x360 with 1 Axes>"
      ]
     },
     "metadata": {
      "needs_background": "light"
     },
     "output_type": "display_data"
    }
   ],
   "source": [
    "import matplotlib.pyplot as plt\n",
    "\n",
    "plt.subplots(figsize=(10, 5))\n",
    "importances = best_gb_model.feature_importances_\n",
    "labeled_importances = pd.Series(importances, index=feature_names).sort_values(ascending=False)[:10]\n",
    "labeled_importances.plot(kind='bar')\n",
    "plt.xlabel('features')\n",
    "plt.ylabel('importance')\n",
    "plt.title('Best gradient boosting model feature importances');"
   ]
  },
  {
   "cell_type": "code",
   "execution_count": null,
   "id": "06ade68e",
   "metadata": {},
   "outputs": [],
   "source": []
  }
 ],
 "metadata": {
  "kernelspec": {
   "display_name": "Python 3",
   "language": "python",
   "name": "python3"
  },
  "language_info": {
   "codemirror_mode": {
    "name": "ipython",
    "version": 3
   },
   "file_extension": ".py",
   "mimetype": "text/x-python",
   "name": "python",
   "nbconvert_exporter": "python",
   "pygments_lexer": "ipython3",
   "version": "3.8.8"
  }
 },
 "nbformat": 4,
 "nbformat_minor": 5
}
