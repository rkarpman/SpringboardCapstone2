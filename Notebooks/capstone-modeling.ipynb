{
 "cells": [
  {
   "cell_type": "markdown",
   "id": "167be40c",
   "metadata": {},
   "source": [
    "## Modeling: Small business loans"
   ]
  },
  {
   "cell_type": "markdown",
   "id": "613b3cb4",
   "metadata": {},
   "source": [
    "I will now build a model to classify small business loans according to whether they will be paid off or default. This is a classification problem, and many of the variables have skewed distributions. Decision tree algorithms often perform well in such cases. I will try two decision-tree based algorithms: random forest, and gradient boosting. I will also tune hyperparameters for both algorithms."
   ]
  },
  {
   "cell_type": "markdown",
   "id": "a1cf36ac",
   "metadata": {},
   "source": [
    "### Loading the data"
   ]
  },
  {
   "cell_type": "code",
   "execution_count": 1,
   "id": "36cee0ad",
   "metadata": {},
   "outputs": [],
   "source": [
    "## Import needed Python module and functions \n",
    "import pandas as pd\n",
    "import numpy as np\n",
    "import matplotlib.pyplot as plt\n",
    "\n",
    "from sklearn.model_selection import train_test_split\n",
    "from sklearn.model_selection import cross_validate\n",
    "from sklearn.model_selection import cross_val_score\n",
    "from sklearn.model_selection import GridSearchCV\n",
    "from sklearn.ensemble import RandomForestClassifier\n",
    "from sklearn.ensemble import GradientBoostingClassifier\n",
    "from sklearn.metrics import accuracy_score\n",
    "from sklearn.metrics import f1_score\n",
    "from sklearn.metrics import precision_score\n",
    "from sklearn.metrics import recall_score"
   ]
  },
  {
   "cell_type": "code",
   "execution_count": 2,
   "id": "95b02c78",
   "metadata": {},
   "outputs": [],
   "source": [
    "## Import features for training values\n",
    "features = pd.read_csv('../Data/Processed/X_train.csv')"
   ]
  },
  {
   "cell_type": "code",
   "execution_count": 3,
   "id": "6b41bcd4",
   "metadata": {},
   "outputs": [],
   "source": [
    "## Import labels for training data\n",
    "labels = pd.read_csv('../Data/Processed/y_train.csv')"
   ]
  },
  {
   "cell_type": "code",
   "execution_count": 4,
   "id": "191a1d25",
   "metadata": {},
   "outputs": [],
   "source": [
    "## Convert training data into numpy arrays to train models\n",
    "feature_names = features.columns\n",
    "X = features.values\n",
    "y = labels.values\n",
    "y = y.ravel()"
   ]
  },
  {
   "cell_type": "markdown",
   "id": "a2251632",
   "metadata": {},
   "source": [
    "### Random forest model"
   ]
  },
  {
   "cell_type": "markdown",
   "id": "ba424aeb",
   "metadata": {},
   "source": [
    "#### Baseline model"
   ]
  },
  {
   "cell_type": "markdown",
   "id": "a5c90f2b",
   "metadata": {},
   "source": [
    "To get a benchmark for hyperparameter tuning, let's first see how the Random Forest algorithm performs just using the `sklearn` defaults."
   ]
  },
  {
   "cell_type": "code",
   "execution_count": 5,
   "id": "6e570a08",
   "metadata": {},
   "outputs": [],
   "source": [
    "rf_model = RandomForestClassifier(random_state=42)"
   ]
  },
  {
   "cell_type": "code",
   "execution_count": 6,
   "id": "098df602",
   "metadata": {},
   "outputs": [],
   "source": [
    "cv_results_rf = cross_validate(rf_model, X, y, scoring=('f1', 'accuracy'), cv=3, n_jobs=1)"
   ]
  },
  {
   "cell_type": "code",
   "execution_count": 7,
   "id": "061717ab",
   "metadata": {},
   "outputs": [
    {
     "data": {
      "text/plain": [
       "fit_time         95.019973\n",
       "score_time        7.766445\n",
       "test_f1           0.779608\n",
       "test_accuracy     0.929147\n",
       "dtype: float64"
      ]
     },
     "execution_count": 7,
     "metadata": {},
     "output_type": "execute_result"
    }
   ],
   "source": [
    "## Print out cross-validated metrics for the 'out of the box' model.\n",
    "pd.DataFrame(cv_results_rf).mean()"
   ]
  },
  {
   "cell_type": "markdown",
   "id": "f224db5c",
   "metadata": {},
   "source": [
    "#### Hyperparameter tuning"
   ]
  },
  {
   "cell_type": "markdown",
   "id": "fcce50cc",
   "metadata": {},
   "source": [
    "Now, let's see if I can do better with hyperparameter tuning. Since the data is unbalanced, I will use f1 score as the metric to optimize, rather than accuracy. While there are many hyperparameters I could tune, I will focus on `n_estimators`, `criterion` and `max_depth.`"
   ]
  },
  {
   "cell_type": "code",
   "execution_count": 8,
   "id": "ede3de32",
   "metadata": {},
   "outputs": [],
   "source": [
    "## Set up grid with possible combinations of hyperparameters to search\n",
    "params = {'n_estimators': [50, 100, 200],\n",
    "          'criterion' : ['gini', 'entropy'],\n",
    "          'max_depth': [50, 100, 200, None]\n",
    "}\n",
    "\n",
    "rf_for_search = RandomForestClassifier(random_state=42)"
   ]
  },
  {
   "cell_type": "code",
   "execution_count": 9,
   "id": "93d78006",
   "metadata": {},
   "outputs": [
    {
     "name": "stdout",
     "output_type": "stream",
     "text": [
      "Fitting 3 folds for each of 24 candidates, totalling 72 fits\n",
      "[CV 1/3] END criterion=gini, max_depth=50, n_estimators=50; accuracy: (test=0.929) f1: (test=0.779) total time=  49.4s\n",
      "[CV 2/3] END criterion=gini, max_depth=50, n_estimators=50; accuracy: (test=0.929) f1: (test=0.778) total time=  51.9s\n",
      "[CV 3/3] END criterion=gini, max_depth=50, n_estimators=50; accuracy: (test=0.928) f1: (test=0.776) total time=  52.9s\n",
      "[CV 1/3] END criterion=gini, max_depth=50, n_estimators=100; accuracy: (test=0.929) f1: (test=0.780) total time= 1.7min\n",
      "[CV 2/3] END criterion=gini, max_depth=50, n_estimators=100; accuracy: (test=0.929) f1: (test=0.780) total time= 1.7min\n",
      "[CV 3/3] END criterion=gini, max_depth=50, n_estimators=100; accuracy: (test=0.929) f1: (test=0.779) total time= 1.7min\n",
      "[CV 1/3] END criterion=gini, max_depth=50, n_estimators=200; accuracy: (test=0.930) f1: (test=0.781) total time= 3.4min\n",
      "[CV 2/3] END criterion=gini, max_depth=50, n_estimators=200; accuracy: (test=0.930) f1: (test=0.782) total time= 3.4min\n",
      "[CV 3/3] END criterion=gini, max_depth=50, n_estimators=200; accuracy: (test=0.929) f1: (test=0.780) total time= 3.4min\n",
      "[CV 1/3] END criterion=gini, max_depth=100, n_estimators=50; accuracy: (test=0.929) f1: (test=0.779) total time=  51.6s\n",
      "[CV 2/3] END criterion=gini, max_depth=100, n_estimators=50; accuracy: (test=0.928) f1: (test=0.776) total time=  51.7s\n",
      "[CV 3/3] END criterion=gini, max_depth=100, n_estimators=50; accuracy: (test=0.928) f1: (test=0.774) total time=  51.8s\n",
      "[CV 1/3] END criterion=gini, max_depth=100, n_estimators=100; accuracy: (test=0.929) f1: (test=0.780) total time= 1.7min\n",
      "[CV 2/3] END criterion=gini, max_depth=100, n_estimators=100; accuracy: (test=0.929) f1: (test=0.780) total time= 1.7min\n",
      "[CV 3/3] END criterion=gini, max_depth=100, n_estimators=100; accuracy: (test=0.929) f1: (test=0.779) total time= 1.7min\n",
      "[CV 1/3] END criterion=gini, max_depth=100, n_estimators=200; accuracy: (test=0.930) f1: (test=0.782) total time= 3.4min\n",
      "[CV 2/3] END criterion=gini, max_depth=100, n_estimators=200; accuracy: (test=0.929) f1: (test=0.780) total time= 3.5min\n",
      "[CV 3/3] END criterion=gini, max_depth=100, n_estimators=200; accuracy: (test=0.929) f1: (test=0.780) total time= 3.5min\n",
      "[CV 1/3] END criterion=gini, max_depth=200, n_estimators=50; accuracy: (test=0.929) f1: (test=0.779) total time=  51.8s\n",
      "[CV 2/3] END criterion=gini, max_depth=200, n_estimators=50; accuracy: (test=0.928) f1: (test=0.776) total time=  51.9s\n",
      "[CV 3/3] END criterion=gini, max_depth=200, n_estimators=50; accuracy: (test=0.928) f1: (test=0.774) total time=  51.8s\n",
      "[CV 1/3] END criterion=gini, max_depth=200, n_estimators=100; accuracy: (test=0.929) f1: (test=0.780) total time= 1.7min\n",
      "[CV 2/3] END criterion=gini, max_depth=200, n_estimators=100; accuracy: (test=0.929) f1: (test=0.780) total time= 1.7min\n",
      "[CV 3/3] END criterion=gini, max_depth=200, n_estimators=100; accuracy: (test=0.929) f1: (test=0.779) total time= 1.7min\n",
      "[CV 1/3] END criterion=gini, max_depth=200, n_estimators=200; accuracy: (test=0.930) f1: (test=0.782) total time= 3.5min\n",
      "[CV 2/3] END criterion=gini, max_depth=200, n_estimators=200; accuracy: (test=0.929) f1: (test=0.780) total time= 3.4min\n",
      "[CV 3/3] END criterion=gini, max_depth=200, n_estimators=200; accuracy: (test=0.929) f1: (test=0.780) total time= 3.4min\n",
      "[CV 1/3] END criterion=gini, max_depth=None, n_estimators=50; accuracy: (test=0.929) f1: (test=0.779) total time=  51.8s\n",
      "[CV 2/3] END criterion=gini, max_depth=None, n_estimators=50; accuracy: (test=0.928) f1: (test=0.776) total time=  51.8s\n",
      "[CV 3/3] END criterion=gini, max_depth=None, n_estimators=50; accuracy: (test=0.928) f1: (test=0.774) total time=  51.8s\n",
      "[CV 1/3] END criterion=gini, max_depth=None, n_estimators=100; accuracy: (test=0.929) f1: (test=0.780) total time= 1.7min\n",
      "[CV 2/3] END criterion=gini, max_depth=None, n_estimators=100; accuracy: (test=0.929) f1: (test=0.780) total time= 1.7min\n",
      "[CV 3/3] END criterion=gini, max_depth=None, n_estimators=100; accuracy: (test=0.929) f1: (test=0.779) total time= 1.7min\n",
      "[CV 1/3] END criterion=gini, max_depth=None, n_estimators=200; accuracy: (test=0.930) f1: (test=0.782) total time= 3.4min\n",
      "[CV 2/3] END criterion=gini, max_depth=None, n_estimators=200; accuracy: (test=0.929) f1: (test=0.780) total time= 3.4min\n",
      "[CV 3/3] END criterion=gini, max_depth=None, n_estimators=200; accuracy: (test=0.929) f1: (test=0.780) total time= 3.4min\n",
      "[CV 1/3] END criterion=entropy, max_depth=50, n_estimators=50; accuracy: (test=0.929) f1: (test=0.779) total time=  53.8s\n",
      "[CV 2/3] END criterion=entropy, max_depth=50, n_estimators=50; accuracy: (test=0.929) f1: (test=0.779) total time=  53.8s\n",
      "[CV 3/3] END criterion=entropy, max_depth=50, n_estimators=50; accuracy: (test=0.928) f1: (test=0.778) total time=  54.2s\n",
      "[CV 1/3] END criterion=entropy, max_depth=50, n_estimators=100; accuracy: (test=0.929) f1: (test=0.782) total time= 1.8min\n",
      "[CV 2/3] END criterion=entropy, max_depth=50, n_estimators=100; accuracy: (test=0.929) f1: (test=0.780) total time= 1.8min\n",
      "[CV 3/3] END criterion=entropy, max_depth=50, n_estimators=100; accuracy: (test=0.929) f1: (test=0.781) total time= 1.8min\n",
      "[CV 1/3] END criterion=entropy, max_depth=50, n_estimators=200; accuracy: (test=0.930) f1: (test=0.784) total time= 3.5min\n",
      "[CV 2/3] END criterion=entropy, max_depth=50, n_estimators=200; accuracy: (test=0.929) f1: (test=0.782) total time= 3.6min\n",
      "[CV 3/3] END criterion=entropy, max_depth=50, n_estimators=200; accuracy: (test=0.930) f1: (test=0.782) total time= 3.6min\n",
      "[CV 1/3] END criterion=entropy, max_depth=100, n_estimators=50; accuracy: (test=0.929) f1: (test=0.780) total time=  53.2s\n",
      "[CV 2/3] END criterion=entropy, max_depth=100, n_estimators=50; accuracy: (test=0.929) f1: (test=0.779) total time=  53.3s\n",
      "[CV 3/3] END criterion=entropy, max_depth=100, n_estimators=50; accuracy: (test=0.928) f1: (test=0.776) total time=  53.3s\n",
      "[CV 1/3] END criterion=entropy, max_depth=100, n_estimators=100; accuracy: (test=0.929) f1: (test=0.781) total time= 1.8min\n",
      "[CV 2/3] END criterion=entropy, max_depth=100, n_estimators=100; accuracy: (test=0.929) f1: (test=0.782) total time= 1.8min\n",
      "[CV 3/3] END criterion=entropy, max_depth=100, n_estimators=100; accuracy: (test=0.929) f1: (test=0.779) total time= 1.8min\n",
      "[CV 1/3] END criterion=entropy, max_depth=100, n_estimators=200; accuracy: (test=0.930) f1: (test=0.782) total time= 3.6min\n",
      "[CV 2/3] END criterion=entropy, max_depth=100, n_estimators=200; accuracy: (test=0.930) f1: (test=0.784) total time= 3.6min\n",
      "[CV 3/3] END criterion=entropy, max_depth=100, n_estimators=200; accuracy: (test=0.929) f1: (test=0.780) total time= 3.6min\n",
      "[CV 1/3] END criterion=entropy, max_depth=200, n_estimators=50; accuracy: (test=0.929) f1: (test=0.780) total time=  53.3s\n",
      "[CV 2/3] END criterion=entropy, max_depth=200, n_estimators=50; accuracy: (test=0.929) f1: (test=0.779) total time=  53.1s\n",
      "[CV 3/3] END criterion=entropy, max_depth=200, n_estimators=50; accuracy: (test=0.928) f1: (test=0.776) total time=  53.4s\n",
      "[CV 1/3] END criterion=entropy, max_depth=200, n_estimators=100; accuracy: (test=0.929) f1: (test=0.781) total time= 1.8min\n",
      "[CV 2/3] END criterion=entropy, max_depth=200, n_estimators=100; accuracy: (test=0.929) f1: (test=0.782) total time= 1.8min\n",
      "[CV 3/3] END criterion=entropy, max_depth=200, n_estimators=100; accuracy: (test=0.929) f1: (test=0.779) total time= 1.8min\n",
      "[CV 1/3] END criterion=entropy, max_depth=200, n_estimators=200; accuracy: (test=0.930) f1: (test=0.782) total time= 3.6min\n",
      "[CV 2/3] END criterion=entropy, max_depth=200, n_estimators=200; accuracy: (test=0.930) f1: (test=0.784) total time= 3.6min\n",
      "[CV 3/3] END criterion=entropy, max_depth=200, n_estimators=200; accuracy: (test=0.929) f1: (test=0.780) total time= 3.6min\n",
      "[CV 1/3] END criterion=entropy, max_depth=None, n_estimators=50; accuracy: (test=0.929) f1: (test=0.780) total time=  53.2s\n",
      "[CV 2/3] END criterion=entropy, max_depth=None, n_estimators=50; accuracy: (test=0.929) f1: (test=0.779) total time=  57.1s\n",
      "[CV 3/3] END criterion=entropy, max_depth=None, n_estimators=50; accuracy: (test=0.928) f1: (test=0.776) total time=  54.2s\n",
      "[CV 1/3] END criterion=entropy, max_depth=None, n_estimators=100; accuracy: (test=0.929) f1: (test=0.781) total time= 1.8min\n"
     ]
    },
    {
     "name": "stdout",
     "output_type": "stream",
     "text": [
      "[CV 2/3] END criterion=entropy, max_depth=None, n_estimators=100; accuracy: (test=0.929) f1: (test=0.782) total time= 1.8min\n",
      "[CV 3/3] END criterion=entropy, max_depth=None, n_estimators=100; accuracy: (test=0.929) f1: (test=0.779) total time= 1.8min\n",
      "[CV 1/3] END criterion=entropy, max_depth=None, n_estimators=200; accuracy: (test=0.930) f1: (test=0.782) total time= 3.6min\n",
      "[CV 2/3] END criterion=entropy, max_depth=None, n_estimators=200; accuracy: (test=0.930) f1: (test=0.784) total time= 3.6min\n",
      "[CV 3/3] END criterion=entropy, max_depth=None, n_estimators=200; accuracy: (test=0.929) f1: (test=0.780) total time= 3.6min\n"
     ]
    },
    {
     "data": {
      "text/plain": [
       "GridSearchCV(cv=3, estimator=RandomForestClassifier(random_state=42), n_jobs=1,\n",
       "             param_grid={'criterion': ['gini', 'entropy'],\n",
       "                         'max_depth': [50, 100, 200, None],\n",
       "                         'n_estimators': [50, 100, 200]},\n",
       "             refit='f1', scoring=('accuracy', 'f1'), verbose=5)"
      ]
     },
     "execution_count": 9,
     "metadata": {},
     "output_type": "execute_result"
    }
   ],
   "source": [
    "## Execute grid search to find the best hyperparameters\n",
    "search_results_rf = GridSearchCV(estimator=rf_for_search, param_grid=params, \n",
    "                                 cv=3, scoring=('accuracy', 'f1'), \n",
    "                                 refit='f1', n_jobs=1, verbose=5)\n",
    "search_results_rf.fit(X, y)"
   ]
  },
  {
   "cell_type": "code",
   "execution_count": 10,
   "id": "51c6c134",
   "metadata": {},
   "outputs": [
    {
     "data": {
      "text/html": [
       "<div>\n",
       "<style scoped>\n",
       "    .dataframe tbody tr th:only-of-type {\n",
       "        vertical-align: middle;\n",
       "    }\n",
       "\n",
       "    .dataframe tbody tr th {\n",
       "        vertical-align: top;\n",
       "    }\n",
       "\n",
       "    .dataframe thead th {\n",
       "        text-align: right;\n",
       "    }\n",
       "</style>\n",
       "<table border=\"1\" class=\"dataframe\">\n",
       "  <thead>\n",
       "    <tr style=\"text-align: right;\">\n",
       "      <th></th>\n",
       "      <th>param_criterion</th>\n",
       "      <th>param_n_estimators</th>\n",
       "      <th>param_max_depth</th>\n",
       "      <th>mean_test_accuracy</th>\n",
       "      <th>mean_test_f1</th>\n",
       "      <th>mean_fit_time</th>\n",
       "    </tr>\n",
       "  </thead>\n",
       "  <tbody>\n",
       "    <tr>\n",
       "      <th>14</th>\n",
       "      <td>entropy</td>\n",
       "      <td>200</td>\n",
       "      <td>50</td>\n",
       "      <td>0.929659</td>\n",
       "      <td>0.782551</td>\n",
       "      <td>198.826593</td>\n",
       "    </tr>\n",
       "    <tr>\n",
       "      <th>23</th>\n",
       "      <td>entropy</td>\n",
       "      <td>200</td>\n",
       "      <td>None</td>\n",
       "      <td>0.929508</td>\n",
       "      <td>0.781982</td>\n",
       "      <td>199.930429</td>\n",
       "    </tr>\n",
       "    <tr>\n",
       "      <th>20</th>\n",
       "      <td>entropy</td>\n",
       "      <td>200</td>\n",
       "      <td>200</td>\n",
       "      <td>0.929508</td>\n",
       "      <td>0.781982</td>\n",
       "      <td>198.362246</td>\n",
       "    </tr>\n",
       "    <tr>\n",
       "      <th>17</th>\n",
       "      <td>entropy</td>\n",
       "      <td>200</td>\n",
       "      <td>100</td>\n",
       "      <td>0.929508</td>\n",
       "      <td>0.781982</td>\n",
       "      <td>198.268588</td>\n",
       "    </tr>\n",
       "    <tr>\n",
       "      <th>2</th>\n",
       "      <td>gini</td>\n",
       "      <td>200</td>\n",
       "      <td>50</td>\n",
       "      <td>0.929575</td>\n",
       "      <td>0.781366</td>\n",
       "      <td>189.486307</td>\n",
       "    </tr>\n",
       "  </tbody>\n",
       "</table>\n",
       "</div>"
      ],
      "text/plain": [
       "   param_criterion param_n_estimators param_max_depth  mean_test_accuracy  \\\n",
       "14         entropy                200              50            0.929659   \n",
       "23         entropy                200            None            0.929508   \n",
       "20         entropy                200             200            0.929508   \n",
       "17         entropy                200             100            0.929508   \n",
       "2             gini                200              50            0.929575   \n",
       "\n",
       "    mean_test_f1  mean_fit_time  \n",
       "14      0.782551     198.826593  \n",
       "23      0.781982     199.930429  \n",
       "20      0.781982     198.362246  \n",
       "17      0.781982     198.268588  \n",
       "2       0.781366     189.486307  "
      ]
     },
     "execution_count": 10,
     "metadata": {},
     "output_type": "execute_result"
    }
   ],
   "source": [
    "scores_rf = pd.DataFrame(search_results_rf.cv_results_)[['param_criterion', \n",
    "                                                         'param_n_estimators', \n",
    "                                                         'param_max_depth', \n",
    "                                                         'mean_test_accuracy', \n",
    "                                                         'mean_test_f1', \n",
    "                                                         'mean_fit_time']]\n",
    "scores_rf.sort_values(by='mean_test_f1', ascending=False).head(5)"
   ]
  },
  {
   "cell_type": "code",
   "execution_count": 11,
   "id": "5066833a",
   "metadata": {},
   "outputs": [
    {
     "data": {
      "text/plain": [
       "{'criterion': 'entropy', 'max_depth': 50, 'n_estimators': 200}"
      ]
     },
     "execution_count": 11,
     "metadata": {},
     "output_type": "execute_result"
    }
   ],
   "source": [
    "## Print out the best hyperparameters found\n",
    "search_results_rf.best_params_"
   ]
  },
  {
   "cell_type": "code",
   "execution_count": 12,
   "id": "07568c30",
   "metadata": {},
   "outputs": [],
   "source": [
    "best_rf = search_results_rf.best_estimator_"
   ]
  },
  {
   "cell_type": "markdown",
   "id": "d3671702",
   "metadata": {},
   "source": [
    "Now that I have chosen the best hyperparameters for the random forest model, I fit the model on the entire training set, and evaluate performance on the validation data."
   ]
  },
  {
   "cell_type": "code",
   "execution_count": 13,
   "id": "729a2f94",
   "metadata": {},
   "outputs": [
    {
     "name": "stdout",
     "output_type": "stream",
     "text": [
      "CPU times: user 5min 46s, sys: 1.88 s, total: 5min 48s\n",
      "Wall time: 5min 48s\n"
     ]
    },
    {
     "data": {
      "text/plain": [
       "RandomForestClassifier(criterion='entropy', max_depth=50, n_estimators=200,\n",
       "                       random_state=42)"
      ]
     },
     "execution_count": 13,
     "metadata": {},
     "output_type": "execute_result"
    }
   ],
   "source": [
    "%%time\n",
    "## Fit our optimized random forest model to the training data\n",
    "best_rf.fit(X, y)"
   ]
  },
  {
   "cell_type": "code",
   "execution_count": 14,
   "id": "5a4e9db8",
   "metadata": {},
   "outputs": [],
   "source": [
    "X_val_df = pd.read_csv('../Data/Processed/X_test.csv')\n",
    "y_val_df = pd.read_csv('../Data/Processed/y_test.csv')"
   ]
  },
  {
   "cell_type": "code",
   "execution_count": 15,
   "id": "dd30d471",
   "metadata": {},
   "outputs": [],
   "source": [
    "## Load the validation data, and save features as an array and labels as a \n",
    "X_val = X_val_df.values\n",
    "y_val = y_val_df.values\n",
    "y_val = y_val.ravel()"
   ]
  },
  {
   "cell_type": "code",
   "execution_count": 16,
   "id": "2382c11d",
   "metadata": {},
   "outputs": [
    {
     "name": "stdout",
     "output_type": "stream",
     "text": [
      "CPU times: user 22.3 s, sys: 140 ms, total: 22.5 s\n",
      "Wall time: 22.5 s\n"
     ]
    }
   ],
   "source": [
    "%%time\n",
    "## Use our model to make a prediction on the validation set\n",
    "y_val_pred_rf = best_rf.predict(X_val)"
   ]
  },
  {
   "cell_type": "code",
   "execution_count": 17,
   "id": "a6884255",
   "metadata": {},
   "outputs": [
    {
     "name": "stdout",
     "output_type": "stream",
     "text": [
      "Accuracy: 0.93\n",
      "Precision: 0.73\n",
      "Recall: 0.85\n",
      "f1 score: 0.79\n"
     ]
    }
   ],
   "source": [
    "## Print metrics for this model.\n",
    "print(\"Accuracy: {:.2f}\".format(accuracy_score(y_val_pred_rf, y_val)))\n",
    "print(\"Precision: {:.2f}\".format(precision_score(y_val_pred_rf, y_val)))\n",
    "print(\"Recall: {:.2f}\".format(recall_score(y_val_pred_rf, y_val)))\n",
    "print(\"f1 score: {:.2f}\".format(f1_score(y_val_pred_rf, y_val)))"
   ]
  },
  {
   "cell_type": "markdown",
   "id": "a48f0cf4",
   "metadata": {},
   "source": [
    "Finally, let's examine the most important features of our model."
   ]
  },
  {
   "cell_type": "code",
   "execution_count": 18,
   "id": "be3ad5c2",
   "metadata": {},
   "outputs": [
    {
     "data": {
      "image/png": "[encoded data removed]",
      "text/plain": [
       "<Figure size 720x360 with 1 Axes>"
      ]
     },
     "metadata": {
      "needs_background": "light"
     },
     "output_type": "display_data"
    }
   ],
   "source": [
    "## Graph shows feature importances for this model\n",
    "plt.subplots(figsize=(10, 5))\n",
    "importances = best_rf.feature_importances_\n",
    "labeled_importances = pd.Series(importances, index=feature_names).sort_values(ascending=False)[:10]\n",
    "labeled_importances.plot(kind='bar')\n",
    "plt.xlabel('features')\n",
    "plt.ylabel('importance')\n",
    "plt.title('Best random forest model feature importances');"
   ]
  },
  {
   "cell_type": "markdown",
   "id": "5c243ad8",
   "metadata": {},
   "source": [
    "#### Conclusion: random forest\n",
    "\n",
    "Random forest offers decent performance even with the default hyperparameters from `sklearn`. However, my efforts to improve performance with hyperparameter turning were not very successful. The optimized model performed only about one percentage point better on the target metric, but took more than three times longer to train. It's possible that the algorithm would do better with an even larger value of `n_estimators`, but this would mean longer training times. For now, I will try a different algorithm. "
   ]
  },
  {
   "cell_type": "markdown",
   "id": "bfe93248",
   "metadata": {},
   "source": [
    "### Gradient Boosting Algorithm"
   ]
  },
  {
   "cell_type": "markdown",
   "id": "56d527e1",
   "metadata": {},
   "source": [
    "#### Evaluating the default model"
   ]
  },
  {
   "cell_type": "markdown",
   "id": "9b38aee8",
   "metadata": {},
   "source": [
    "I will now follow a similar process with gradient boosting. To being, I will evaluate the default version of the model."
   ]
  },
  {
   "cell_type": "code",
   "execution_count": 19,
   "id": "4241d8dc",
   "metadata": {},
   "outputs": [],
   "source": [
    "gb_model = GradientBoostingClassifier(random_state=42)"
   ]
  },
  {
   "cell_type": "code",
   "execution_count": 20,
   "id": "eb9809b1",
   "metadata": {},
   "outputs": [],
   "source": [
    "cv_results_gb = cross_validate(gb_model, X, y, scoring=('f1', 'accuracy'), cv=3, n_jobs=1)"
   ]
  },
  {
   "cell_type": "code",
   "execution_count": 21,
   "id": "f3802ee0",
   "metadata": {},
   "outputs": [
    {
     "data": {
      "text/plain": [
       "fit_time         263.997793\n",
       "score_time         0.711314\n",
       "test_f1            0.786835\n",
       "test_accuracy      0.929814\n",
       "dtype: float64"
      ]
     },
     "execution_count": 21,
     "metadata": {},
     "output_type": "execute_result"
    }
   ],
   "source": [
    "# Print cross-validated metrics for the 'out of the box' gradient boosting model\n",
    "pd.DataFrame(cv_results_gb).mean()"
   ]
  },
  {
   "cell_type": "markdown",
   "id": "c7b0aa02",
   "metadata": {},
   "source": [
    "It seems that gradient boosting gives similar performance to random forest with the default setting. Lets see if gradient boosting is more responsive to hyperparameter tuning."
   ]
  },
  {
   "cell_type": "markdown",
   "id": "9ee7c74a",
   "metadata": {},
   "source": [
    "#### Hyperparameter tuning"
   ]
  },
  {
   "cell_type": "markdown",
   "id": "e26a7725",
   "metadata": {},
   "source": [
    "One again I conduct a grid search. This time instead of `criterion`, I vary the parameter `learning_rate`, which determines how quickly the boosting algorithm learns from its mistakes at each iteration. Gradient boosting tends to perform well with a large number of relatively shallow trees, so I will try small values for `max_depth`."
   ]
  },
  {
   "cell_type": "code",
   "execution_count": 22,
   "id": "ee926caf",
   "metadata": {},
   "outputs": [],
   "source": [
    "# Set up parameter grid and declare a new estimator\n",
    "params_gb = {'n_estimators': [100, 200],\n",
    "            'max_depth': [7, 11, 15],\n",
    "            'learning_rate': [0.01, 0.1, 1]}\n",
    "\n",
    "gb_for_search = GradientBoostingClassifier(random_state=42)"
   ]
  },
  {
   "cell_type": "code",
   "execution_count": 23,
   "id": "3eee6cc6",
   "metadata": {},
   "outputs": [
    {
     "name": "stdout",
     "output_type": "stream",
     "text": [
      "Fitting 3 folds for each of 18 candidates, totalling 54 fits\n",
      "[CV 1/3] END learning_rate=0.01, max_depth=7, n_estimators=100; accuracy: (test=0.928) f1: (test=0.764) total time= 8.2min\n",
      "[CV 2/3] END learning_rate=0.01, max_depth=7, n_estimators=100; accuracy: (test=0.927) f1: (test=0.758) total time= 8.2min\n",
      "[CV 3/3] END learning_rate=0.01, max_depth=7, n_estimators=100; accuracy: (test=0.928) f1: (test=0.766) total time= 8.2min\n",
      "[CV 1/3] END learning_rate=0.01, max_depth=7, n_estimators=200; accuracy: (test=0.937) f1: (test=0.809) total time=16.5min\n",
      "[CV 2/3] END learning_rate=0.01, max_depth=7, n_estimators=200; accuracy: (test=0.937) f1: (test=0.806) total time=16.4min\n",
      "[CV 3/3] END learning_rate=0.01, max_depth=7, n_estimators=200; accuracy: (test=0.937) f1: (test=0.807) total time=16.4min\n",
      "[CV 1/3] END learning_rate=0.01, max_depth=11, n_estimators=100; accuracy: (test=0.937) f1: (test=0.803) total time=12.2min\n",
      "[CV 2/3] END learning_rate=0.01, max_depth=11, n_estimators=100; accuracy: (test=0.937) f1: (test=0.801) total time=12.1min\n",
      "[CV 3/3] END learning_rate=0.01, max_depth=11, n_estimators=100; accuracy: (test=0.938) f1: (test=0.805) total time=12.1min\n",
      "[CV 1/3] END learning_rate=0.01, max_depth=11, n_estimators=200; accuracy: (test=0.944) f1: (test=0.831) total time=24.3min\n",
      "[CV 2/3] END learning_rate=0.01, max_depth=11, n_estimators=200; accuracy: (test=0.943) f1: (test=0.830) total time=24.2min\n",
      "[CV 3/3] END learning_rate=0.01, max_depth=11, n_estimators=200; accuracy: (test=0.944) f1: (test=0.831) total time=24.2min\n",
      "[CV 1/3] END learning_rate=0.01, max_depth=15, n_estimators=100; accuracy: (test=0.938) f1: (test=0.808) total time=18.0min\n",
      "[CV 2/3] END learning_rate=0.01, max_depth=15, n_estimators=100; accuracy: (test=0.938) f1: (test=0.807) total time=18.0min\n",
      "[CV 3/3] END learning_rate=0.01, max_depth=15, n_estimators=100; accuracy: (test=0.938) f1: (test=0.809) total time=18.2min\n",
      "[CV 1/3] END learning_rate=0.01, max_depth=15, n_estimators=200; accuracy: (test=0.943) f1: (test=0.831) total time=36.3min\n",
      "[CV 2/3] END learning_rate=0.01, max_depth=15, n_estimators=200; accuracy: (test=0.943) f1: (test=0.830) total time=36.3min\n",
      "[CV 3/3] END learning_rate=0.01, max_depth=15, n_estimators=200; accuracy: (test=0.943) f1: (test=0.831) total time=36.4min\n",
      "[CV 1/3] END learning_rate=0.1, max_depth=7, n_estimators=100; accuracy: (test=0.944) f1: (test=0.835) total time= 8.4min\n",
      "[CV 2/3] END learning_rate=0.1, max_depth=7, n_estimators=100; accuracy: (test=0.944) f1: (test=0.834) total time= 8.3min\n",
      "[CV 3/3] END learning_rate=0.1, max_depth=7, n_estimators=100; accuracy: (test=0.944) f1: (test=0.834) total time= 8.3min\n",
      "[CV 1/3] END learning_rate=0.1, max_depth=7, n_estimators=200; accuracy: (test=0.946) f1: (test=0.842) total time=16.9min\n",
      "[CV 2/3] END learning_rate=0.1, max_depth=7, n_estimators=200; accuracy: (test=0.946) f1: (test=0.841) total time=16.8min\n",
      "[CV 3/3] END learning_rate=0.1, max_depth=7, n_estimators=200; accuracy: (test=0.946) f1: (test=0.842) total time=16.8min\n",
      "[CV 1/3] END learning_rate=0.1, max_depth=11, n_estimators=100; accuracy: (test=0.947) f1: (test=0.847) total time=12.5min\n",
      "[CV 2/3] END learning_rate=0.1, max_depth=11, n_estimators=100; accuracy: (test=0.946) f1: (test=0.843) total time=12.5min\n",
      "[CV 3/3] END learning_rate=0.1, max_depth=11, n_estimators=100; accuracy: (test=0.947) f1: (test=0.845) total time=12.5min\n",
      "[CV 1/3] END learning_rate=0.1, max_depth=11, n_estimators=200; accuracy: (test=0.948) f1: (test=0.848) total time=25.7min\n",
      "[CV 2/3] END learning_rate=0.1, max_depth=11, n_estimators=200; accuracy: (test=0.947) f1: (test=0.845) total time=25.6min\n",
      "[CV 3/3] END learning_rate=0.1, max_depth=11, n_estimators=200; accuracy: (test=0.947) f1: (test=0.846) total time=25.7min\n",
      "[CV 1/3] END learning_rate=0.1, max_depth=15, n_estimators=100; accuracy: (test=0.945) f1: (test=0.841) total time=17.7min\n",
      "[CV 2/3] END learning_rate=0.1, max_depth=15, n_estimators=100; accuracy: (test=0.945) f1: (test=0.839) total time=17.7min\n",
      "[CV 3/3] END learning_rate=0.1, max_depth=15, n_estimators=100; accuracy: (test=0.944) f1: (test=0.839) total time=17.6min\n",
      "[CV 1/3] END learning_rate=0.1, max_depth=15, n_estimators=200; accuracy: (test=0.946) f1: (test=0.842) total time=35.8min\n",
      "[CV 2/3] END learning_rate=0.1, max_depth=15, n_estimators=200; accuracy: (test=0.945) f1: (test=0.840) total time=35.5min\n",
      "[CV 3/3] END learning_rate=0.1, max_depth=15, n_estimators=200; accuracy: (test=0.945) f1: (test=0.839) total time=35.5min\n",
      "[CV 1/3] END learning_rate=1, max_depth=7, n_estimators=100; accuracy: (test=0.937) f1: (test=0.821) total time= 8.6min\n",
      "[CV 2/3] END learning_rate=1, max_depth=7, n_estimators=100; accuracy: (test=0.937) f1: (test=0.819) total time= 8.5min\n",
      "[CV 3/3] END learning_rate=1, max_depth=7, n_estimators=100; accuracy: (test=0.938) f1: (test=0.822) total time= 8.6min\n",
      "[CV 1/3] END learning_rate=1, max_depth=7, n_estimators=200; accuracy: (test=0.936) f1: (test=0.818) total time=17.3min\n",
      "[CV 2/3] END learning_rate=1, max_depth=7, n_estimators=200; accuracy: (test=0.936) f1: (test=0.817) total time=17.1min\n",
      "[CV 3/3] END learning_rate=1, max_depth=7, n_estimators=200; accuracy: (test=0.938) f1: (test=0.822) total time=17.2min\n",
      "[CV 1/3] END learning_rate=1, max_depth=11, n_estimators=100; accuracy: (test=0.932) f1: (test=0.804) total time=13.1min\n",
      "[CV 2/3] END learning_rate=1, max_depth=11, n_estimators=100; accuracy: (test=0.929) f1: (test=0.796) total time=13.0min\n",
      "[CV 3/3] END learning_rate=1, max_depth=11, n_estimators=100; accuracy: (test=0.932) f1: (test=0.803) total time=13.2min\n",
      "[CV 1/3] END learning_rate=1, max_depth=11, n_estimators=200; accuracy: (test=0.929) f1: (test=0.797) total time=26.6min\n",
      "[CV 2/3] END learning_rate=1, max_depth=11, n_estimators=200; accuracy: (test=0.922) f1: (test=0.778) total time=26.1min\n",
      "[CV 3/3] END learning_rate=1, max_depth=11, n_estimators=200; accuracy: (test=0.930) f1: (test=0.799) total time=26.5min\n",
      "[CV 1/3] END learning_rate=1, max_depth=15, n_estimators=100; accuracy: (test=0.894) f1: (test=0.712) total time=17.9min\n",
      "[CV 2/3] END learning_rate=1, max_depth=15, n_estimators=100; accuracy: (test=0.894) f1: (test=0.712) total time=17.6min\n",
      "[CV 3/3] END learning_rate=1, max_depth=15, n_estimators=100; accuracy: (test=0.895) f1: (test=0.711) total time=17.7min\n",
      "[CV 1/3] END learning_rate=1, max_depth=15, n_estimators=200; accuracy: (test=0.894) f1: (test=0.712) total time=35.4min\n",
      "[CV 2/3] END learning_rate=1, max_depth=15, n_estimators=200; accuracy: (test=0.864) f1: (test=0.657) total time=35.3min\n",
      "[CV 3/3] END learning_rate=1, max_depth=15, n_estimators=200; accuracy: (test=0.892) f1: (test=0.706) total time=35.7min\n"
     ]
    },
    {
     "data": {
      "text/plain": [
       "GridSearchCV(cv=3, estimator=GradientBoostingClassifier(random_state=42),\n",
       "             n_jobs=1,\n",
       "             param_grid={'learning_rate': [0.01, 0.1, 1],\n",
       "                         'max_depth': [7, 11, 15], 'n_estimators': [100, 200]},\n",
       "             refit='f1', scoring=('accuracy', 'f1'), verbose=5)"
      ]
     },
     "execution_count": 23,
     "metadata": {},
     "output_type": "execute_result"
    }
   ],
   "source": [
    "# Execute the grid search\n",
    "search_results_gb = GridSearchCV(estimator=gb_for_search, param_grid=params_gb, cv=3, \n",
    "                                 scoring=('accuracy', 'f1'), refit='f1', \n",
    "                                 n_jobs=1, verbose=5)\n",
    "search_results_gb.fit(X, y)"
   ]
  },
  {
   "cell_type": "code",
   "execution_count": 24,
   "id": "d54ac6ad",
   "metadata": {},
   "outputs": [
    {
     "data": {
      "text/html": [
       "<div>\n",
       "<style scoped>\n",
       "    .dataframe tbody tr th:only-of-type {\n",
       "        vertical-align: middle;\n",
       "    }\n",
       "\n",
       "    .dataframe tbody tr th {\n",
       "        vertical-align: top;\n",
       "    }\n",
       "\n",
       "    .dataframe thead th {\n",
       "        text-align: right;\n",
       "    }\n",
       "</style>\n",
       "<table border=\"1\" class=\"dataframe\">\n",
       "  <thead>\n",
       "    <tr style=\"text-align: right;\">\n",
       "      <th></th>\n",
       "      <th>param_learning_rate</th>\n",
       "      <th>param_max_depth</th>\n",
       "      <th>param_n_estimators</th>\n",
       "      <th>mean_test_accuracy</th>\n",
       "      <th>mean_test_f1</th>\n",
       "      <th>mean_fit_time</th>\n",
       "    </tr>\n",
       "  </thead>\n",
       "  <tbody>\n",
       "    <tr>\n",
       "      <th>9</th>\n",
       "      <td>0.1</td>\n",
       "      <td>11</td>\n",
       "      <td>200</td>\n",
       "      <td>0.947015</td>\n",
       "      <td>0.846181</td>\n",
       "      <td>1536.436442</td>\n",
       "    </tr>\n",
       "    <tr>\n",
       "      <th>8</th>\n",
       "      <td>0.1</td>\n",
       "      <td>11</td>\n",
       "      <td>100</td>\n",
       "      <td>0.946742</td>\n",
       "      <td>0.845048</td>\n",
       "      <td>749.514324</td>\n",
       "    </tr>\n",
       "    <tr>\n",
       "      <th>7</th>\n",
       "      <td>0.1</td>\n",
       "      <td>7</td>\n",
       "      <td>200</td>\n",
       "      <td>0.946075</td>\n",
       "      <td>0.841763</td>\n",
       "      <td>1008.331143</td>\n",
       "    </tr>\n",
       "    <tr>\n",
       "      <th>11</th>\n",
       "      <td>0.1</td>\n",
       "      <td>15</td>\n",
       "      <td>200</td>\n",
       "      <td>0.945130</td>\n",
       "      <td>0.840616</td>\n",
       "      <td>2131.787125</td>\n",
       "    </tr>\n",
       "    <tr>\n",
       "      <th>10</th>\n",
       "      <td>0.1</td>\n",
       "      <td>15</td>\n",
       "      <td>100</td>\n",
       "      <td>0.944729</td>\n",
       "      <td>0.839703</td>\n",
       "      <td>1057.613049</td>\n",
       "    </tr>\n",
       "  </tbody>\n",
       "</table>\n",
       "</div>"
      ],
      "text/plain": [
       "   param_learning_rate param_max_depth param_n_estimators  mean_test_accuracy  \\\n",
       "9                  0.1              11                200            0.947015   \n",
       "8                  0.1              11                100            0.946742   \n",
       "7                  0.1               7                200            0.946075   \n",
       "11                 0.1              15                200            0.945130   \n",
       "10                 0.1              15                100            0.944729   \n",
       "\n",
       "    mean_test_f1  mean_fit_time  \n",
       "9       0.846181    1536.436442  \n",
       "8       0.845048     749.514324  \n",
       "7       0.841763    1008.331143  \n",
       "11      0.840616    2131.787125  \n",
       "10      0.839703    1057.613049  "
      ]
     },
     "execution_count": 24,
     "metadata": {},
     "output_type": "execute_result"
    }
   ],
   "source": [
    "## Print out metrics for the top 5 models\n",
    "scores_gb = pd.DataFrame(search_results_gb.cv_results_)[['param_learning_rate', \n",
    "                                                         'param_max_depth', \n",
    "                                                         'param_n_estimators', \n",
    "                                                         'mean_test_accuracy', \n",
    "                                                         'mean_test_f1', \n",
    "                                                         'mean_fit_time']]\n",
    "scores_gb.sort_values(by='mean_test_f1', ascending=False).head(5)"
   ]
  },
  {
   "cell_type": "markdown",
   "id": "b5287c34",
   "metadata": {},
   "source": [
    "Here I noticed something interesting. The second-best model performs almost as well as the best model--both accuracy and precision agree to the second decimal place--but requires only about half the training time. Since gradient boosting models generally need much more training time than random forest, this is an important consideration. Using a model that is easier to train means I could more easily improve the model by training on more recent data if it became available. So, I will select the *second* model in the table above as the optimized gradient boosting classifier.\n",
    "\n",
    "I now train a model with the chosen hyperparameters from the search, and evaluate its performance on the test set. "
   ]
  },
  {
   "cell_type": "code",
   "execution_count": 25,
   "id": "6f2d0b94",
   "metadata": {},
   "outputs": [],
   "source": [
    "## Choose the estimator with the best f1 score\n",
    "best_gb = GradientBoostingClassifier(n_estimators=100, \n",
    "                                     learning_rate=0.1, max_depth=11, random_state=42)"
   ]
  },
  {
   "cell_type": "code",
   "execution_count": 26,
   "id": "79ba7a3e",
   "metadata": {},
   "outputs": [
    {
     "name": "stdout",
     "output_type": "stream",
     "text": [
      "CPU times: user 14min 2s, sys: 59.1 ms, total: 14min 2s\n",
      "Wall time: 14min 2s\n"
     ]
    },
    {
     "data": {
      "text/plain": [
       "GradientBoostingClassifier(max_depth=11, random_state=42)"
      ]
     },
     "execution_count": 26,
     "metadata": {},
     "output_type": "execute_result"
    }
   ],
   "source": [
    "%%time\n",
    "## Fit the optimized gradient boosting model to all of the training data\n",
    "best_gb.fit(X, y)"
   ]
  },
  {
   "cell_type": "code",
   "execution_count": 27,
   "id": "6bb1bf5c",
   "metadata": {},
   "outputs": [
    {
     "name": "stdout",
     "output_type": "stream",
     "text": [
      "CPU times: user 2.01 s, sys: 7.99 ms, total: 2.01 s\n",
      "Wall time: 2.01 s\n"
     ]
    }
   ],
   "source": [
    "%%time\n",
    "## Now, use the optimized gradient boosting model to make predictions for the test set\n",
    "y_val_pred_gb = best_gb.predict(X_val)"
   ]
  },
  {
   "cell_type": "code",
   "execution_count": 28,
   "id": "e56dd796",
   "metadata": {},
   "outputs": [
    {
     "name": "stdout",
     "output_type": "stream",
     "text": [
      "Accuracy: 0.95\n",
      "Precision: 0.83\n",
      "Recall: 0.86\n",
      "f1 score: 0.85\n"
     ]
    }
   ],
   "source": [
    "## Print evaluation metrics for this model.\n",
    "print(\"Accuracy: {:.2f}\".format(accuracy_score(y_val_pred_gb, y_val)))\n",
    "print(\"Precision: {:.2f}\".format(precision_score(y_val_pred_gb, y_val)))\n",
    "print(\"Recall: {:.2f}\".format(recall_score(y_val_pred_gb, y_val)))\n",
    "print(\"f1 score: {:.2f}\".format(f1_score(y_val_pred_gb, y_val)))"
   ]
  },
  {
   "cell_type": "markdown",
   "id": "9a101e78",
   "metadata": {},
   "source": [
    "Finally, I plot feature importances for the gradient boosting model."
   ]
  },
  {
   "cell_type": "code",
   "execution_count": 29,
   "id": "adf3dcd4",
   "metadata": {},
   "outputs": [
    {
     "data": {
      "image/png": "[encoded data removed]",
      "text/plain": [
       "<Figure size 720x360 with 1 Axes>"
      ]
     },
     "metadata": {
      "needs_background": "light"
     },
     "output_type": "display_data"
    }
   ],
   "source": [
    "import matplotlib.pyplot as plt\n",
    "\n",
    "plt.subplots(figsize=(10, 5))\n",
    "importances = best_gb.feature_importances_\n",
    "labeled_importances = pd.Series(importances, index=feature_names).sort_values(ascending=False)[:10]\n",
    "labeled_importances.plot(kind='bar')\n",
    "plt.xlabel('features')\n",
    "plt.ylabel('importance')\n",
    "plt.title('Best gradient boosting model feature importances');"
   ]
  },
  {
   "cell_type": "markdown",
   "id": "123fa44a",
   "metadata": {},
   "source": [
    "#### Conclusion: gradient boosting\n",
    "\n",
    "The gradient boosting model performed similarly to random forest without hyperparameter turning. After tuning hyperparameters, I found that gradient boosting was significantly more powerful. I was able to acheive an f1 score of 0.85, a full 6 percentage-points higher than my best random forest model. The main downside was a noticeably longer training time."
   ]
  },
  {
   "cell_type": "markdown",
   "id": "1f05442e",
   "metadata": {},
   "source": [
    "### Choosing the best model"
   ]
  },
  {
   "cell_type": "markdown",
   "id": "6b587592",
   "metadata": {},
   "source": [
    "The best model is gradient boosting, with the `max_depth` parameter set to 11. (All other parameter values are defaults). This model outperformed my best random forest model on four metrics: accuracy, precision, recall, and f1-score. The most notable difference was in precision, which was 0.83 for gradient boosting verus 0.73 for random forest. Hence the gradient boosting model had fewer false positives; it is much less likely to falsely predict that a loan would go into default. \n",
    "\n",
    "The major disadvantage of gradient boosting is a longer fit time. My best gradient boosting model had a mean fit time of 750 seconds when doing three-fold cross-validation on the training data. For random forest, the mean fit time was about 200 seconds. While this is a noticable difference, the training time for gradient boosting is not prohibitive. In addition, the gradient boosting model had much faster prediction times (approximately 2 seconds to predict the test set, compared to 22 seconds for random forest). With its faster, more precise predictions, gradient boosting is worth the extra training time.\n",
    "\n",
    "As a final remark, it is reassuring to note that random forest and gradient boosting had the same top-five features, although gradient boosting put even more emphasis on the `term` feature than random forest. The fact that the models agreed on which features are import suggests that both are finding genuine relationships in the data."
   ]
  },
  {
   "cell_type": "code",
   "execution_count": null,
   "id": "1c939774",
   "metadata": {},
   "outputs": [],
   "source": []
  }
 ],
 "metadata": {
  "kernelspec": {
   "display_name": "Python 3",
   "language": "python",
   "name": "python3"
  },
  "language_info": {
   "codemirror_mode": {
    "name": "ipython",
    "version": 3
   },
   "file_extension": ".py",
   "mimetype": "text/x-python",
   "name": "python",
   "nbconvert_exporter": "python",
   "pygments_lexer": "ipython3",
   "version": "3.8.8"
  }
 },
 "nbformat": 4,
 "nbformat_minor": 5
}
