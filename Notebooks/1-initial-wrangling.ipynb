{
 "cells": [
  {
   "cell_type": "markdown",
   "id": "a242ac72",
   "metadata": {},
   "source": [
    "# Springboard Capstone 2: Data Wrangling\n",
    "\n",
    "## Default Risk for Small Business Loans"
   ]
  },
  {
   "cell_type": "markdown",
   "id": "f4d7740c",
   "metadata": {},
   "source": [
    "### Load the Data"
   ]
  },
  {
   "cell_type": "code",
   "execution_count": 1,
   "id": "acc59288",
   "metadata": {},
   "outputs": [],
   "source": [
    "import pandas as pd\n",
    "import datetime as dt\n",
    "import matplotlib.pyplot as plt\n",
    "import numpy as np"
   ]
  },
  {
   "cell_type": "code",
   "execution_count": 2,
   "id": "328c35a2",
   "metadata": {},
   "outputs": [],
   "source": [
    "# Read in the data. Use `low_memory = False` to surpress warnings about columns of mixed data type.\n",
    "df = pd.read_csv('../Data/Raw/SBAnational.csv', low_memory = False)"
   ]
  },
  {
   "cell_type": "code",
   "execution_count": 3,
   "id": "251ca6e9",
   "metadata": {},
   "outputs": [
    {
     "data": {
      "text/html": [
       "<div>\n",
       "<style scoped>\n",
       "    .dataframe tbody tr th:only-of-type {\n",
       "        vertical-align: middle;\n",
       "    }\n",
       "\n",
       "    .dataframe tbody tr th {\n",
       "        vertical-align: top;\n",
       "    }\n",
       "\n",
       "    .dataframe thead th {\n",
       "        text-align: right;\n",
       "    }\n",
       "</style>\n",
       "<table border=\"1\" class=\"dataframe\">\n",
       "  <thead>\n",
       "    <tr style=\"text-align: right;\">\n",
       "      <th></th>\n",
       "      <th>LoanNr_ChkDgt</th>\n",
       "      <th>Name</th>\n",
       "      <th>City</th>\n",
       "      <th>State</th>\n",
       "      <th>Zip</th>\n",
       "      <th>Bank</th>\n",
       "      <th>BankState</th>\n",
       "      <th>NAICS</th>\n",
       "      <th>ApprovalDate</th>\n",
       "      <th>ApprovalFY</th>\n",
       "      <th>Term</th>\n",
       "      <th>NoEmp</th>\n",
       "      <th>NewExist</th>\n",
       "      <th>CreateJob</th>\n",
       "      <th>RetainedJob</th>\n",
       "      <th>FranchiseCode</th>\n",
       "      <th>UrbanRural</th>\n",
       "      <th>RevLineCr</th>\n",
       "      <th>LowDoc</th>\n",
       "      <th>ChgOffDate</th>\n",
       "      <th>DisbursementDate</th>\n",
       "      <th>DisbursementGross</th>\n",
       "      <th>BalanceGross</th>\n",
       "      <th>MIS_Status</th>\n",
       "      <th>ChgOffPrinGr</th>\n",
       "      <th>GrAppv</th>\n",
       "      <th>SBA_Appv</th>\n",
       "    </tr>\n",
       "  </thead>\n",
       "  <tbody>\n",
       "    <tr>\n",
       "      <th>0</th>\n",
       "      <td>1000014003</td>\n",
       "      <td>ABC HOBBYCRAFT</td>\n",
       "      <td>EVANSVILLE</td>\n",
       "      <td>IN</td>\n",
       "      <td>47711</td>\n",
       "      <td>FIFTH THIRD BANK</td>\n",
       "      <td>OH</td>\n",
       "      <td>451120</td>\n",
       "      <td>28-Feb-97</td>\n",
       "      <td>1997</td>\n",
       "      <td>84</td>\n",
       "      <td>4</td>\n",
       "      <td>2.0</td>\n",
       "      <td>0</td>\n",
       "      <td>0</td>\n",
       "      <td>1</td>\n",
       "      <td>0</td>\n",
       "      <td>N</td>\n",
       "      <td>Y</td>\n",
       "      <td>NaN</td>\n",
       "      <td>28-Feb-99</td>\n",
       "      <td>$60,000.00</td>\n",
       "      <td>$0.00</td>\n",
       "      <td>P I F</td>\n",
       "      <td>$0.00</td>\n",
       "      <td>$60,000.00</td>\n",
       "      <td>$48,000.00</td>\n",
       "    </tr>\n",
       "    <tr>\n",
       "      <th>1</th>\n",
       "      <td>1000024006</td>\n",
       "      <td>LANDMARK BAR &amp; GRILLE (THE)</td>\n",
       "      <td>NEW PARIS</td>\n",
       "      <td>IN</td>\n",
       "      <td>46526</td>\n",
       "      <td>1ST SOURCE BANK</td>\n",
       "      <td>IN</td>\n",
       "      <td>722410</td>\n",
       "      <td>28-Feb-97</td>\n",
       "      <td>1997</td>\n",
       "      <td>60</td>\n",
       "      <td>2</td>\n",
       "      <td>2.0</td>\n",
       "      <td>0</td>\n",
       "      <td>0</td>\n",
       "      <td>1</td>\n",
       "      <td>0</td>\n",
       "      <td>N</td>\n",
       "      <td>Y</td>\n",
       "      <td>NaN</td>\n",
       "      <td>31-May-97</td>\n",
       "      <td>$40,000.00</td>\n",
       "      <td>$0.00</td>\n",
       "      <td>P I F</td>\n",
       "      <td>$0.00</td>\n",
       "      <td>$40,000.00</td>\n",
       "      <td>$32,000.00</td>\n",
       "    </tr>\n",
       "    <tr>\n",
       "      <th>2</th>\n",
       "      <td>1000034009</td>\n",
       "      <td>WHITLOCK DDS, TODD M.</td>\n",
       "      <td>BLOOMINGTON</td>\n",
       "      <td>IN</td>\n",
       "      <td>47401</td>\n",
       "      <td>GRANT COUNTY STATE BANK</td>\n",
       "      <td>IN</td>\n",
       "      <td>621210</td>\n",
       "      <td>28-Feb-97</td>\n",
       "      <td>1997</td>\n",
       "      <td>180</td>\n",
       "      <td>7</td>\n",
       "      <td>1.0</td>\n",
       "      <td>0</td>\n",
       "      <td>0</td>\n",
       "      <td>1</td>\n",
       "      <td>0</td>\n",
       "      <td>N</td>\n",
       "      <td>N</td>\n",
       "      <td>NaN</td>\n",
       "      <td>31-Dec-97</td>\n",
       "      <td>$287,000.00</td>\n",
       "      <td>$0.00</td>\n",
       "      <td>P I F</td>\n",
       "      <td>$0.00</td>\n",
       "      <td>$287,000.00</td>\n",
       "      <td>$215,250.00</td>\n",
       "    </tr>\n",
       "    <tr>\n",
       "      <th>3</th>\n",
       "      <td>1000044001</td>\n",
       "      <td>BIG BUCKS PAWN &amp; JEWELRY, LLC</td>\n",
       "      <td>BROKEN ARROW</td>\n",
       "      <td>OK</td>\n",
       "      <td>74012</td>\n",
       "      <td>1ST NATL BK &amp; TR CO OF BROKEN</td>\n",
       "      <td>OK</td>\n",
       "      <td>0</td>\n",
       "      <td>28-Feb-97</td>\n",
       "      <td>1997</td>\n",
       "      <td>60</td>\n",
       "      <td>2</td>\n",
       "      <td>1.0</td>\n",
       "      <td>0</td>\n",
       "      <td>0</td>\n",
       "      <td>1</td>\n",
       "      <td>0</td>\n",
       "      <td>N</td>\n",
       "      <td>Y</td>\n",
       "      <td>NaN</td>\n",
       "      <td>30-Jun-97</td>\n",
       "      <td>$35,000.00</td>\n",
       "      <td>$0.00</td>\n",
       "      <td>P I F</td>\n",
       "      <td>$0.00</td>\n",
       "      <td>$35,000.00</td>\n",
       "      <td>$28,000.00</td>\n",
       "    </tr>\n",
       "    <tr>\n",
       "      <th>4</th>\n",
       "      <td>1000054004</td>\n",
       "      <td>ANASTASIA CONFECTIONS, INC.</td>\n",
       "      <td>ORLANDO</td>\n",
       "      <td>FL</td>\n",
       "      <td>32801</td>\n",
       "      <td>FLORIDA BUS. DEVEL CORP</td>\n",
       "      <td>FL</td>\n",
       "      <td>0</td>\n",
       "      <td>28-Feb-97</td>\n",
       "      <td>1997</td>\n",
       "      <td>240</td>\n",
       "      <td>14</td>\n",
       "      <td>1.0</td>\n",
       "      <td>7</td>\n",
       "      <td>7</td>\n",
       "      <td>1</td>\n",
       "      <td>0</td>\n",
       "      <td>N</td>\n",
       "      <td>N</td>\n",
       "      <td>NaN</td>\n",
       "      <td>14-May-97</td>\n",
       "      <td>$229,000.00</td>\n",
       "      <td>$0.00</td>\n",
       "      <td>P I F</td>\n",
       "      <td>$0.00</td>\n",
       "      <td>$229,000.00</td>\n",
       "      <td>$229,000.00</td>\n",
       "    </tr>\n",
       "  </tbody>\n",
       "</table>\n",
       "</div>"
      ],
      "text/plain": [
       "   LoanNr_ChkDgt                           Name          City State    Zip  \\\n",
       "0     1000014003                 ABC HOBBYCRAFT    EVANSVILLE    IN  47711   \n",
       "1     1000024006    LANDMARK BAR & GRILLE (THE)     NEW PARIS    IN  46526   \n",
       "2     1000034009          WHITLOCK DDS, TODD M.   BLOOMINGTON    IN  47401   \n",
       "3     1000044001  BIG BUCKS PAWN & JEWELRY, LLC  BROKEN ARROW    OK  74012   \n",
       "4     1000054004    ANASTASIA CONFECTIONS, INC.       ORLANDO    FL  32801   \n",
       "\n",
       "                            Bank BankState   NAICS ApprovalDate ApprovalFY  \\\n",
       "0               FIFTH THIRD BANK        OH  451120    28-Feb-97       1997   \n",
       "1                1ST SOURCE BANK        IN  722410    28-Feb-97       1997   \n",
       "2        GRANT COUNTY STATE BANK        IN  621210    28-Feb-97       1997   \n",
       "3  1ST NATL BK & TR CO OF BROKEN        OK       0    28-Feb-97       1997   \n",
       "4        FLORIDA BUS. DEVEL CORP        FL       0    28-Feb-97       1997   \n",
       "\n",
       "   Term  NoEmp  NewExist  CreateJob  RetainedJob  FranchiseCode  UrbanRural  \\\n",
       "0    84      4       2.0          0            0              1           0   \n",
       "1    60      2       2.0          0            0              1           0   \n",
       "2   180      7       1.0          0            0              1           0   \n",
       "3    60      2       1.0          0            0              1           0   \n",
       "4   240     14       1.0          7            7              1           0   \n",
       "\n",
       "  RevLineCr LowDoc ChgOffDate DisbursementDate DisbursementGross BalanceGross  \\\n",
       "0         N      Y        NaN        28-Feb-99       $60,000.00        $0.00    \n",
       "1         N      Y        NaN        31-May-97       $40,000.00        $0.00    \n",
       "2         N      N        NaN        31-Dec-97      $287,000.00        $0.00    \n",
       "3         N      Y        NaN        30-Jun-97       $35,000.00        $0.00    \n",
       "4         N      N        NaN        14-May-97      $229,000.00        $0.00    \n",
       "\n",
       "  MIS_Status ChgOffPrinGr        GrAppv      SBA_Appv  \n",
       "0      P I F       $0.00    $60,000.00    $48,000.00   \n",
       "1      P I F       $0.00    $40,000.00    $32,000.00   \n",
       "2      P I F       $0.00   $287,000.00   $215,250.00   \n",
       "3      P I F       $0.00    $35,000.00    $28,000.00   \n",
       "4      P I F       $0.00   $229,000.00   $229,000.00   "
      ]
     },
     "execution_count": 3,
     "metadata": {},
     "output_type": "execute_result"
    }
   ],
   "source": [
    "# Inspect the dataframe. Scroll to see all columns.\n",
    "pd.set_option('display.max_columns', None)\n",
    "df.head()"
   ]
  },
  {
   "cell_type": "markdown",
   "id": "6c29ab04",
   "metadata": {},
   "source": [
    "### Set column names and data types"
   ]
  },
  {
   "cell_type": "markdown",
   "id": "5eccce80",
   "metadata": {},
   "source": [
    "The column names are mostly reasonable. For convenience, we rename `LoanNr_ChkDgt` to `ID`"
   ]
  },
  {
   "cell_type": "code",
   "execution_count": 4,
   "id": "eb8fa1ae",
   "metadata": {},
   "outputs": [],
   "source": [
    "df = df.rename({'LoanNr_ChkDgt': 'ID'})"
   ]
  },
  {
   "cell_type": "markdown",
   "id": "2f17b490",
   "metadata": {},
   "source": [
    "We include some additional information from Li, Mickel and Taylor about the less-intuitive column names.\n",
    "- **NAICS:** Industry classification code.\n",
    "- **Term:** Loan term (months)\n",
    "- **NoEmp:** Number of employees\n",
    "- **NewExist:** `1` for a business that has existed more than two years, `2` for one that has not.\n",
    "- **FranchiseCode:** Both 00000 and 00001 mean \"no franchise.\"\n",
    "- **UrbanRural:** `1` for urban, `2` for rural, `0` for undefined.\n",
    "- **LowDoc:** Whether a low-document application was used (good for loans under \\$150,000."
   ]
  },
  {
   "cell_type": "code",
   "execution_count": 5,
   "id": "81706a68",
   "metadata": {},
   "outputs": [],
   "source": [
    "## List columns that should be converted to each Data Type.\n",
    "all_cols = list(df.columns)\n",
    "date_cols = ['ApprovalDate', 'ApprovalFY', 'ChgOffDate', 'DisbursementDate']\n",
    "int_cols = ['Term', 'NoEmp', 'CreateJob','RetainedJob']\n",
    "float_cols = ['DisbursementGross', 'BalanceGross', 'GrAppv', 'SBA_Appv', 'ChgOffPrinGr']\n",
    "cat_cols = list(set(all_cols) - set(date_cols + int_cols + float_cols))"
   ]
  },
  {
   "cell_type": "code",
   "execution_count": 6,
   "id": "ae7f7913",
   "metadata": {
    "scrolled": true
   },
   "outputs": [],
   "source": [
    "df[cat_cols] = df[cat_cols].apply(lambda x : x.astype('category'))\n",
    "df[int_cols] = df[int_cols].apply(lambda x : x.astype('int'))"
   ]
  },
  {
   "cell_type": "code",
   "execution_count": 7,
   "id": "670962b0",
   "metadata": {},
   "outputs": [],
   "source": [
    "## Before being converted to float, the columns with dollar amounts must be cleaned to remove special characters.\n",
    "df[float_cols] = df[float_cols].apply(lambda x: x.str.strip(\"$\"))\n",
    "df[float_cols] = df[float_cols].apply(lambda x: x.str.replace(\",\", \"\"))\n",
    "df[float_cols] = df[float_cols].apply(lambda x: x.astype('float'))"
   ]
  },
  {
   "cell_type": "code",
   "execution_count": 8,
   "id": "8e05edba",
   "metadata": {},
   "outputs": [],
   "source": [
    "# Some loans are listed as \n",
    "df['ApprovalFY'] = df['ApprovalFY'].str.strip(\"A\")\n",
    "df[date_cols] = df[date_cols].apply(lambda x: pd.to_datetime(x, infer_datetime_format = True))"
   ]
  },
  {
   "cell_type": "code",
   "execution_count": 9,
   "id": "e276de54",
   "metadata": {},
   "outputs": [
    {
     "name": "stdout",
     "output_type": "stream",
     "text": [
      "<class 'pandas.core.frame.DataFrame'>\n",
      "Int64Index: 899164 entries, 0 to 899163\n",
      "Data columns (total 27 columns):\n",
      " #   Column             Non-Null Count   Dtype         \n",
      "---  ------             --------------   -----         \n",
      " 0   LoanNr_ChkDgt      899164 non-null  category      \n",
      " 1   Name               899150 non-null  category      \n",
      " 2   City               899134 non-null  category      \n",
      " 3   State              899150 non-null  category      \n",
      " 4   Zip                899164 non-null  category      \n",
      " 5   Bank               897605 non-null  category      \n",
      " 6   BankState          897598 non-null  category      \n",
      " 7   NAICS              899164 non-null  category      \n",
      " 8   ApprovalDate       899164 non-null  datetime64[ns]\n",
      " 9   ApprovalFY         899164 non-null  datetime64[ns]\n",
      " 10  Term               899164 non-null  int64         \n",
      " 11  NoEmp              899164 non-null  int64         \n",
      " 12  NewExist           899028 non-null  category      \n",
      " 13  CreateJob          899164 non-null  int64         \n",
      " 14  RetainedJob        899164 non-null  int64         \n",
      " 15  FranchiseCode      899164 non-null  category      \n",
      " 16  UrbanRural         899164 non-null  category      \n",
      " 17  RevLineCr          894636 non-null  category      \n",
      " 18  LowDoc             896582 non-null  category      \n",
      " 19  ChgOffDate         162699 non-null  datetime64[ns]\n",
      " 20  DisbursementDate   896796 non-null  datetime64[ns]\n",
      " 21  DisbursementGross  899164 non-null  float64       \n",
      " 22  BalanceGross       899164 non-null  float64       \n",
      " 23  MIS_Status         897167 non-null  category      \n",
      " 24  ChgOffPrinGr       899164 non-null  float64       \n",
      " 25  GrAppv             899164 non-null  float64       \n",
      " 26  SBA_Appv           899164 non-null  float64       \n",
      "dtypes: category(14), datetime64[ns](4), float64(5), int64(4)\n",
      "memory usage: 183.2 MB\n"
     ]
    },
    {
     "data": {
      "text/html": [
       "<div>\n",
       "<style scoped>\n",
       "    .dataframe tbody tr th:only-of-type {\n",
       "        vertical-align: middle;\n",
       "    }\n",
       "\n",
       "    .dataframe tbody tr th {\n",
       "        vertical-align: top;\n",
       "    }\n",
       "\n",
       "    .dataframe thead th {\n",
       "        text-align: right;\n",
       "    }\n",
       "</style>\n",
       "<table border=\"1\" class=\"dataframe\">\n",
       "  <thead>\n",
       "    <tr style=\"text-align: right;\">\n",
       "      <th></th>\n",
       "      <th>LoanNr_ChkDgt</th>\n",
       "      <th>Name</th>\n",
       "      <th>City</th>\n",
       "      <th>State</th>\n",
       "      <th>Zip</th>\n",
       "      <th>Bank</th>\n",
       "      <th>BankState</th>\n",
       "      <th>NAICS</th>\n",
       "      <th>ApprovalDate</th>\n",
       "      <th>ApprovalFY</th>\n",
       "      <th>Term</th>\n",
       "      <th>NoEmp</th>\n",
       "      <th>NewExist</th>\n",
       "      <th>CreateJob</th>\n",
       "      <th>RetainedJob</th>\n",
       "      <th>FranchiseCode</th>\n",
       "      <th>UrbanRural</th>\n",
       "      <th>RevLineCr</th>\n",
       "      <th>LowDoc</th>\n",
       "      <th>ChgOffDate</th>\n",
       "      <th>DisbursementDate</th>\n",
       "      <th>DisbursementGross</th>\n",
       "      <th>BalanceGross</th>\n",
       "      <th>MIS_Status</th>\n",
       "      <th>ChgOffPrinGr</th>\n",
       "      <th>GrAppv</th>\n",
       "      <th>SBA_Appv</th>\n",
       "    </tr>\n",
       "  </thead>\n",
       "  <tbody>\n",
       "    <tr>\n",
       "      <th>0</th>\n",
       "      <td>1000014003</td>\n",
       "      <td>ABC HOBBYCRAFT</td>\n",
       "      <td>EVANSVILLE</td>\n",
       "      <td>IN</td>\n",
       "      <td>47711</td>\n",
       "      <td>FIFTH THIRD BANK</td>\n",
       "      <td>OH</td>\n",
       "      <td>451120</td>\n",
       "      <td>1997-02-28</td>\n",
       "      <td>1997-01-01</td>\n",
       "      <td>84</td>\n",
       "      <td>4</td>\n",
       "      <td>2.0</td>\n",
       "      <td>0</td>\n",
       "      <td>0</td>\n",
       "      <td>1</td>\n",
       "      <td>0</td>\n",
       "      <td>N</td>\n",
       "      <td>Y</td>\n",
       "      <td>NaT</td>\n",
       "      <td>1999-02-28</td>\n",
       "      <td>60000.0</td>\n",
       "      <td>0.0</td>\n",
       "      <td>P I F</td>\n",
       "      <td>0.0</td>\n",
       "      <td>60000.0</td>\n",
       "      <td>48000.0</td>\n",
       "    </tr>\n",
       "    <tr>\n",
       "      <th>1</th>\n",
       "      <td>1000024006</td>\n",
       "      <td>LANDMARK BAR &amp; GRILLE (THE)</td>\n",
       "      <td>NEW PARIS</td>\n",
       "      <td>IN</td>\n",
       "      <td>46526</td>\n",
       "      <td>1ST SOURCE BANK</td>\n",
       "      <td>IN</td>\n",
       "      <td>722410</td>\n",
       "      <td>1997-02-28</td>\n",
       "      <td>1997-01-01</td>\n",
       "      <td>60</td>\n",
       "      <td>2</td>\n",
       "      <td>2.0</td>\n",
       "      <td>0</td>\n",
       "      <td>0</td>\n",
       "      <td>1</td>\n",
       "      <td>0</td>\n",
       "      <td>N</td>\n",
       "      <td>Y</td>\n",
       "      <td>NaT</td>\n",
       "      <td>1997-05-31</td>\n",
       "      <td>40000.0</td>\n",
       "      <td>0.0</td>\n",
       "      <td>P I F</td>\n",
       "      <td>0.0</td>\n",
       "      <td>40000.0</td>\n",
       "      <td>32000.0</td>\n",
       "    </tr>\n",
       "    <tr>\n",
       "      <th>2</th>\n",
       "      <td>1000034009</td>\n",
       "      <td>WHITLOCK DDS, TODD M.</td>\n",
       "      <td>BLOOMINGTON</td>\n",
       "      <td>IN</td>\n",
       "      <td>47401</td>\n",
       "      <td>GRANT COUNTY STATE BANK</td>\n",
       "      <td>IN</td>\n",
       "      <td>621210</td>\n",
       "      <td>1997-02-28</td>\n",
       "      <td>1997-01-01</td>\n",
       "      <td>180</td>\n",
       "      <td>7</td>\n",
       "      <td>1.0</td>\n",
       "      <td>0</td>\n",
       "      <td>0</td>\n",
       "      <td>1</td>\n",
       "      <td>0</td>\n",
       "      <td>N</td>\n",
       "      <td>N</td>\n",
       "      <td>NaT</td>\n",
       "      <td>1997-12-31</td>\n",
       "      <td>287000.0</td>\n",
       "      <td>0.0</td>\n",
       "      <td>P I F</td>\n",
       "      <td>0.0</td>\n",
       "      <td>287000.0</td>\n",
       "      <td>215250.0</td>\n",
       "    </tr>\n",
       "    <tr>\n",
       "      <th>3</th>\n",
       "      <td>1000044001</td>\n",
       "      <td>BIG BUCKS PAWN &amp; JEWELRY, LLC</td>\n",
       "      <td>BROKEN ARROW</td>\n",
       "      <td>OK</td>\n",
       "      <td>74012</td>\n",
       "      <td>1ST NATL BK &amp; TR CO OF BROKEN</td>\n",
       "      <td>OK</td>\n",
       "      <td>0</td>\n",
       "      <td>1997-02-28</td>\n",
       "      <td>1997-01-01</td>\n",
       "      <td>60</td>\n",
       "      <td>2</td>\n",
       "      <td>1.0</td>\n",
       "      <td>0</td>\n",
       "      <td>0</td>\n",
       "      <td>1</td>\n",
       "      <td>0</td>\n",
       "      <td>N</td>\n",
       "      <td>Y</td>\n",
       "      <td>NaT</td>\n",
       "      <td>1997-06-30</td>\n",
       "      <td>35000.0</td>\n",
       "      <td>0.0</td>\n",
       "      <td>P I F</td>\n",
       "      <td>0.0</td>\n",
       "      <td>35000.0</td>\n",
       "      <td>28000.0</td>\n",
       "    </tr>\n",
       "    <tr>\n",
       "      <th>4</th>\n",
       "      <td>1000054004</td>\n",
       "      <td>ANASTASIA CONFECTIONS, INC.</td>\n",
       "      <td>ORLANDO</td>\n",
       "      <td>FL</td>\n",
       "      <td>32801</td>\n",
       "      <td>FLORIDA BUS. DEVEL CORP</td>\n",
       "      <td>FL</td>\n",
       "      <td>0</td>\n",
       "      <td>1997-02-28</td>\n",
       "      <td>1997-01-01</td>\n",
       "      <td>240</td>\n",
       "      <td>14</td>\n",
       "      <td>1.0</td>\n",
       "      <td>7</td>\n",
       "      <td>7</td>\n",
       "      <td>1</td>\n",
       "      <td>0</td>\n",
       "      <td>N</td>\n",
       "      <td>N</td>\n",
       "      <td>NaT</td>\n",
       "      <td>1997-05-14</td>\n",
       "      <td>229000.0</td>\n",
       "      <td>0.0</td>\n",
       "      <td>P I F</td>\n",
       "      <td>0.0</td>\n",
       "      <td>229000.0</td>\n",
       "      <td>229000.0</td>\n",
       "    </tr>\n",
       "  </tbody>\n",
       "</table>\n",
       "</div>"
      ],
      "text/plain": [
       "  LoanNr_ChkDgt                           Name          City State    Zip  \\\n",
       "0    1000014003                 ABC HOBBYCRAFT    EVANSVILLE    IN  47711   \n",
       "1    1000024006    LANDMARK BAR & GRILLE (THE)     NEW PARIS    IN  46526   \n",
       "2    1000034009          WHITLOCK DDS, TODD M.   BLOOMINGTON    IN  47401   \n",
       "3    1000044001  BIG BUCKS PAWN & JEWELRY, LLC  BROKEN ARROW    OK  74012   \n",
       "4    1000054004    ANASTASIA CONFECTIONS, INC.       ORLANDO    FL  32801   \n",
       "\n",
       "                            Bank BankState   NAICS ApprovalDate ApprovalFY  \\\n",
       "0               FIFTH THIRD BANK        OH  451120   1997-02-28 1997-01-01   \n",
       "1                1ST SOURCE BANK        IN  722410   1997-02-28 1997-01-01   \n",
       "2        GRANT COUNTY STATE BANK        IN  621210   1997-02-28 1997-01-01   \n",
       "3  1ST NATL BK & TR CO OF BROKEN        OK       0   1997-02-28 1997-01-01   \n",
       "4        FLORIDA BUS. DEVEL CORP        FL       0   1997-02-28 1997-01-01   \n",
       "\n",
       "   Term  NoEmp NewExist  CreateJob  RetainedJob FranchiseCode UrbanRural  \\\n",
       "0    84      4      2.0          0            0             1          0   \n",
       "1    60      2      2.0          0            0             1          0   \n",
       "2   180      7      1.0          0            0             1          0   \n",
       "3    60      2      1.0          0            0             1          0   \n",
       "4   240     14      1.0          7            7             1          0   \n",
       "\n",
       "  RevLineCr LowDoc ChgOffDate DisbursementDate  DisbursementGross  \\\n",
       "0         N      Y        NaT       1999-02-28            60000.0   \n",
       "1         N      Y        NaT       1997-05-31            40000.0   \n",
       "2         N      N        NaT       1997-12-31           287000.0   \n",
       "3         N      Y        NaT       1997-06-30            35000.0   \n",
       "4         N      N        NaT       1997-05-14           229000.0   \n",
       "\n",
       "   BalanceGross MIS_Status  ChgOffPrinGr    GrAppv  SBA_Appv  \n",
       "0           0.0      P I F           0.0   60000.0   48000.0  \n",
       "1           0.0      P I F           0.0   40000.0   32000.0  \n",
       "2           0.0      P I F           0.0  287000.0  215250.0  \n",
       "3           0.0      P I F           0.0   35000.0   28000.0  \n",
       "4           0.0      P I F           0.0  229000.0  229000.0  "
      ]
     },
     "execution_count": 9,
     "metadata": {},
     "output_type": "execute_result"
    }
   ],
   "source": [
    "# We check that data types have been converted successfully, and \n",
    "df.info()\n",
    "df.head()"
   ]
  },
  {
   "cell_type": "markdown",
   "id": "c0ff2f1b",
   "metadata": {},
   "source": [
    "### Distribution of categorical variables"
   ]
  },
  {
   "cell_type": "markdown",
   "id": "44f9af57",
   "metadata": {},
   "source": [
    "We examine the categorical variables. How many values does each one have? What percentage of those values are unique?"
   ]
  },
  {
   "cell_type": "code",
   "execution_count": 10,
   "id": "60822d42",
   "metadata": {},
   "outputs": [],
   "source": [
    "categorical = df[cat_cols]"
   ]
  },
  {
   "cell_type": "code",
   "execution_count": 11,
   "id": "de62ed42",
   "metadata": {
    "scrolled": false
   },
   "outputs": [
    {
     "data": {
      "text/html": [
       "<div>\n",
       "<style scoped>\n",
       "    .dataframe tbody tr th:only-of-type {\n",
       "        vertical-align: middle;\n",
       "    }\n",
       "\n",
       "    .dataframe tbody tr th {\n",
       "        vertical-align: top;\n",
       "    }\n",
       "\n",
       "    .dataframe thead th {\n",
       "        text-align: right;\n",
       "    }\n",
       "</style>\n",
       "<table border=\"1\" class=\"dataframe\">\n",
       "  <thead>\n",
       "    <tr style=\"text-align: right;\">\n",
       "      <th></th>\n",
       "      <th>count</th>\n",
       "      <th>percent</th>\n",
       "    </tr>\n",
       "  </thead>\n",
       "  <tbody>\n",
       "    <tr>\n",
       "      <th>MIS_Status</th>\n",
       "      <td>2</td>\n",
       "      <td>0.000002</td>\n",
       "    </tr>\n",
       "    <tr>\n",
       "      <th>UrbanRural</th>\n",
       "      <td>3</td>\n",
       "      <td>0.000003</td>\n",
       "    </tr>\n",
       "    <tr>\n",
       "      <th>NewExist</th>\n",
       "      <td>3</td>\n",
       "      <td>0.000003</td>\n",
       "    </tr>\n",
       "    <tr>\n",
       "      <th>LowDoc</th>\n",
       "      <td>8</td>\n",
       "      <td>0.000009</td>\n",
       "    </tr>\n",
       "    <tr>\n",
       "      <th>RevLineCr</th>\n",
       "      <td>18</td>\n",
       "      <td>0.000020</td>\n",
       "    </tr>\n",
       "    <tr>\n",
       "      <th>State</th>\n",
       "      <td>51</td>\n",
       "      <td>0.000057</td>\n",
       "    </tr>\n",
       "    <tr>\n",
       "      <th>BankState</th>\n",
       "      <td>56</td>\n",
       "      <td>0.000062</td>\n",
       "    </tr>\n",
       "    <tr>\n",
       "      <th>NAICS</th>\n",
       "      <td>1312</td>\n",
       "      <td>0.001459</td>\n",
       "    </tr>\n",
       "    <tr>\n",
       "      <th>FranchiseCode</th>\n",
       "      <td>2768</td>\n",
       "      <td>0.003078</td>\n",
       "    </tr>\n",
       "    <tr>\n",
       "      <th>Bank</th>\n",
       "      <td>5802</td>\n",
       "      <td>0.006453</td>\n",
       "    </tr>\n",
       "    <tr>\n",
       "      <th>City</th>\n",
       "      <td>32581</td>\n",
       "      <td>0.036235</td>\n",
       "    </tr>\n",
       "    <tr>\n",
       "      <th>Zip</th>\n",
       "      <td>33611</td>\n",
       "      <td>0.037380</td>\n",
       "    </tr>\n",
       "    <tr>\n",
       "      <th>Name</th>\n",
       "      <td>779583</td>\n",
       "      <td>0.867009</td>\n",
       "    </tr>\n",
       "    <tr>\n",
       "      <th>LoanNr_ChkDgt</th>\n",
       "      <td>899164</td>\n",
       "      <td>1.000000</td>\n",
       "    </tr>\n",
       "  </tbody>\n",
       "</table>\n",
       "</div>"
      ],
      "text/plain": [
       "                count   percent\n",
       "MIS_Status          2  0.000002\n",
       "UrbanRural          3  0.000003\n",
       "NewExist            3  0.000003\n",
       "LowDoc              8  0.000009\n",
       "RevLineCr          18  0.000020\n",
       "State              51  0.000057\n",
       "BankState          56  0.000062\n",
       "NAICS            1312  0.001459\n",
       "FranchiseCode    2768  0.003078\n",
       "Bank             5802  0.006453\n",
       "City            32581  0.036235\n",
       "Zip             33611  0.037380\n",
       "Name           779583  0.867009\n",
       "LoanNr_ChkDgt  899164  1.000000"
      ]
     },
     "execution_count": 11,
     "metadata": {},
     "output_type": "execute_result"
    }
   ],
   "source": [
    "unique_vals = pd.concat([categorical.nunique(), categorical.nunique()/categorical.shape[0]], axis=1)\n",
    "unique_vals.columns = [\"count\", \"percent\"]\n",
    "unique_vals.sort_values(by = 'count')"
   ]
  },
  {
   "cell_type": "markdown",
   "id": "9daed77d",
   "metadata": {},
   "source": [
    "Notice that name has many repeats. This may be a case of different franchises from the same chain getting loans. Also, some of our columns need cleaning! The columns `NewExist`, `LowDoc` and `RevLineCr` should each have only two values. We examine each of these below."
   ]
  },
  {
   "cell_type": "code",
   "execution_count": 12,
   "id": "c553a92a",
   "metadata": {},
   "outputs": [
    {
     "data": {
      "text/plain": [
       "1.0    644869\n",
       "2.0    253125\n",
       "0.0      1034\n",
       "Name: NewExist, dtype: int64"
      ]
     },
     "execution_count": 12,
     "metadata": {},
     "output_type": "execute_result"
    }
   ],
   "source": [
    "## Examine the NewExist column\n",
    "df['NewExist'].value_counts()"
   ]
  },
  {
   "cell_type": "markdown",
   "id": "f32661af",
   "metadata": {},
   "source": [
    "It appears that the value `0.0` means unknown or missing in this column. We replace these values with `NaN.'"
   ]
  },
  {
   "cell_type": "code",
   "execution_count": 13,
   "id": "cfb5df40",
   "metadata": {},
   "outputs": [],
   "source": [
    "df.loc[df['NewExist'] == 0.0, 'NewExist'] = np.NaN"
   ]
  },
  {
   "cell_type": "code",
   "execution_count": 14,
   "id": "2418752c",
   "metadata": {},
   "outputs": [
    {
     "data": {
      "text/plain": [
       "N    782822\n",
       "Y    110335\n",
       "0      1491\n",
       "C       758\n",
       "S       603\n",
       "A       497\n",
       "R        75\n",
       "1         1\n",
       "Name: LowDoc, dtype: int64"
      ]
     },
     "execution_count": 14,
     "metadata": {},
     "output_type": "execute_result"
    }
   ],
   "source": [
    "## Examine the LowDoc column.\n",
    "df['LowDoc'].value_counts()"
   ]
  },
  {
   "cell_type": "code",
   "execution_count": 15,
   "id": "82fbe2f7",
   "metadata": {},
   "outputs": [],
   "source": [
    "df.loc[~df['LowDoc'].isin(['N', 'Y']), 'LowDoc'] = np.NaN"
   ]
  },
  {
   "cell_type": "code",
   "execution_count": 16,
   "id": "4eeffe16",
   "metadata": {},
   "outputs": [
    {
     "data": {
      "text/plain": [
       "N    782822\n",
       "Y    110335\n",
       "0         0\n",
       "1         0\n",
       "A         0\n",
       "C         0\n",
       "R         0\n",
       "S         0\n",
       "Name: LowDoc, dtype: int64"
      ]
     },
     "execution_count": 16,
     "metadata": {},
     "output_type": "execute_result"
    }
   ],
   "source": [
    "df['LowDoc'].value_counts()"
   ]
  },
  {
   "cell_type": "code",
   "execution_count": 17,
   "id": "c3a41990",
   "metadata": {},
   "outputs": [
    {
     "data": {
      "text/plain": [
       "N    420288\n",
       "0    257602\n",
       "Y    201397\n",
       "T     15284\n",
       "1        23\n",
       "R        14\n",
       "`        11\n",
       "2         6\n",
       "C         2\n",
       "Q         1\n",
       ",         1\n",
       "A         1\n",
       "-         1\n",
       "5         1\n",
       "4         1\n",
       "3         1\n",
       ".         1\n",
       "7         1\n",
       "Name: RevLineCr, dtype: int64"
      ]
     },
     "execution_count": 17,
     "metadata": {},
     "output_type": "execute_result"
    }
   ],
   "source": [
    "df['RevLineCr'].value_counts()"
   ]
  },
  {
   "cell_type": "code",
   "execution_count": 23,
   "id": "c590267a",
   "metadata": {
    "scrolled": true
   },
   "outputs": [],
   "source": [
    "df.drop(columns = 'RevLineCr', inplace = True)"
   ]
  },
  {
   "cell_type": "code",
   "execution_count": 24,
   "id": "863dc7e3",
   "metadata": {},
   "outputs": [
    {
     "data": {
      "text/plain": [
       "LoanNr_ChkDgt              category\n",
       "Name                       category\n",
       "City                       category\n",
       "State                      category\n",
       "Zip                        category\n",
       "Bank                       category\n",
       "BankState                  category\n",
       "NAICS                      category\n",
       "ApprovalDate         datetime64[ns]\n",
       "ApprovalFY           datetime64[ns]\n",
       "Term                          int64\n",
       "NoEmp                         int64\n",
       "NewExist                   category\n",
       "CreateJob                     int64\n",
       "RetainedJob                   int64\n",
       "FranchiseCode              category\n",
       "UrbanRural                 category\n",
       "LowDoc                     category\n",
       "ChgOffDate           datetime64[ns]\n",
       "DisbursementDate     datetime64[ns]\n",
       "DisbursementGross           float64\n",
       "BalanceGross                float64\n",
       "MIS_Status                 category\n",
       "ChgOffPrinGr                float64\n",
       "GrAppv                      float64\n",
       "SBA_Appv                    float64\n",
       "dtype: object"
      ]
     },
     "execution_count": 24,
     "metadata": {},
     "output_type": "execute_result"
    }
   ],
   "source": [
    "df.dtypes"
   ]
  },
  {
   "cell_type": "markdown",
   "id": "24252b9a",
   "metadata": {},
   "source": [
    "### Distribution of numerical and date variables"
   ]
  },
  {
   "cell_type": "code",
   "execution_count": 73,
   "id": "f378fb7b",
   "metadata": {},
   "outputs": [
    {
     "data": {
      "text/html": [
       "<div>\n",
       "<style scoped>\n",
       "    .dataframe tbody tr th:only-of-type {\n",
       "        vertical-align: middle;\n",
       "    }\n",
       "\n",
       "    .dataframe tbody tr th {\n",
       "        vertical-align: top;\n",
       "    }\n",
       "\n",
       "    .dataframe thead th {\n",
       "        text-align: right;\n",
       "    }\n",
       "</style>\n",
       "<table border=\"1\" class=\"dataframe\">\n",
       "  <thead>\n",
       "    <tr style=\"text-align: right;\">\n",
       "      <th></th>\n",
       "      <th>count</th>\n",
       "      <th>mean</th>\n",
       "      <th>std</th>\n",
       "      <th>min</th>\n",
       "      <th>25%</th>\n",
       "      <th>50%</th>\n",
       "      <th>75%</th>\n",
       "      <th>max</th>\n",
       "    </tr>\n",
       "  </thead>\n",
       "  <tbody>\n",
       "    <tr>\n",
       "      <th>Term</th>\n",
       "      <td>887905.0</td>\n",
       "      <td>110.174118</td>\n",
       "      <td>78.471919</td>\n",
       "      <td>0.0</td>\n",
       "      <td>60.0</td>\n",
       "      <td>84.0</td>\n",
       "      <td>120.0</td>\n",
       "      <td>569.0</td>\n",
       "    </tr>\n",
       "    <tr>\n",
       "      <th>NoEmp</th>\n",
       "      <td>887905.0</td>\n",
       "      <td>8.908095</td>\n",
       "      <td>12.683576</td>\n",
       "      <td>0.0</td>\n",
       "      <td>2.0</td>\n",
       "      <td>4.0</td>\n",
       "      <td>10.0</td>\n",
       "      <td>99.0</td>\n",
       "    </tr>\n",
       "    <tr>\n",
       "      <th>CreateJob</th>\n",
       "      <td>887905.0</td>\n",
       "      <td>1.867026</td>\n",
       "      <td>7.966461</td>\n",
       "      <td>0.0</td>\n",
       "      <td>0.0</td>\n",
       "      <td>0.0</td>\n",
       "      <td>1.0</td>\n",
       "      <td>800.0</td>\n",
       "    </tr>\n",
       "    <tr>\n",
       "      <th>RetainedJob</th>\n",
       "      <td>887905.0</td>\n",
       "      <td>3.871718</td>\n",
       "      <td>8.820815</td>\n",
       "      <td>0.0</td>\n",
       "      <td>0.0</td>\n",
       "      <td>1.0</td>\n",
       "      <td>4.0</td>\n",
       "      <td>404.0</td>\n",
       "    </tr>\n",
       "    <tr>\n",
       "      <th>DisbursementGross</th>\n",
       "      <td>887905.0</td>\n",
       "      <td>192661.241876</td>\n",
       "      <td>260313.972987</td>\n",
       "      <td>0.0</td>\n",
       "      <td>41000.0</td>\n",
       "      <td>100000.0</td>\n",
       "      <td>230000.0</td>\n",
       "      <td>5294366.0</td>\n",
       "    </tr>\n",
       "    <tr>\n",
       "      <th>BalanceGross</th>\n",
       "      <td>887905.0</td>\n",
       "      <td>3.027255</td>\n",
       "      <td>1451.276682</td>\n",
       "      <td>0.0</td>\n",
       "      <td>0.0</td>\n",
       "      <td>0.0</td>\n",
       "      <td>0.0</td>\n",
       "      <td>996262.0</td>\n",
       "    </tr>\n",
       "    <tr>\n",
       "      <th>ChgOffPrinGr</th>\n",
       "      <td>887905.0</td>\n",
       "      <td>13253.781589</td>\n",
       "      <td>62238.197437</td>\n",
       "      <td>0.0</td>\n",
       "      <td>0.0</td>\n",
       "      <td>0.0</td>\n",
       "      <td>0.0</td>\n",
       "      <td>3512596.0</td>\n",
       "    </tr>\n",
       "    <tr>\n",
       "      <th>GrAppv</th>\n",
       "      <td>887905.0</td>\n",
       "      <td>184223.024371</td>\n",
       "      <td>257517.555609</td>\n",
       "      <td>200.0</td>\n",
       "      <td>35000.0</td>\n",
       "      <td>89000.0</td>\n",
       "      <td>220000.0</td>\n",
       "      <td>1999800.0</td>\n",
       "    </tr>\n",
       "    <tr>\n",
       "      <th>SBA_Appv</th>\n",
       "      <td>887905.0</td>\n",
       "      <td>142796.870849</td>\n",
       "      <td>207903.677390</td>\n",
       "      <td>100.0</td>\n",
       "      <td>21040.0</td>\n",
       "      <td>60000.0</td>\n",
       "      <td>169500.0</td>\n",
       "      <td>1999000.0</td>\n",
       "    </tr>\n",
       "  </tbody>\n",
       "</table>\n",
       "</div>"
      ],
      "text/plain": [
       "                      count           mean            std    min      25%  \\\n",
       "Term               887905.0     110.174118      78.471919    0.0     60.0   \n",
       "NoEmp              887905.0       8.908095      12.683576    0.0      2.0   \n",
       "CreateJob          887905.0       1.867026       7.966461    0.0      0.0   \n",
       "RetainedJob        887905.0       3.871718       8.820815    0.0      0.0   \n",
       "DisbursementGross  887905.0  192661.241876  260313.972987    0.0  41000.0   \n",
       "BalanceGross       887905.0       3.027255    1451.276682    0.0      0.0   \n",
       "ChgOffPrinGr       887905.0   13253.781589   62238.197437    0.0      0.0   \n",
       "GrAppv             887905.0  184223.024371  257517.555609  200.0  35000.0   \n",
       "SBA_Appv           887905.0  142796.870849  207903.677390  100.0  21040.0   \n",
       "\n",
       "                        50%       75%        max  \n",
       "Term                   84.0     120.0      569.0  \n",
       "NoEmp                   4.0      10.0       99.0  \n",
       "CreateJob               0.0       1.0      800.0  \n",
       "RetainedJob             1.0       4.0      404.0  \n",
       "DisbursementGross  100000.0  230000.0  5294366.0  \n",
       "BalanceGross            0.0       0.0   996262.0  \n",
       "ChgOffPrinGr            0.0       0.0  3512596.0  \n",
       "GrAppv              89000.0  220000.0  1999800.0  \n",
       "SBA_Appv            60000.0  169500.0  1999000.0  "
      ]
     },
     "execution_count": 73,
     "metadata": {},
     "output_type": "execute_result"
    }
   ],
   "source": [
    "df.describe().T"
   ]
  },
  {
   "cell_type": "code",
   "execution_count": 25,
   "id": "c92c7aad",
   "metadata": {
    "scrolled": true
   },
   "outputs": [
    {
     "data": {
      "image/png": "[encoded data removed]",
      "text/plain": [
       "<Figure size 1440x1080 with 16 Axes>"
      ]
     },
     "metadata": {
      "needs_background": "light"
     },
     "output_type": "display_data"
    }
   ],
   "source": [
    "df.hist(figsize = (20, 15))\n",
    "plt.subplots_adjust(hspace=0.5)"
   ]
  },
  {
   "cell_type": "code",
   "execution_count": 39,
   "id": "4def46e8",
   "metadata": {},
   "outputs": [],
   "source": [
    "df = df.loc[df['ApprovalDate'] < dt.datetime.strptime(\"31-12-2014\", \"%d-%m-%Y\")]"
   ]
  },
  {
   "cell_type": "code",
   "execution_count": 54,
   "id": "475eb009",
   "metadata": {},
   "outputs": [],
   "source": [
    "df = df.loc[(df['NoEmp'] < 500) & (df['GrAppv'] < 2 * 10**6)]"
   ]
  },
  {
   "cell_type": "code",
   "execution_count": 59,
   "id": "32e54930",
   "metadata": {},
   "outputs": [],
   "source": [
    "df = df.loc[(df['CreateJob'] < 1000) & (df['RetainedJob'] < 500)]"
   ]
  },
  {
   "cell_type": "code",
   "execution_count": 72,
   "id": "7f2b84e3",
   "metadata": {},
   "outputs": [
    {
     "data": {
      "image/png": "[encoded data removed]",
      "text/plain": [
       "<Figure size 1440x1080 with 16 Axes>"
      ]
     },
     "metadata": {
      "needs_background": "light"
     },
     "output_type": "display_data"
    }
   ],
   "source": [
    "df.hist(figsize = (20, 15))\n",
    "plt.subplots_adjust(hspace=0.5)"
   ]
  },
  {
   "cell_type": "code",
   "execution_count": 65,
   "id": "2efb5dd5",
   "metadata": {},
   "outputs": [
    {
     "data": {
      "text/plain": [
       "(136, 26)"
      ]
     },
     "execution_count": 65,
     "metadata": {},
     "output_type": "execute_result"
    }
   ],
   "source": [
    "df[df['RetainedJob'] > 100].shape"
   ]
  },
  {
   "cell_type": "markdown",
   "id": "aa74755a",
   "metadata": {},
   "source": [
    "### Check for missing data"
   ]
  },
  {
   "cell_type": "code",
   "execution_count": 75,
   "id": "37b58649",
   "metadata": {},
   "outputs": [
    {
     "data": {
      "text/plain": [
       "LoanNr_ChkDgt             0\n",
       "Name                     14\n",
       "City                     30\n",
       "State                    13\n",
       "Zip                       0\n",
       "Bank                   1533\n",
       "BankState              1540\n",
       "NAICS                     0\n",
       "ApprovalDate              0\n",
       "ApprovalFY                0\n",
       "Term                      0\n",
       "NoEmp                     0\n",
       "NewExist               1135\n",
       "CreateJob                 0\n",
       "RetainedJob               0\n",
       "FranchiseCode             0\n",
       "UrbanRural                0\n",
       "LowDoc                 5948\n",
       "ChgOffDate           726144\n",
       "DisbursementDate       2339\n",
       "DisbursementGross         0\n",
       "BalanceGross              0\n",
       "MIS_Status             1951\n",
       "ChgOffPrinGr              0\n",
       "GrAppv                    0\n",
       "SBA_Appv                  0\n",
       "dtype: int64"
      ]
     },
     "execution_count": 75,
     "metadata": {},
     "output_type": "execute_result"
    }
   ],
   "source": [
    "df.isna().sum()"
   ]
  },
  {
   "cell_type": "code",
   "execution_count": null,
   "id": "3327b576",
   "metadata": {},
   "outputs": [],
   "source": []
  }
 ],
 "metadata": {
  "kernelspec": {
   "display_name": "Python 3",
   "language": "python",
   "name": "python3"
  },
  "language_info": {
   "codemirror_mode": {
    "name": "ipython",
    "version": 3
   },
   "file_extension": ".py",
   "mimetype": "text/x-python",
   "name": "python",
   "nbconvert_exporter": "python",
   "pygments_lexer": "ipython3",
   "version": "3.8.8"
  }
 },
 "nbformat": 4,
 "nbformat_minor": 5
}
